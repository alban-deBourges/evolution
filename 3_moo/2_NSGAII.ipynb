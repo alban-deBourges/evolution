{
 "cells": [
  {
   "cell_type": "markdown",
   "metadata": {
    "slideshow": {
     "slide_type": "slide"
    }
   },
   "source": [
    "<img src=\"../imgs/logo.png\" width=\"20%\" align=\"right\" style=\"margin:0px 20px\">\n",
    "\n",
    "\n",
    "# Evolutionary Computation\n",
    "\n",
    "## 3.2 NSGA-II\n",
    "\n",
    "<a rel=\"license\" href=\"http://creativecommons.org/licenses/by-sa/4.0/\"><img alt=\"Creative Commons License\" align=\"left\" src=\"https://i.creativecommons.org/l/by-sa/4.0/80x15.png\" /></a>&nbsp;| Dennis G. Wilson | <a href=\"https://d9w.github.io/evolution/\">https://d9w.github.io/evolution/</a>"
   ]
  },
  {
   "cell_type": "markdown",
   "metadata": {
    "slideshow": {
     "slide_type": "slide"
    }
   },
   "source": [
    "## Outline\n",
    "\n",
    "1. [The Knapsack Problem](#knapsack)\n",
    "2. [Evolution](#evolution)\n",
    "3. [Visualization](#visualization)"
   ]
  },
  {
   "cell_type": "code",
   "execution_count": 33,
   "metadata": {
    "slideshow": {
     "slide_type": "slide"
    }
   },
   "outputs": [],
   "source": [
    "using NSGAII\n",
    "using JuMP, GLPK\n",
    "using Plots\n",
    "default(show=:ijulia)"
   ]
  },
  {
   "cell_type": "markdown",
   "metadata": {
    "slideshow": {
     "slide_type": "fragment"
    }
   },
   "source": [
    "To experiment with NSGAII we'll be using a rather new implementation of it from Github: https://github.com/gsoleilhac/NSGAII.jl/.\n",
    "\n",
    "This implementation isn't so complicated and if we look at the code, we can see that much of it resembles our [notebook code](https://github.com/d9w/evolution/blob/master/2_ga/1_GAs.ipynb) on Genetic Algorithms. Let's look at the [functions](https://github.com/gsoleilhac/NSGAII.jl/blob/master/src/functions.jl) code which contains the main Genetic Algorithm loop, as well as the [NSGA-II](http://repository.ias.ac.in/83498/1/2-a.pdf) Fast Non-Dominated Sort and Crowding Distance Algorithm."
   ]
  },
  {
   "cell_type": "markdown",
   "metadata": {
    "slideshow": {
     "slide_type": "slide"
    }
   },
   "source": [
    "## <a id=\"knapsack\"></a>The Knapsack Problem"
   ]
  },
  {
   "cell_type": "markdown",
   "metadata": {
    "slideshow": {
     "slide_type": "fragment"
    }
   },
   "source": [
    "<img src=\"https://imgs.xkcd.com/comics/np_complete.png\">\n",
    "<div style=\"text-align:center\"><a href=\"https://xkcd.com/287/\">XKCD on the Knapsack Problem</a></div>\n"
   ]
  },
  {
   "cell_type": "markdown",
   "metadata": {
    "slideshow": {
     "slide_type": "slide"
    }
   },
   "source": [
    "Imagine we're travelling and our bag has a maximum weight limit. We want to fill this bag with items of different value and maximize the total value in our bag, as long as it stays in the weight limit. This is known as the \"knapsack problem\".\n",
    "<img src=\"../imgs/knapsack.png\" width=\"30%\" height=\"auto\">\n",
    "Instead of a bag with items, you could imagine a scenario like the comic. You want to order different appetizers, but you only want to spend a fixed maximum amount. How can you get the best appetizers?"
   ]
  },
  {
   "cell_type": "markdown",
   "metadata": {
    "slideshow": {
     "slide_type": "slide"
    }
   },
   "source": [
    "Let's look at an example, specifically using the version of the Knapsack problem known as the \"0-1 knapsack problem\" where we can have at most 1 copy of each item. We'll use 5 items and randomly geneate values for them."
   ]
  },
  {
   "cell_type": "code",
   "execution_count": 19,
   "metadata": {
    "slideshow": {
     "slide_type": "fragment"
    }
   },
   "outputs": [
    {
     "name": "stdout",
     "output_type": "stream",
     "text": [
      "[67, 82, 19, 36, 9] total value: 213\n"
     ]
    }
   ],
   "source": [
    "n = 5\n",
    "values = rand(0:100, n)\n",
    "println(values, \" total value: \", sum(values))"
   ]
  },
  {
   "cell_type": "code",
   "execution_count": 20,
   "metadata": {
    "slideshow": {
     "slide_type": "fragment"
    }
   },
   "outputs": [
    {
     "name": "stdout",
     "output_type": "stream",
     "text": [
      "[14, 20, 13, 12, 10] total weight: 69\n"
     ]
    }
   ],
   "source": [
    "weights = rand(10:20, n)\n",
    "max_weight = 55\n",
    "println(weights, \" total weight: \", sum(weights))"
   ]
  },
  {
   "cell_type": "markdown",
   "metadata": {
    "slideshow": {
     "slide_type": "fragment"
    }
   },
   "source": [
    "We won't be able to take all items because of the maximum weight of 55. We'll express our choice of items using a binary string, 1 if we take the item and 0 otherwise."
   ]
  },
  {
   "cell_type": "code",
   "execution_count": 21,
   "metadata": {
    "slideshow": {
     "slide_type": "fragment"
    }
   },
   "outputs": [
    {
     "name": "stdout",
     "output_type": "stream",
     "text": [
      "Bool[0, 0, 0, 1, 1]\n"
     ]
    }
   ],
   "source": [
    "using Random: bitrand\n",
    "choices = bitrand(n)\n",
    "println(choices)"
   ]
  },
  {
   "cell_type": "markdown",
   "metadata": {
    "slideshow": {
     "slide_type": "slide"
    }
   },
   "source": [
    "The total value of our knapsack is therefore the sum of the element-wise multiplication of our choices and the individual item values."
   ]
  },
  {
   "cell_type": "code",
   "execution_count": 22,
   "metadata": {
    "slideshow": {
     "slide_type": "fragment"
    }
   },
   "outputs": [
    {
     "data": {
      "text/plain": [
       "45"
      ]
     },
     "execution_count": 22,
     "metadata": {},
     "output_type": "execute_result"
    }
   ],
   "source": [
    "sum(choices .* values)"
   ]
  },
  {
   "cell_type": "markdown",
   "metadata": {
    "slideshow": {
     "slide_type": "fragment"
    }
   },
   "source": [
    "In other words, the dot product of the two vectors."
   ]
  },
  {
   "cell_type": "code",
   "execution_count": 23,
   "metadata": {
    "slideshow": {
     "slide_type": "fragment"
    }
   },
   "outputs": [
    {
     "data": {
      "text/plain": [
       "45"
      ]
     },
     "execution_count": 23,
     "metadata": {},
     "output_type": "execute_result"
    }
   ],
   "source": [
    "using LinearAlgebra: dot\n",
    "dot(choices, values)"
   ]
  },
  {
   "cell_type": "markdown",
   "metadata": {
    "slideshow": {
     "slide_type": "fragment"
    }
   },
   "source": [
    "We can also use the dot product to check if our choices fall under the weight limit"
   ]
  },
  {
   "cell_type": "code",
   "execution_count": 24,
   "metadata": {
    "slideshow": {
     "slide_type": "fragment"
    }
   },
   "outputs": [
    {
     "data": {
      "text/plain": [
       "(22, 55)"
      ]
     },
     "execution_count": 24,
     "metadata": {},
     "output_type": "execute_result"
    }
   ],
   "source": [
    "dot(choices, weights), max_weight"
   ]
  },
  {
   "cell_type": "markdown",
   "metadata": {
    "slideshow": {
     "slide_type": "slide"
    }
   },
   "source": [
    "Let's say you and a friend are travelling together and to make it cheaper, you're sharing a bag. You and your friend assign different values to each item based on what you want to bring on the trip. Your preferences are in `values` and your friends preferences are:"
   ]
  },
  {
   "cell_type": "code",
   "execution_count": 25,
   "metadata": {
    "slideshow": {
     "slide_type": "fragment"
    }
   },
   "outputs": [
    {
     "name": "stdout",
     "output_type": "stream",
     "text": [
      "You:\t[67, 82, 19, 36, 9] total value: 213\n",
      "Friend:\t[63, 65, 0, 63, 44] total value: 235\n"
     ]
    }
   ],
   "source": [
    "values2 = rand(0:100, n)\n",
    "println(\"You:\\t\", values, \" total value: \", sum(values))\n",
    "println(\"Friend:\\t\", values2, \" total value: \", sum(values2))"
   ]
  },
  {
   "cell_type": "markdown",
   "metadata": {
    "slideshow": {
     "slide_type": "fragment"
    }
   },
   "source": [
    "Let's see who is happier with the choices we made"
   ]
  },
  {
   "cell_type": "code",
   "execution_count": 26,
   "metadata": {
    "slideshow": {
     "slide_type": "fragment"
    }
   },
   "outputs": [
    {
     "name": "stdout",
     "output_type": "stream",
     "text": [
      "Bool[0, 0, 1, 0, 1]\n",
      "weight: 23\n",
      "You: 28 Friend: 44\n"
     ]
    }
   ],
   "source": [
    "choices = bitrand(n)\n",
    "println(choices)\n",
    "println(\"weight: \", dot(choices, weights))\n",
    "println(\"You: \", dot(choices, values), \" Friend: \", dot(choices, values2))"
   ]
  },
  {
   "cell_type": "markdown",
   "metadata": {
    "slideshow": {
     "slide_type": "fragment"
    }
   },
   "source": [
    "This is the multi-objective version of the Knapsack problem where we use $K$ different value vectors for $K$ objectives."
   ]
  },
  {
   "cell_type": "markdown",
   "metadata": {
    "slideshow": {
     "slide_type": "slide"
    }
   },
   "source": [
    "[The Knapsack problem](https://en.wikipedia.org/wiki/Knapsack_problem) has been thoroughly studied in theoretical computer science and evolutionary computation is not the only choice for solving it; dynamic programming and mixed integer programming are what [JuMP](https://github.com/JuliaOpt/JuMP.jl), an optimization library, uses."
   ]
  },
  {
   "cell_type": "code",
   "execution_count": 43,
   "metadata": {
    "slideshow": {
     "slide_type": "fragment"
    }
   },
   "outputs": [],
   "source": [
    "# Now in JuMP > 0.19 format\n",
    "m = Model(GLPK.Optimizer)\n",
    "@variable(m, x[1:n], Bin)\n",
    "# Objective: maximize profit\n",
    "@objective(m, Max, dot(values, x))\n",
    "@objective(m, Max, dot(values2, x))\n",
    "# Constraint: can carry all\n",
    "@constraint(m, dot(weights, x) <= max_weight)\n",
    "# Solve problem using MIP solver\n",
    "JuMP.optimize!(m)"
   ]
  },
  {
   "cell_type": "code",
   "execution_count": 44,
   "metadata": {
    "slideshow": {
     "slide_type": "fragment"
    }
   },
   "outputs": [
    {
     "name": "stdout",
     "output_type": "stream",
     "text": [
      "Objective is: 191.0\n",
      "Solution is:\n",
      "x[1] = 1.0, p[1]/w[1] = 1112.4253912103336, p[1]/w[1] = 1046.011935018672\n",
      "x[2] = 1.0, p[2]/w[2] = 2597.0765537803527, p[2]/w[2] = 2058.6582438502796\n",
      "x[3] = 0.0, p[3]/w[3] = 82.39694469404053, p[3]/w[3] = 0.0\n",
      "x[4] = 1.0, p[4]/w[4] = 186.6398095095843, p[4]/w[4] = 326.61966664177254\n",
      "x[5] = 0.0, p[5]/w[5] = 18.567370212895526, p[5]/w[5] = 90.77380992971146\n",
      "true\n"
     ]
    }
   ],
   "source": [
    "println(\"Objective is: \", JuMP.objective_value(m))\n",
    "println(\"Solution is:\")\n",
    "for i = 1:5\n",
    "    print(\"x[$i] = \", JuMP.value(x[i]))\n",
    "    print(\", p[$i]/w[$i] = \", values[i]/weights[i])\n",
    "    println(\", p[$i]/w[$i] = \", values2[i]/weights[i])\n",
    "end\n",
    "println(JuMP.termination_status(m) == MOI.OPTIMAL)"
   ]
  },
  {
   "cell_type": "markdown",
   "metadata": {
    "slideshow": {
     "slide_type": "slide"
    }
   },
   "source": [
    "## <a id=\"evolution\"></a>Evolution"
   ]
  },
  {
   "cell_type": "markdown",
   "metadata": {
    "slideshow": {
     "slide_type": "fragment"
    }
   },
   "source": [
    "To apply NSGA-II to this problem, let's scale up the number of items to 100. "
   ]
  },
  {
   "cell_type": "code",
   "execution_count": 16,
   "metadata": {
    "slideshow": {
     "slide_type": "fragment"
    }
   },
   "outputs": [
    {
     "data": {
      "text/plain": [
       "100×2 Array{Float64,2}:\n",
       " 0.00452882  0.432759\n",
       " 0.155021    0.130712\n",
       " 0.402153    0.812528\n",
       " 0.0241199   0.940805\n",
       " 0.333652    0.313333\n",
       " 0.0952309   0.0830648\n",
       " 0.448576    0.550334\n",
       " 0.065682    0.705138\n",
       " 0.581238    0.474413\n",
       " 0.680544    0.159211\n",
       " 0.340774    0.252682\n",
       " 0.530701    0.975722\n",
       " 0.0731933   0.747082\n",
       " ⋮           \n",
       " 0.89209     0.505236\n",
       " 0.396297    0.77251\n",
       " 0.264511    0.158064\n",
       " 0.59299     0.9538\n",
       " 0.249672    0.28356\n",
       " 0.157754    0.510358\n",
       " 0.383472    0.424206\n",
       " 0.0463989   0.633581\n",
       " 0.565333    0.460407\n",
       " 0.586267    0.773546\n",
       " 0.24707     0.179528\n",
       " 0.788719    0.191378"
      ]
     },
     "execution_count": 16,
     "metadata": {},
     "output_type": "execute_result"
    }
   ],
   "source": [
    "n = 100\n",
    "n_objectives = 2\n",
    "values = rand(n, n_objectives)"
   ]
  },
  {
   "cell_type": "markdown",
   "metadata": {
    "slideshow": {
     "slide_type": "slide"
    }
   },
   "source": [
    "Let's normalize our fitness values by their sum, so that the total maximum value is 1.0 which will help with plotting later."
   ]
  },
  {
   "cell_type": "code",
   "execution_count": 13,
   "metadata": {
    "slideshow": {
     "slide_type": "fragment"
    }
   },
   "outputs": [
    {
     "data": {
      "text/plain": [
       "1×2 Array{Float64,2}:\n",
       " 1.0  1.0"
      ]
     },
     "execution_count": 13,
     "metadata": {},
     "output_type": "execute_result"
    }
   ],
   "source": [
    "values = values ./ sum(values, dims=1);\n",
    "sum(values, dims=1)"
   ]
  },
  {
   "cell_type": "markdown",
   "metadata": {
    "slideshow": {
     "slide_type": "slide"
    }
   },
   "source": [
    "Similarly, let's normalize the weights to sum to 1 and set a maximum weight of 0.5, meaning we can keep only half the items on average. This will let us change the number of items more easily later on but doesn't impact the problem in any way."
   ]
  },
  {
   "cell_type": "code",
   "execution_count": 36,
   "metadata": {
    "slideshow": {
     "slide_type": "fragment"
    }
   },
   "outputs": [
    {
     "data": {
      "text/plain": [
       "0.5"
      ]
     },
     "execution_count": 36,
     "metadata": {},
     "output_type": "execute_result"
    }
   ],
   "source": [
    "weights = rand(n)\n",
    "weights = weights ./ sum(weights)\n",
    "max_weight = 0.5"
   ]
  },
  {
   "cell_type": "markdown",
   "metadata": {
    "slideshow": {
     "slide_type": "slide"
    }
   },
   "source": [
    "Let's write our objective function which will compute the value of our knapsack using each different column of profit values."
   ]
  },
  {
   "cell_type": "code",
   "execution_count": 37,
   "metadata": {
    "slideshow": {
     "slide_type": "fragment"
    }
   },
   "outputs": [
    {
     "data": {
      "text/plain": [
       "objective (generic function with 1 method)"
      ]
     },
     "execution_count": 37,
     "metadata": {},
     "output_type": "execute_result"
    }
   ],
   "source": [
    "function objective(genes::AbstractArray)\n",
    "    fits = zeros(n_objectives)\n",
    "    for i in 1:n_objectives\n",
    "        fits[i] = dot(genes, values[:, i])\n",
    "    end\n",
    "    tuple(fits...)\n",
    "end"
   ]
  },
  {
   "cell_type": "markdown",
   "metadata": {
    "slideshow": {
     "slide_type": "slide"
    }
   },
   "source": [
    "We'll add in our weight constraint separately. This is used in the evaluation of individuals and is considered a part of our objective function, but is handled separately. Our lecture on evolution with constraints will go into more detail on that. For this NSGA-II implementation, we return 0 if the condition passes and the distance from meeting the condition otherwise."
   ]
  },
  {
   "cell_type": "code",
   "execution_count": 38,
   "metadata": {
    "slideshow": {
     "slide_type": "fragment"
    }
   },
   "outputs": [
    {
     "data": {
      "text/plain": [
       "constraint (generic function with 1 method)"
      ]
     },
     "execution_count": 38,
     "metadata": {},
     "output_type": "execute_result"
    }
   ],
   "source": [
    "function constraint(genes::AbstractArray)\n",
    "    sum_weights = dot(genes, weights)\n",
    "    return sum_weights <= max_weight ? 0 : sum_weights - max_weight\n",
    "end"
   ]
  },
  {
   "cell_type": "markdown",
   "metadata": {
    "slideshow": {
     "slide_type": "slide"
    }
   },
   "source": [
    "That's all, so now we're ready to run NSGA-II. Let's run it for 100 generations on a population of 100. The function returns the set of non-dominated individuals at the end"
   ]
  },
  {
   "cell_type": "code",
   "execution_count": 45,
   "metadata": {
    "slideshow": {
     "slide_type": "fragment"
    }
   },
   "outputs": [
    {
     "ename": "BoundsError",
     "evalue": "BoundsError: attempt to access 5-element Array{Int64,1} at index [Base.Slice(Base.OneTo(5)), 2]",
     "output_type": "error",
     "traceback": [
      "BoundsError: attempt to access 5-element Array{Int64,1} at index [Base.Slice(Base.OneTo(5)), 2]",
      "",
      "Stacktrace:",
      " [1] throw_boundserror(::Array{Int64,1}, ::Tuple{Base.Slice{Base.OneTo{Int64}},Int64}) at ./abstractarray.jl:537",
      " [2] checkbounds at ./abstractarray.jl:502 [inlined]",
      " [3] _getindex at ./multidimensional.jl:726 [inlined]",
      " [4] getindex(::Array{Int64,1}, ::Function, ::Int64) at ./abstractarray.jl:980",
      " [5] objective(::BitArray{1}) at ./In[37]:4",
      " [6] create_indiv(::BitArray{1}, ::typeof(identity), ::typeof(objective), ::typeof(constraint)) at /Users/test/.julia/packages/NSGAII/HZevC/src/indivs.jl:14",
      " [7] nsga_max(::Int64, ::Int64, ::typeof(objective), ::typeof(init); fdecode::Function, fdecode!::Function, fCV::Function, pmut::Float64, fmut::Function, fcross::Function, seed::Array{BitArray{1},1}, fplot::Function, plotevery::Int64, showprogress::Bool) at /Users/test/.julia/packages/NSGAII/HZevC/src/NSGAII.jl:35",
      " [8] top-level scope at In[45]:4"
     ]
    }
   ],
   "source": [
    "popsize = 100\n",
    "nbgen = 100\n",
    "init() = bitrand(n)\n",
    "non_dominated =  nsga_max(popsize, nbgen, objective, init, fCV=constraint)\n",
    "non_dominated[1]"
   ]
  },
  {
   "cell_type": "markdown",
   "metadata": {
    "slideshow": {
     "slide_type": "slide"
    }
   },
   "source": [
    "Let's see what type of total profit values we have from our two objectives."
   ]
  },
  {
   "cell_type": "code",
   "execution_count": 41,
   "metadata": {
    "slideshow": {
     "slide_type": "fragment"
    }
   },
   "outputs": [
    {
     "ename": "UndefVarError",
     "evalue": "UndefVarError: non_dominated not defined",
     "output_type": "error",
     "traceback": [
      "UndefVarError: non_dominated not defined",
      "",
      "Stacktrace:",
      " [1] top-level scope at In[41]:1"
     ]
    }
   ],
   "source": [
    "unique([collect(i.y) for i in non_dominated])"
   ]
  },
  {
   "cell_type": "markdown",
   "metadata": {
    "slideshow": {
     "slide_type": "slide"
    }
   },
   "source": [
    "Finally, we can compare this value to a value obtained by JuMP"
   ]
  },
  {
   "cell_type": "code",
   "execution_count": 19,
   "metadata": {
    "slideshow": {
     "slide_type": "fragment"
    }
   },
   "outputs": [
    {
     "name": "stdout",
     "output_type": "stream",
     "text": [
      "JuMP: 0.5617160950628488 0.759869978059217\n"
     ]
    }
   ],
   "source": [
    "m = Model(GLPK.Optimizer)\n",
    "@variable(m, x[1:n], Bin)\n",
    "@objective(m, Max, dot(values[:, 1], x))\n",
    "@objective(m, Max, dot(values[:, 2], x))\n",
    "@constraint(m, dot(weights, x) <= max_weight)\n",
    "JuMP.optimize!(m)\n",
    "best_solution = [JuMP.value(x[i]) for i in 1:n]\n",
    "println(\"JuMP: \", dot(values[:, 1], best_solution), \" \", dot(values[:, 2], best_solution))"
   ]
  },
  {
   "cell_type": "markdown",
   "metadata": {
    "slideshow": {
     "slide_type": "slide"
    }
   },
   "source": [
    "<div class=\"alert alert-success\">\n",
    "    <b>Exercise 2</b>\n",
    "    <br/>\n",
    "    Increase the problem difficulty by increasing the number of items and reducing the weight limit. How does NSGA-II do?\n",
    "    <br/>\n",
    "</div>"
   ]
  },
  {
   "cell_type": "markdown",
   "metadata": {
    "slideshow": {
     "slide_type": "slide"
    }
   },
   "source": [
    "## <a id=\"visualization\"></a>Visualization"
   ]
  },
  {
   "cell_type": "markdown",
   "metadata": {
    "slideshow": {
     "slide_type": "fragment"
    }
   },
   "source": [
    "To better understand NSGA-II's evolution, let's observe the population over time."
   ]
  },
  {
   "cell_type": "code",
   "execution_count": 20,
   "metadata": {
    "slideshow": {
     "slide_type": "slide"
    }
   },
   "outputs": [
    {
     "data": {
      "image/svg+xml": [
       "<?xml version=\"1.0\" encoding=\"utf-8\"?>\n",
       "<svg xmlns=\"http://www.w3.org/2000/svg\" xmlns:xlink=\"http://www.w3.org/1999/xlink\" width=\"600\" height=\"400\" viewBox=\"0 0 2400 1600\">\n",
       "<defs>\n",
       "  <clipPath id=\"clip1000\">\n",
       "    <rect x=\"0\" y=\"0\" width=\"2400\" height=\"1600\"/>\n",
       "  </clipPath>\n",
       "</defs>\n",
       "<path clip-path=\"url(#clip1000)\" d=\"\n",
       "M0 1600 L2400 1600 L2400 0 L0 0  Z\n",
       "  \" fill=\"#ffffff\" fill-rule=\"evenodd\" fill-opacity=\"1\"/>\n",
       "<defs>\n",
       "  <clipPath id=\"clip1001\">\n",
       "    <rect x=\"480\" y=\"0\" width=\"1681\" height=\"1600\"/>\n",
       "  </clipPath>\n",
       "</defs>\n",
       "<path clip-path=\"url(#clip1000)\" d=\"\n",
       "M148.334 1486.45 L2352.76 1486.45 L2352.76 47.2441 L148.334 47.2441  Z\n",
       "  \" fill=\"#ffffff\" fill-rule=\"evenodd\" fill-opacity=\"1\"/>\n",
       "<defs>\n",
       "  <clipPath id=\"clip1002\">\n",
       "    <rect x=\"148\" y=\"47\" width=\"2205\" height=\"1440\"/>\n",
       "  </clipPath>\n",
       "</defs>\n",
       "<polyline clip-path=\"url(#clip1002)\" style=\"stroke:#000000; stroke-width:2; stroke-opacity:0.1; fill:none\" points=\"\n",
       "  148.334,1486.45 148.334,47.2441 \n",
       "  \"/>\n",
       "<polyline clip-path=\"url(#clip1002)\" style=\"stroke:#000000; stroke-width:2; stroke-opacity:0.1; fill:none\" points=\"\n",
       "  589.219,1486.45 589.219,47.2441 \n",
       "  \"/>\n",
       "<polyline clip-path=\"url(#clip1002)\" style=\"stroke:#000000; stroke-width:2; stroke-opacity:0.1; fill:none\" points=\"\n",
       "  1030.1,1486.45 1030.1,47.2441 \n",
       "  \"/>\n",
       "<polyline clip-path=\"url(#clip1002)\" style=\"stroke:#000000; stroke-width:2; stroke-opacity:0.1; fill:none\" points=\"\n",
       "  1470.99,1486.45 1470.99,47.2441 \n",
       "  \"/>\n",
       "<polyline clip-path=\"url(#clip1002)\" style=\"stroke:#000000; stroke-width:2; stroke-opacity:0.1; fill:none\" points=\"\n",
       "  1911.87,1486.45 1911.87,47.2441 \n",
       "  \"/>\n",
       "<polyline clip-path=\"url(#clip1002)\" style=\"stroke:#000000; stroke-width:2; stroke-opacity:0.1; fill:none\" points=\"\n",
       "  2352.76,1486.45 2352.76,47.2441 \n",
       "  \"/>\n",
       "<polyline clip-path=\"url(#clip1002)\" style=\"stroke:#000000; stroke-width:2; stroke-opacity:0.1; fill:none\" points=\"\n",
       "  148.334,1486.45 2352.76,1486.45 \n",
       "  \"/>\n",
       "<polyline clip-path=\"url(#clip1002)\" style=\"stroke:#000000; stroke-width:2; stroke-opacity:0.1; fill:none\" points=\"\n",
       "  148.334,1198.61 2352.76,1198.61 \n",
       "  \"/>\n",
       "<polyline clip-path=\"url(#clip1002)\" style=\"stroke:#000000; stroke-width:2; stroke-opacity:0.1; fill:none\" points=\"\n",
       "  148.334,910.766 2352.76,910.766 \n",
       "  \"/>\n",
       "<polyline clip-path=\"url(#clip1002)\" style=\"stroke:#000000; stroke-width:2; stroke-opacity:0.1; fill:none\" points=\"\n",
       "  148.334,622.926 2352.76,622.926 \n",
       "  \"/>\n",
       "<polyline clip-path=\"url(#clip1002)\" style=\"stroke:#000000; stroke-width:2; stroke-opacity:0.1; fill:none\" points=\"\n",
       "  148.334,335.085 2352.76,335.085 \n",
       "  \"/>\n",
       "<polyline clip-path=\"url(#clip1002)\" style=\"stroke:#000000; stroke-width:2; stroke-opacity:0.1; fill:none\" points=\"\n",
       "  148.334,47.2441 2352.76,47.2441 \n",
       "  \"/>\n",
       "<polyline clip-path=\"url(#clip1000)\" style=\"stroke:#000000; stroke-width:4; stroke-opacity:1; fill:none\" points=\"\n",
       "  148.334,1486.45 2352.76,1486.45 \n",
       "  \"/>\n",
       "<polyline clip-path=\"url(#clip1000)\" style=\"stroke:#000000; stroke-width:4; stroke-opacity:1; fill:none\" points=\"\n",
       "  148.334,1486.45 148.334,47.2441 \n",
       "  \"/>\n",
       "<polyline clip-path=\"url(#clip1000)\" style=\"stroke:#000000; stroke-width:4; stroke-opacity:1; fill:none\" points=\"\n",
       "  148.334,1486.45 148.334,1469.18 \n",
       "  \"/>\n",
       "<polyline clip-path=\"url(#clip1000)\" style=\"stroke:#000000; stroke-width:4; stroke-opacity:1; fill:none\" points=\"\n",
       "  589.219,1486.45 589.219,1469.18 \n",
       "  \"/>\n",
       "<polyline clip-path=\"url(#clip1000)\" style=\"stroke:#000000; stroke-width:4; stroke-opacity:1; fill:none\" points=\"\n",
       "  1030.1,1486.45 1030.1,1469.18 \n",
       "  \"/>\n",
       "<polyline clip-path=\"url(#clip1000)\" style=\"stroke:#000000; stroke-width:4; stroke-opacity:1; fill:none\" points=\"\n",
       "  1470.99,1486.45 1470.99,1469.18 \n",
       "  \"/>\n",
       "<polyline clip-path=\"url(#clip1000)\" style=\"stroke:#000000; stroke-width:4; stroke-opacity:1; fill:none\" points=\"\n",
       "  1911.87,1486.45 1911.87,1469.18 \n",
       "  \"/>\n",
       "<polyline clip-path=\"url(#clip1000)\" style=\"stroke:#000000; stroke-width:4; stroke-opacity:1; fill:none\" points=\"\n",
       "  2352.76,1486.45 2352.76,1469.18 \n",
       "  \"/>\n",
       "<polyline clip-path=\"url(#clip1000)\" style=\"stroke:#000000; stroke-width:4; stroke-opacity:1; fill:none\" points=\"\n",
       "  148.334,1486.45 174.787,1486.45 \n",
       "  \"/>\n",
       "<polyline clip-path=\"url(#clip1000)\" style=\"stroke:#000000; stroke-width:4; stroke-opacity:1; fill:none\" points=\"\n",
       "  148.334,1198.61 174.787,1198.61 \n",
       "  \"/>\n",
       "<polyline clip-path=\"url(#clip1000)\" style=\"stroke:#000000; stroke-width:4; stroke-opacity:1; fill:none\" points=\"\n",
       "  148.334,910.766 174.787,910.766 \n",
       "  \"/>\n",
       "<polyline clip-path=\"url(#clip1000)\" style=\"stroke:#000000; stroke-width:4; stroke-opacity:1; fill:none\" points=\"\n",
       "  148.334,622.926 174.787,622.926 \n",
       "  \"/>\n",
       "<polyline clip-path=\"url(#clip1000)\" style=\"stroke:#000000; stroke-width:4; stroke-opacity:1; fill:none\" points=\"\n",
       "  148.334,335.085 174.787,335.085 \n",
       "  \"/>\n",
       "<polyline clip-path=\"url(#clip1000)\" style=\"stroke:#000000; stroke-width:4; stroke-opacity:1; fill:none\" points=\"\n",
       "  148.334,47.2441 174.787,47.2441 \n",
       "  \"/>\n",
       "<path clip-path=\"url(#clip1000)\" d=\"M 0 0 M129.851 1508.44 Q126.24 1508.44 124.411 1512 Q122.605 1515.55 122.605 1522.67 Q122.605 1529.78 124.411 1533.35 Q126.24 1536.89 129.851 1536.89 Q133.485 1536.89 135.29 1533.35 Q137.119 1529.78 137.119 1522.67 Q137.119 1515.55 135.29 1512 Q133.485 1508.44 129.851 1508.44 M129.851 1504.73 Q135.661 1504.73 138.716 1509.34 Q141.795 1513.92 141.795 1522.67 Q141.795 1531.4 138.716 1536.01 Q135.661 1540.59 129.851 1540.59 Q124.041 1540.59 120.962 1536.01 Q117.906 1531.4 117.906 1522.67 Q117.906 1513.92 120.962 1509.34 Q124.041 1504.73 129.851 1504.73 Z\" fill=\"#000000\" fill-rule=\"evenodd\" fill-opacity=\"1\" /><path clip-path=\"url(#clip1000)\" d=\"M 0 0 M146.864 1534.04 L151.749 1534.04 L151.749 1539.92 L146.864 1539.92 L146.864 1534.04 Z\" fill=\"#000000\" fill-rule=\"evenodd\" fill-opacity=\"1\" /><path clip-path=\"url(#clip1000)\" d=\"M 0 0 M166.818 1508.44 Q163.207 1508.44 161.378 1512 Q159.573 1515.55 159.573 1522.67 Q159.573 1529.78 161.378 1533.35 Q163.207 1536.89 166.818 1536.89 Q170.452 1536.89 172.258 1533.35 Q174.087 1529.78 174.087 1522.67 Q174.087 1515.55 172.258 1512 Q170.452 1508.44 166.818 1508.44 M166.818 1504.73 Q172.628 1504.73 175.684 1509.34 Q178.762 1513.92 178.762 1522.67 Q178.762 1531.4 175.684 1536.01 Q172.628 1540.59 166.818 1540.59 Q161.008 1540.59 157.929 1536.01 Q154.874 1531.4 154.874 1522.67 Q154.874 1513.92 157.929 1509.34 Q161.008 1504.73 166.818 1504.73 Z\" fill=\"#000000\" fill-rule=\"evenodd\" fill-opacity=\"1\" /><path clip-path=\"url(#clip1000)\" d=\"M 0 0 M571.534 1508.44 Q567.923 1508.44 566.094 1512 Q564.288 1515.55 564.288 1522.67 Q564.288 1529.78 566.094 1533.35 Q567.923 1536.89 571.534 1536.89 Q575.168 1536.89 576.973 1533.35 Q578.802 1529.78 578.802 1522.67 Q578.802 1515.55 576.973 1512 Q575.168 1508.44 571.534 1508.44 M571.534 1504.73 Q577.344 1504.73 580.399 1509.34 Q583.478 1513.92 583.478 1522.67 Q583.478 1531.4 580.399 1536.01 Q577.344 1540.59 571.534 1540.59 Q565.723 1540.59 562.645 1536.01 Q559.589 1531.4 559.589 1522.67 Q559.589 1513.92 562.645 1509.34 Q565.723 1504.73 571.534 1504.73 Z\" fill=\"#000000\" fill-rule=\"evenodd\" fill-opacity=\"1\" /><path clip-path=\"url(#clip1000)\" d=\"M 0 0 M588.547 1534.04 L593.432 1534.04 L593.432 1539.92 L588.547 1539.92 L588.547 1534.04 Z\" fill=\"#000000\" fill-rule=\"evenodd\" fill-opacity=\"1\" /><path clip-path=\"url(#clip1000)\" d=\"M 0 0 M602.529 1535.98 L618.848 1535.98 L618.848 1539.92 L596.904 1539.92 L596.904 1535.98 Q599.566 1533.23 604.149 1528.6 Q608.756 1523.95 609.936 1522.61 Q612.182 1520.08 613.061 1518.35 Q613.964 1516.59 613.964 1514.9 Q613.964 1512.14 612.019 1510.41 Q610.098 1508.67 606.996 1508.67 Q604.797 1508.67 602.344 1509.43 Q599.913 1510.2 597.135 1511.75 L597.135 1507.03 Q599.959 1505.89 602.413 1505.31 Q604.867 1504.73 606.904 1504.73 Q612.274 1504.73 615.469 1507.42 Q618.663 1510.11 618.663 1514.6 Q618.663 1516.73 617.853 1518.65 Q617.066 1520.54 614.959 1523.14 Q614.381 1523.81 611.279 1527.03 Q608.177 1530.22 602.529 1535.98 Z\" fill=\"#000000\" fill-rule=\"evenodd\" fill-opacity=\"1\" /><path clip-path=\"url(#clip1000)\" d=\"M 0 0 M1011.38 1508.44 Q1007.77 1508.44 1005.94 1512 Q1004.13 1515.55 1004.13 1522.67 Q1004.13 1529.78 1005.94 1533.35 Q1007.77 1536.89 1011.38 1536.89 Q1015.01 1536.89 1016.82 1533.35 Q1018.64 1529.78 1018.64 1522.67 Q1018.64 1515.55 1016.82 1512 Q1015.01 1508.44 1011.38 1508.44 M1011.38 1504.73 Q1017.19 1504.73 1020.24 1509.34 Q1023.32 1513.92 1023.32 1522.67 Q1023.32 1531.4 1020.24 1536.01 Q1017.19 1540.59 1011.38 1540.59 Q1005.57 1540.59 1002.49 1536.01 Q999.432 1531.4 999.432 1522.67 Q999.432 1513.92 1002.49 1509.34 Q1005.57 1504.73 1011.38 1504.73 Z\" fill=\"#000000\" fill-rule=\"evenodd\" fill-opacity=\"1\" /><path clip-path=\"url(#clip1000)\" d=\"M 0 0 M1028.39 1534.04 L1033.27 1534.04 L1033.27 1539.92 L1028.39 1539.92 L1028.39 1534.04 Z\" fill=\"#000000\" fill-rule=\"evenodd\" fill-opacity=\"1\" /><path clip-path=\"url(#clip1000)\" d=\"M 0 0 M1051.19 1509.43 L1039.39 1527.88 L1051.19 1527.88 L1051.19 1509.43 M1049.96 1505.36 L1055.84 1505.36 L1055.84 1527.88 L1060.77 1527.88 L1060.77 1531.77 L1055.84 1531.77 L1055.84 1539.92 L1051.19 1539.92 L1051.19 1531.77 L1035.59 1531.77 L1035.59 1527.26 L1049.96 1505.36 Z\" fill=\"#000000\" fill-rule=\"evenodd\" fill-opacity=\"1\" /><path clip-path=\"url(#clip1000)\" d=\"M 0 0 M1452.42 1508.44 Q1448.81 1508.44 1446.98 1512 Q1445.18 1515.55 1445.18 1522.67 Q1445.18 1529.78 1446.98 1533.35 Q1448.81 1536.89 1452.42 1536.89 Q1456.06 1536.89 1457.86 1533.35 Q1459.69 1529.78 1459.69 1522.67 Q1459.69 1515.55 1457.86 1512 Q1456.06 1508.44 1452.42 1508.44 M1452.42 1504.73 Q1458.23 1504.73 1461.29 1509.34 Q1464.37 1513.92 1464.37 1522.67 Q1464.37 1531.4 1461.29 1536.01 Q1458.23 1540.59 1452.42 1540.59 Q1446.61 1540.59 1443.53 1536.01 Q1440.48 1531.4 1440.48 1522.67 Q1440.48 1513.92 1443.53 1509.34 Q1446.61 1504.73 1452.42 1504.73 Z\" fill=\"#000000\" fill-rule=\"evenodd\" fill-opacity=\"1\" /><path clip-path=\"url(#clip1000)\" d=\"M 0 0 M1469.44 1534.04 L1474.32 1534.04 L1474.32 1539.92 L1469.44 1539.92 L1469.44 1534.04 Z\" fill=\"#000000\" fill-rule=\"evenodd\" fill-opacity=\"1\" /><path clip-path=\"url(#clip1000)\" d=\"M 0 0 M1489.97 1520.78 Q1486.82 1520.78 1484.97 1522.93 Q1483.14 1525.08 1483.14 1528.83 Q1483.14 1532.56 1484.97 1534.73 Q1486.82 1536.89 1489.97 1536.89 Q1493.12 1536.89 1494.95 1534.73 Q1496.8 1532.56 1496.8 1528.83 Q1496.8 1525.08 1494.95 1522.93 Q1493.12 1520.78 1489.97 1520.78 M1499.25 1506.12 L1499.25 1510.38 Q1497.49 1509.55 1495.69 1509.11 Q1493.9 1508.67 1492.14 1508.67 Q1487.51 1508.67 1485.06 1511.8 Q1482.63 1514.92 1482.28 1521.24 Q1483.65 1519.23 1485.71 1518.16 Q1487.77 1517.07 1490.25 1517.07 Q1495.45 1517.07 1498.46 1520.24 Q1501.5 1523.39 1501.5 1528.83 Q1501.5 1534.16 1498.35 1537.37 Q1495.2 1540.59 1489.97 1540.59 Q1483.97 1540.59 1480.8 1536.01 Q1477.63 1531.4 1477.63 1522.67 Q1477.63 1514.48 1481.52 1509.62 Q1485.41 1504.73 1491.96 1504.73 Q1493.72 1504.73 1495.5 1505.08 Q1497.31 1505.43 1499.25 1506.12 Z\" fill=\"#000000\" fill-rule=\"evenodd\" fill-opacity=\"1\" /><path clip-path=\"url(#clip1000)\" d=\"M 0 0 M1893.43 1508.44 Q1889.82 1508.44 1887.99 1512 Q1886.19 1515.55 1886.19 1522.67 Q1886.19 1529.78 1887.99 1533.35 Q1889.82 1536.89 1893.43 1536.89 Q1897.07 1536.89 1898.87 1533.35 Q1900.7 1529.78 1900.7 1522.67 Q1900.7 1515.55 1898.87 1512 Q1897.07 1508.44 1893.43 1508.44 M1893.43 1504.73 Q1899.24 1504.73 1902.3 1509.34 Q1905.38 1513.92 1905.38 1522.67 Q1905.38 1531.4 1902.3 1536.01 Q1899.24 1540.59 1893.43 1540.59 Q1887.62 1540.59 1884.55 1536.01 Q1881.49 1531.4 1881.49 1522.67 Q1881.49 1513.92 1884.55 1509.34 Q1887.62 1504.73 1893.43 1504.73 Z\" fill=\"#000000\" fill-rule=\"evenodd\" fill-opacity=\"1\" /><path clip-path=\"url(#clip1000)\" d=\"M 0 0 M1910.45 1534.04 L1915.33 1534.04 L1915.33 1539.92 L1910.45 1539.92 L1910.45 1534.04 Z\" fill=\"#000000\" fill-rule=\"evenodd\" fill-opacity=\"1\" /><path clip-path=\"url(#clip1000)\" d=\"M 0 0 M1930.4 1523.51 Q1927.07 1523.51 1925.15 1525.29 Q1923.25 1527.07 1923.25 1530.2 Q1923.25 1533.32 1925.15 1535.11 Q1927.07 1536.89 1930.4 1536.89 Q1933.73 1536.89 1935.66 1535.11 Q1937.58 1533.3 1937.58 1530.2 Q1937.58 1527.07 1935.66 1525.29 Q1933.76 1523.51 1930.4 1523.51 M1925.73 1521.52 Q1922.72 1520.78 1921.03 1518.72 Q1919.36 1516.66 1919.36 1513.69 Q1919.36 1509.55 1922.3 1507.14 Q1925.26 1504.73 1930.4 1504.73 Q1935.56 1504.73 1938.5 1507.14 Q1941.44 1509.55 1941.44 1513.69 Q1941.44 1516.66 1939.75 1518.72 Q1938.09 1520.78 1935.1 1521.52 Q1938.48 1522.3 1940.36 1524.6 Q1942.25 1526.89 1942.25 1530.2 Q1942.25 1535.22 1939.17 1537.91 Q1936.12 1540.59 1930.4 1540.59 Q1924.68 1540.59 1921.61 1537.91 Q1918.55 1535.22 1918.55 1530.2 Q1918.55 1526.89 1920.45 1524.6 Q1922.35 1522.3 1925.73 1521.52 M1924.01 1514.13 Q1924.01 1516.82 1925.68 1518.32 Q1927.37 1519.83 1930.4 1519.83 Q1933.41 1519.83 1935.1 1518.32 Q1936.81 1516.82 1936.81 1514.13 Q1936.81 1511.45 1935.1 1509.94 Q1933.41 1508.44 1930.4 1508.44 Q1927.37 1508.44 1925.68 1509.94 Q1924.01 1511.45 1924.01 1514.13 Z\" fill=\"#000000\" fill-rule=\"evenodd\" fill-opacity=\"1\" /><path clip-path=\"url(#clip1000)\" d=\"M 0 0 M2324.65 1535.98 L2332.29 1535.98 L2332.29 1509.62 L2323.98 1511.29 L2323.98 1507.03 L2332.25 1505.36 L2336.92 1505.36 L2336.92 1535.98 L2344.56 1535.98 L2344.56 1539.92 L2324.65 1539.92 L2324.65 1535.98 Z\" fill=\"#000000\" fill-rule=\"evenodd\" fill-opacity=\"1\" /><path clip-path=\"url(#clip1000)\" d=\"M 0 0 M2349.63 1534.04 L2354.52 1534.04 L2354.52 1539.92 L2349.63 1539.92 L2349.63 1534.04 Z\" fill=\"#000000\" fill-rule=\"evenodd\" fill-opacity=\"1\" /><path clip-path=\"url(#clip1000)\" d=\"M 0 0 M2369.58 1508.44 Q2365.97 1508.44 2364.14 1512 Q2362.34 1515.55 2362.34 1522.67 Q2362.34 1529.78 2364.14 1533.35 Q2365.97 1536.89 2369.58 1536.89 Q2373.22 1536.89 2375.02 1533.35 Q2376.85 1529.78 2376.85 1522.67 Q2376.85 1515.55 2375.02 1512 Q2373.22 1508.44 2369.58 1508.44 M2369.58 1504.73 Q2375.39 1504.73 2378.45 1509.34 Q2381.53 1513.92 2381.53 1522.67 Q2381.53 1531.4 2378.45 1536.01 Q2375.39 1540.59 2369.58 1540.59 Q2363.77 1540.59 2360.7 1536.01 Q2357.64 1531.4 2357.64 1522.67 Q2357.64 1513.92 2360.7 1509.34 Q2363.77 1504.73 2369.58 1504.73 Z\" fill=\"#000000\" fill-rule=\"evenodd\" fill-opacity=\"1\" /><path clip-path=\"url(#clip1000)\" d=\"M 0 0 M75.4226 1472.25 Q71.8115 1472.25 69.9828 1475.81 Q68.1773 1479.35 68.1773 1486.48 Q68.1773 1493.59 69.9828 1497.15 Q71.8115 1500.7 75.4226 1500.7 Q79.0569 1500.7 80.8624 1497.15 Q82.6911 1493.59 82.6911 1486.48 Q82.6911 1479.35 80.8624 1475.81 Q79.0569 1472.25 75.4226 1472.25 M75.4226 1468.54 Q81.2328 1468.54 84.2883 1473.15 Q87.367 1477.73 87.367 1486.48 Q87.367 1495.21 84.2883 1499.82 Q81.2328 1504.4 75.4226 1504.4 Q69.6125 1504.4 66.5338 1499.82 Q63.4782 1495.21 63.4782 1486.48 Q63.4782 1477.73 66.5338 1473.15 Q69.6125 1468.54 75.4226 1468.54 Z\" fill=\"#000000\" fill-rule=\"evenodd\" fill-opacity=\"1\" /><path clip-path=\"url(#clip1000)\" d=\"M 0 0 M92.4364 1497.85 L97.3206 1497.85 L97.3206 1503.73 L92.4364 1503.73 L92.4364 1497.85 Z\" fill=\"#000000\" fill-rule=\"evenodd\" fill-opacity=\"1\" /><path clip-path=\"url(#clip1000)\" d=\"M 0 0 M112.39 1472.25 Q108.779 1472.25 106.95 1475.81 Q105.145 1479.35 105.145 1486.48 Q105.145 1493.59 106.95 1497.15 Q108.779 1500.7 112.39 1500.7 Q116.024 1500.7 117.83 1497.15 Q119.658 1493.59 119.658 1486.48 Q119.658 1479.35 117.83 1475.81 Q116.024 1472.25 112.39 1472.25 M112.39 1468.54 Q118.2 1468.54 121.256 1473.15 Q124.334 1477.73 124.334 1486.48 Q124.334 1495.21 121.256 1499.82 Q118.2 1504.4 112.39 1504.4 Q106.58 1504.4 103.501 1499.82 Q100.446 1495.21 100.446 1486.48 Q100.446 1477.73 103.501 1473.15 Q106.58 1468.54 112.39 1468.54 Z\" fill=\"#000000\" fill-rule=\"evenodd\" fill-opacity=\"1\" /><path clip-path=\"url(#clip1000)\" d=\"M 0 0 M77.0198 1184.41 Q73.4087 1184.41 71.58 1187.97 Q69.7745 1191.51 69.7745 1198.64 Q69.7745 1205.75 71.58 1209.31 Q73.4087 1212.85 77.0198 1212.85 Q80.6541 1212.85 82.4596 1209.31 Q84.2883 1205.75 84.2883 1198.64 Q84.2883 1191.51 82.4596 1187.97 Q80.6541 1184.41 77.0198 1184.41 M77.0198 1180.7 Q82.83 1180.7 85.8855 1185.31 Q88.9642 1189.89 88.9642 1198.64 Q88.9642 1207.37 85.8855 1211.98 Q82.83 1216.56 77.0198 1216.56 Q71.2097 1216.56 68.131 1211.98 Q65.0754 1207.37 65.0754 1198.64 Q65.0754 1189.89 68.131 1185.31 Q71.2097 1180.7 77.0198 1180.7 Z\" fill=\"#000000\" fill-rule=\"evenodd\" fill-opacity=\"1\" /><path clip-path=\"url(#clip1000)\" d=\"M 0 0 M94.0336 1210.01 L98.9179 1210.01 L98.9179 1215.89 L94.0336 1215.89 L94.0336 1210.01 Z\" fill=\"#000000\" fill-rule=\"evenodd\" fill-opacity=\"1\" /><path clip-path=\"url(#clip1000)\" d=\"M 0 0 M108.015 1211.95 L124.334 1211.95 L124.334 1215.89 L102.39 1215.89 L102.39 1211.95 Q105.052 1209.2 109.635 1204.57 Q114.242 1199.91 115.422 1198.57 Q117.668 1196.05 118.547 1194.31 Q119.45 1192.55 119.45 1190.86 Q119.45 1188.11 117.506 1186.37 Q115.584 1184.64 112.483 1184.64 Q110.284 1184.64 107.83 1185.4 Q105.399 1186.17 102.622 1187.72 L102.622 1182.99 Q105.446 1181.86 107.899 1181.28 Q110.353 1180.7 112.39 1180.7 Q117.76 1180.7 120.955 1183.39 Q124.149 1186.07 124.149 1190.56 Q124.149 1192.69 123.339 1194.61 Q122.552 1196.51 120.446 1199.1 Q119.867 1199.78 116.765 1202.99 Q113.663 1206.19 108.015 1211.95 Z\" fill=\"#000000\" fill-rule=\"evenodd\" fill-opacity=\"1\" /><path clip-path=\"url(#clip1000)\" d=\"M 0 0 M74.9365 896.565 Q71.3254 896.565 69.4967 900.13 Q67.6912 903.671 67.6912 910.801 Q67.6912 917.908 69.4967 921.472 Q71.3254 925.014 74.9365 925.014 Q78.5707 925.014 80.3763 921.472 Q82.205 917.908 82.205 910.801 Q82.205 903.671 80.3763 900.13 Q78.5707 896.565 74.9365 896.565 M74.9365 892.861 Q80.7467 892.861 83.8022 897.468 Q86.8809 902.051 86.8809 910.801 Q86.8809 919.528 83.8022 924.134 Q80.7467 928.718 74.9365 928.718 Q69.1264 928.718 66.0477 924.134 Q62.9921 919.528 62.9921 910.801 Q62.9921 902.051 66.0477 897.468 Q69.1264 892.861 74.9365 892.861 Z\" fill=\"#000000\" fill-rule=\"evenodd\" fill-opacity=\"1\" /><path clip-path=\"url(#clip1000)\" d=\"M 0 0 M91.9503 922.167 L96.8345 922.167 L96.8345 928.046 L91.9503 928.046 L91.9503 922.167 Z\" fill=\"#000000\" fill-rule=\"evenodd\" fill-opacity=\"1\" /><path clip-path=\"url(#clip1000)\" d=\"M 0 0 M114.751 897.56 L102.946 916.009 L114.751 916.009 L114.751 897.56 M113.524 893.486 L119.404 893.486 L119.404 916.009 L124.334 916.009 L124.334 919.898 L119.404 919.898 L119.404 928.046 L114.751 928.046 L114.751 919.898 L99.1493 919.898 L99.1493 915.384 L113.524 893.486 Z\" fill=\"#000000\" fill-rule=\"evenodd\" fill-opacity=\"1\" /><path clip-path=\"url(#clip1000)\" d=\"M 0 0 M75.2606 608.724 Q71.6495 608.724 69.8208 612.289 Q68.0152 615.831 68.0152 622.96 Q68.0152 630.067 69.8208 633.632 Q71.6495 637.173 75.2606 637.173 Q78.8948 637.173 80.7004 633.632 Q82.5291 630.067 82.5291 622.96 Q82.5291 615.831 80.7004 612.289 Q78.8948 608.724 75.2606 608.724 M75.2606 605.021 Q81.0707 605.021 84.1263 609.627 Q87.205 614.21 87.205 622.96 Q87.205 631.687 84.1263 636.294 Q81.0707 640.877 75.2606 640.877 Q69.4504 640.877 66.3717 636.294 Q63.3162 631.687 63.3162 622.96 Q63.3162 614.21 66.3717 609.627 Q69.4504 605.021 75.2606 605.021 Z\" fill=\"#000000\" fill-rule=\"evenodd\" fill-opacity=\"1\" /><path clip-path=\"url(#clip1000)\" d=\"M 0 0 M92.2744 634.326 L97.1586 634.326 L97.1586 640.206 L92.2744 640.206 L92.2744 634.326 Z\" fill=\"#000000\" fill-rule=\"evenodd\" fill-opacity=\"1\" /><path clip-path=\"url(#clip1000)\" d=\"M 0 0 M112.807 621.062 Q109.659 621.062 107.807 623.215 Q105.978 625.368 105.978 629.118 Q105.978 632.845 107.807 635.02 Q109.659 637.173 112.807 637.173 Q115.955 637.173 117.783 635.02 Q119.635 632.845 119.635 629.118 Q119.635 625.368 117.783 623.215 Q115.955 621.062 112.807 621.062 M122.089 606.409 L122.089 610.669 Q120.33 609.835 118.524 609.396 Q116.742 608.956 114.983 608.956 Q110.353 608.956 107.899 612.081 Q105.469 615.206 105.122 621.525 Q106.487 619.511 108.547 618.446 Q110.608 617.359 113.084 617.359 Q118.293 617.359 121.302 620.53 Q124.334 623.678 124.334 629.118 Q124.334 634.442 121.186 637.659 Q118.038 640.877 112.807 640.877 Q106.811 640.877 103.64 636.294 Q100.469 631.687 100.469 622.96 Q100.469 614.766 104.358 609.905 Q108.247 605.021 114.797 605.021 Q116.557 605.021 118.339 605.368 Q120.145 605.715 122.089 606.409 Z\" fill=\"#000000\" fill-rule=\"evenodd\" fill-opacity=\"1\" /><path clip-path=\"url(#clip1000)\" d=\"M 0 0 M75.5152 320.884 Q71.9041 320.884 70.0754 324.448 Q68.2699 327.99 68.2699 335.12 Q68.2699 342.226 70.0754 345.791 Q71.9041 349.332 75.5152 349.332 Q79.1494 349.332 80.955 345.791 Q82.7837 342.226 82.7837 335.12 Q82.7837 327.99 80.955 324.448 Q79.1494 320.884 75.5152 320.884 M75.5152 317.18 Q81.3254 317.18 84.3809 321.786 Q87.4596 326.37 87.4596 335.12 Q87.4596 343.846 84.3809 348.453 Q81.3254 353.036 75.5152 353.036 Q69.7051 353.036 66.6264 348.453 Q63.5708 343.846 63.5708 335.12 Q63.5708 326.37 66.6264 321.786 Q69.7051 317.18 75.5152 317.18 Z\" fill=\"#000000\" fill-rule=\"evenodd\" fill-opacity=\"1\" /><path clip-path=\"url(#clip1000)\" d=\"M 0 0 M92.529 346.485 L97.4132 346.485 L97.4132 352.365 L92.529 352.365 L92.529 346.485 Z\" fill=\"#000000\" fill-rule=\"evenodd\" fill-opacity=\"1\" /><path clip-path=\"url(#clip1000)\" d=\"M 0 0 M112.483 335.953 Q109.149 335.953 107.228 337.735 Q105.33 339.518 105.33 342.643 Q105.33 345.768 107.228 347.55 Q109.149 349.332 112.483 349.332 Q115.816 349.332 117.737 347.55 Q119.658 345.745 119.658 342.643 Q119.658 339.518 117.737 337.735 Q115.839 335.953 112.483 335.953 M107.807 333.962 Q104.797 333.221 103.108 331.161 Q101.441 329.101 101.441 326.138 Q101.441 321.995 104.381 319.587 Q107.344 317.18 112.483 317.18 Q117.645 317.18 120.584 319.587 Q123.524 321.995 123.524 326.138 Q123.524 329.101 121.834 331.161 Q120.168 333.221 117.182 333.962 Q120.561 334.749 122.436 337.041 Q124.334 339.333 124.334 342.643 Q124.334 347.666 121.256 350.351 Q118.2 353.036 112.483 353.036 Q106.765 353.036 103.686 350.351 Q100.631 347.666 100.631 342.643 Q100.631 339.333 102.529 337.041 Q104.427 334.749 107.807 333.962 M106.094 326.578 Q106.094 329.263 107.76 330.768 Q109.45 332.272 112.483 332.272 Q115.492 332.272 117.182 330.768 Q118.895 329.263 118.895 326.578 Q118.895 323.893 117.182 322.388 Q115.492 320.884 112.483 320.884 Q109.45 320.884 107.76 322.388 Q106.094 323.893 106.094 326.578 Z\" fill=\"#000000\" fill-rule=\"evenodd\" fill-opacity=\"1\" /><path clip-path=\"url(#clip1000)\" d=\"M 0 0 M67.4597 60.5889 L75.0985 60.5889 L75.0985 34.2233 L66.7884 35.89 L66.7884 31.6308 L75.0522 29.9641 L79.7281 29.9641 L79.7281 60.5889 L87.367 60.5889 L87.367 64.5241 L67.4597 64.5241 L67.4597 60.5889 Z\" fill=\"#000000\" fill-rule=\"evenodd\" fill-opacity=\"1\" /><path clip-path=\"url(#clip1000)\" d=\"M 0 0 M92.4364 58.6445 L97.3206 58.6445 L97.3206 64.5241 L92.4364 64.5241 L92.4364 58.6445 Z\" fill=\"#000000\" fill-rule=\"evenodd\" fill-opacity=\"1\" /><path clip-path=\"url(#clip1000)\" d=\"M 0 0 M112.39 33.0428 Q108.779 33.0428 106.95 36.6076 Q105.145 40.1492 105.145 47.2788 Q105.145 54.3853 106.95 57.9501 Q108.779 61.4917 112.39 61.4917 Q116.024 61.4917 117.83 57.9501 Q119.658 54.3853 119.658 47.2788 Q119.658 40.1492 117.83 36.6076 Q116.024 33.0428 112.39 33.0428 M112.39 29.3391 Q118.2 29.3391 121.256 33.9456 Q124.334 38.5289 124.334 47.2788 Q124.334 56.0056 121.256 60.6121 Q118.2 65.1954 112.39 65.1954 Q106.58 65.1954 103.501 60.6121 Q100.446 56.0056 100.446 47.2788 Q100.446 38.5289 103.501 33.9456 Q106.58 29.3391 112.39 29.3391 Z\" fill=\"#000000\" fill-rule=\"evenodd\" fill-opacity=\"1\" /><circle clip-path=\"url(#clip1002)\" cx=\"1636.52\" cy=\"489.434\" r=\"14\" fill=\"#009af9\" fill-rule=\"evenodd\" fill-opacity=\"1\" stroke=\"#000000\" stroke-opacity=\"1\" stroke-width=\"3.2\"/>\n",
       "<circle clip-path=\"url(#clip1002)\" cx=\"1837.24\" cy=\"522.324\" r=\"14\" fill=\"#009af9\" fill-rule=\"evenodd\" fill-opacity=\"1\" stroke=\"#000000\" stroke-opacity=\"1\" stroke-width=\"3.2\"/>\n",
       "<circle clip-path=\"url(#clip1002)\" cx=\"1835.2\" cy=\"511.797\" r=\"14\" fill=\"#009af9\" fill-rule=\"evenodd\" fill-opacity=\"1\" stroke=\"#000000\" stroke-opacity=\"1\" stroke-width=\"3.2\"/>\n",
       "<circle clip-path=\"url(#clip1002)\" cx=\"1800.74\" cy=\"499.83\" r=\"14\" fill=\"#009af9\" fill-rule=\"evenodd\" fill-opacity=\"1\" stroke=\"#000000\" stroke-opacity=\"1\" stroke-width=\"3.2\"/>\n",
       "<circle clip-path=\"url(#clip1002)\" cx=\"1837.24\" cy=\"522.324\" r=\"14\" fill=\"#009af9\" fill-rule=\"evenodd\" fill-opacity=\"1\" stroke=\"#000000\" stroke-opacity=\"1\" stroke-width=\"3.2\"/>\n",
       "<circle clip-path=\"url(#clip1002)\" cx=\"1835.2\" cy=\"511.797\" r=\"14\" fill=\"#009af9\" fill-rule=\"evenodd\" fill-opacity=\"1\" stroke=\"#000000\" stroke-opacity=\"1\" stroke-width=\"3.2\"/>\n",
       "<circle clip-path=\"url(#clip1002)\" cx=\"1800.74\" cy=\"499.83\" r=\"14\" fill=\"#009af9\" fill-rule=\"evenodd\" fill-opacity=\"1\" stroke=\"#000000\" stroke-opacity=\"1\" stroke-width=\"3.2\"/>\n",
       "<circle clip-path=\"url(#clip1002)\" cx=\"1749.49\" cy=\"499.639\" r=\"14\" fill=\"#009af9\" fill-rule=\"evenodd\" fill-opacity=\"1\" stroke=\"#000000\" stroke-opacity=\"1\" stroke-width=\"3.2\"/>\n",
       "<circle clip-path=\"url(#clip1002)\" cx=\"1693.53\" cy=\"493.253\" r=\"14\" fill=\"#009af9\" fill-rule=\"evenodd\" fill-opacity=\"1\" stroke=\"#000000\" stroke-opacity=\"1\" stroke-width=\"3.2\"/>\n",
       "<circle clip-path=\"url(#clip1002)\" cx=\"1709.5\" cy=\"496.866\" r=\"14\" fill=\"#009af9\" fill-rule=\"evenodd\" fill-opacity=\"1\" stroke=\"#000000\" stroke-opacity=\"1\" stroke-width=\"3.2\"/>\n",
       "<circle clip-path=\"url(#clip1002)\" cx=\"1657.13\" cy=\"489.832\" r=\"14\" fill=\"#009af9\" fill-rule=\"evenodd\" fill-opacity=\"1\" stroke=\"#000000\" stroke-opacity=\"1\" stroke-width=\"3.2\"/>\n",
       "<circle clip-path=\"url(#clip1002)\" cx=\"1672.13\" cy=\"493.086\" r=\"14\" fill=\"#009af9\" fill-rule=\"evenodd\" fill-opacity=\"1\" stroke=\"#000000\" stroke-opacity=\"1\" stroke-width=\"3.2\"/>\n",
       "<circle clip-path=\"url(#clip1002)\" cx=\"1749.49\" cy=\"499.639\" r=\"14\" fill=\"#009af9\" fill-rule=\"evenodd\" fill-opacity=\"1\" stroke=\"#000000\" stroke-opacity=\"1\" stroke-width=\"3.2\"/>\n",
       "<circle clip-path=\"url(#clip1002)\" cx=\"1730.9\" cy=\"497.033\" r=\"14\" fill=\"#009af9\" fill-rule=\"evenodd\" fill-opacity=\"1\" stroke=\"#000000\" stroke-opacity=\"1\" stroke-width=\"3.2\"/>\n",
       "<circle clip-path=\"url(#clip1002)\" cx=\"1636.52\" cy=\"489.434\" r=\"14\" fill=\"#009af9\" fill-rule=\"evenodd\" fill-opacity=\"1\" stroke=\"#000000\" stroke-opacity=\"1\" stroke-width=\"3.2\"/>\n",
       "<circle clip-path=\"url(#clip1002)\" cx=\"1657.13\" cy=\"489.832\" r=\"14\" fill=\"#009af9\" fill-rule=\"evenodd\" fill-opacity=\"1\" stroke=\"#000000\" stroke-opacity=\"1\" stroke-width=\"3.2\"/>\n",
       "<circle clip-path=\"url(#clip1002)\" cx=\"1730.9\" cy=\"497.033\" r=\"14\" fill=\"#009af9\" fill-rule=\"evenodd\" fill-opacity=\"1\" stroke=\"#000000\" stroke-opacity=\"1\" stroke-width=\"3.2\"/>\n",
       "<circle clip-path=\"url(#clip1002)\" cx=\"1709.5\" cy=\"496.866\" r=\"14\" fill=\"#009af9\" fill-rule=\"evenodd\" fill-opacity=\"1\" stroke=\"#000000\" stroke-opacity=\"1\" stroke-width=\"3.2\"/>\n",
       "<circle clip-path=\"url(#clip1002)\" cx=\"1693.53\" cy=\"493.253\" r=\"14\" fill=\"#009af9\" fill-rule=\"evenodd\" fill-opacity=\"1\" stroke=\"#000000\" stroke-opacity=\"1\" stroke-width=\"3.2\"/>\n",
       "<circle clip-path=\"url(#clip1002)\" cx=\"1672.13\" cy=\"493.086\" r=\"14\" fill=\"#009af9\" fill-rule=\"evenodd\" fill-opacity=\"1\" stroke=\"#000000\" stroke-opacity=\"1\" stroke-width=\"3.2\"/>\n",
       "<circle clip-path=\"url(#clip1002)\" cx=\"1837.24\" cy=\"522.324\" r=\"14\" fill=\"#009af9\" fill-rule=\"evenodd\" fill-opacity=\"1\" stroke=\"#000000\" stroke-opacity=\"1\" stroke-width=\"3.2\"/>\n",
       "<circle clip-path=\"url(#clip1002)\" cx=\"1837.24\" cy=\"522.324\" r=\"14\" fill=\"#009af9\" fill-rule=\"evenodd\" fill-opacity=\"1\" stroke=\"#000000\" stroke-opacity=\"1\" stroke-width=\"3.2\"/>\n",
       "<circle clip-path=\"url(#clip1002)\" cx=\"1837.24\" cy=\"522.324\" r=\"14\" fill=\"#009af9\" fill-rule=\"evenodd\" fill-opacity=\"1\" stroke=\"#000000\" stroke-opacity=\"1\" stroke-width=\"3.2\"/>\n",
       "<circle clip-path=\"url(#clip1002)\" cx=\"1837.24\" cy=\"522.324\" r=\"14\" fill=\"#009af9\" fill-rule=\"evenodd\" fill-opacity=\"1\" stroke=\"#000000\" stroke-opacity=\"1\" stroke-width=\"3.2\"/>\n",
       "<circle clip-path=\"url(#clip1002)\" cx=\"1837.24\" cy=\"522.324\" r=\"14\" fill=\"#009af9\" fill-rule=\"evenodd\" fill-opacity=\"1\" stroke=\"#000000\" stroke-opacity=\"1\" stroke-width=\"3.2\"/>\n",
       "<circle clip-path=\"url(#clip1002)\" cx=\"1837.24\" cy=\"522.324\" r=\"14\" fill=\"#009af9\" fill-rule=\"evenodd\" fill-opacity=\"1\" stroke=\"#000000\" stroke-opacity=\"1\" stroke-width=\"3.2\"/>\n",
       "<circle clip-path=\"url(#clip1002)\" cx=\"1837.24\" cy=\"522.324\" r=\"14\" fill=\"#009af9\" fill-rule=\"evenodd\" fill-opacity=\"1\" stroke=\"#000000\" stroke-opacity=\"1\" stroke-width=\"3.2\"/>\n",
       "<circle clip-path=\"url(#clip1002)\" cx=\"1837.24\" cy=\"522.324\" r=\"14\" fill=\"#009af9\" fill-rule=\"evenodd\" fill-opacity=\"1\" stroke=\"#000000\" stroke-opacity=\"1\" stroke-width=\"3.2\"/>\n",
       "<circle clip-path=\"url(#clip1002)\" cx=\"1837.24\" cy=\"522.324\" r=\"14\" fill=\"#009af9\" fill-rule=\"evenodd\" fill-opacity=\"1\" stroke=\"#000000\" stroke-opacity=\"1\" stroke-width=\"3.2\"/>\n",
       "<circle clip-path=\"url(#clip1002)\" cx=\"1837.24\" cy=\"522.324\" r=\"14\" fill=\"#009af9\" fill-rule=\"evenodd\" fill-opacity=\"1\" stroke=\"#000000\" stroke-opacity=\"1\" stroke-width=\"3.2\"/>\n",
       "<circle clip-path=\"url(#clip1002)\" cx=\"1837.24\" cy=\"522.324\" r=\"14\" fill=\"#009af9\" fill-rule=\"evenodd\" fill-opacity=\"1\" stroke=\"#000000\" stroke-opacity=\"1\" stroke-width=\"3.2\"/>\n",
       "<circle clip-path=\"url(#clip1002)\" cx=\"1837.24\" cy=\"522.324\" r=\"14\" fill=\"#009af9\" fill-rule=\"evenodd\" fill-opacity=\"1\" stroke=\"#000000\" stroke-opacity=\"1\" stroke-width=\"3.2\"/>\n",
       "<circle clip-path=\"url(#clip1002)\" cx=\"1837.24\" cy=\"522.324\" r=\"14\" fill=\"#009af9\" fill-rule=\"evenodd\" fill-opacity=\"1\" stroke=\"#000000\" stroke-opacity=\"1\" stroke-width=\"3.2\"/>\n",
       "<circle clip-path=\"url(#clip1002)\" cx=\"1837.24\" cy=\"522.324\" r=\"14\" fill=\"#009af9\" fill-rule=\"evenodd\" fill-opacity=\"1\" stroke=\"#000000\" stroke-opacity=\"1\" stroke-width=\"3.2\"/>\n",
       "<circle clip-path=\"url(#clip1002)\" cx=\"1837.24\" cy=\"522.324\" r=\"14\" fill=\"#009af9\" fill-rule=\"evenodd\" fill-opacity=\"1\" stroke=\"#000000\" stroke-opacity=\"1\" stroke-width=\"3.2\"/>\n",
       "<circle clip-path=\"url(#clip1002)\" cx=\"1837.24\" cy=\"522.324\" r=\"14\" fill=\"#009af9\" fill-rule=\"evenodd\" fill-opacity=\"1\" stroke=\"#000000\" stroke-opacity=\"1\" stroke-width=\"3.2\"/>\n",
       "<circle clip-path=\"url(#clip1002)\" cx=\"1837.24\" cy=\"522.324\" r=\"14\" fill=\"#009af9\" fill-rule=\"evenodd\" fill-opacity=\"1\" stroke=\"#000000\" stroke-opacity=\"1\" stroke-width=\"3.2\"/>\n",
       "<circle clip-path=\"url(#clip1002)\" cx=\"1837.24\" cy=\"522.324\" r=\"14\" fill=\"#009af9\" fill-rule=\"evenodd\" fill-opacity=\"1\" stroke=\"#000000\" stroke-opacity=\"1\" stroke-width=\"3.2\"/>\n",
       "<circle clip-path=\"url(#clip1002)\" cx=\"1837.24\" cy=\"522.324\" r=\"14\" fill=\"#009af9\" fill-rule=\"evenodd\" fill-opacity=\"1\" stroke=\"#000000\" stroke-opacity=\"1\" stroke-width=\"3.2\"/>\n",
       "<circle clip-path=\"url(#clip1002)\" cx=\"1837.24\" cy=\"522.324\" r=\"14\" fill=\"#009af9\" fill-rule=\"evenodd\" fill-opacity=\"1\" stroke=\"#000000\" stroke-opacity=\"1\" stroke-width=\"3.2\"/>\n",
       "<circle clip-path=\"url(#clip1002)\" cx=\"1837.24\" cy=\"522.324\" r=\"14\" fill=\"#009af9\" fill-rule=\"evenodd\" fill-opacity=\"1\" stroke=\"#000000\" stroke-opacity=\"1\" stroke-width=\"3.2\"/>\n",
       "<circle clip-path=\"url(#clip1002)\" cx=\"1837.24\" cy=\"522.324\" r=\"14\" fill=\"#009af9\" fill-rule=\"evenodd\" fill-opacity=\"1\" stroke=\"#000000\" stroke-opacity=\"1\" stroke-width=\"3.2\"/>\n",
       "<circle clip-path=\"url(#clip1002)\" cx=\"1837.24\" cy=\"522.324\" r=\"14\" fill=\"#009af9\" fill-rule=\"evenodd\" fill-opacity=\"1\" stroke=\"#000000\" stroke-opacity=\"1\" stroke-width=\"3.2\"/>\n",
       "<circle clip-path=\"url(#clip1002)\" cx=\"1837.24\" cy=\"522.324\" r=\"14\" fill=\"#009af9\" fill-rule=\"evenodd\" fill-opacity=\"1\" stroke=\"#000000\" stroke-opacity=\"1\" stroke-width=\"3.2\"/>\n",
       "<circle clip-path=\"url(#clip1002)\" cx=\"1837.24\" cy=\"522.324\" r=\"14\" fill=\"#009af9\" fill-rule=\"evenodd\" fill-opacity=\"1\" stroke=\"#000000\" stroke-opacity=\"1\" stroke-width=\"3.2\"/>\n",
       "<circle clip-path=\"url(#clip1002)\" cx=\"1837.24\" cy=\"522.324\" r=\"14\" fill=\"#009af9\" fill-rule=\"evenodd\" fill-opacity=\"1\" stroke=\"#000000\" stroke-opacity=\"1\" stroke-width=\"3.2\"/>\n",
       "<circle clip-path=\"url(#clip1002)\" cx=\"1837.24\" cy=\"522.324\" r=\"14\" fill=\"#009af9\" fill-rule=\"evenodd\" fill-opacity=\"1\" stroke=\"#000000\" stroke-opacity=\"1\" stroke-width=\"3.2\"/>\n",
       "<circle clip-path=\"url(#clip1002)\" cx=\"1837.24\" cy=\"522.324\" r=\"14\" fill=\"#009af9\" fill-rule=\"evenodd\" fill-opacity=\"1\" stroke=\"#000000\" stroke-opacity=\"1\" stroke-width=\"3.2\"/>\n",
       "<circle clip-path=\"url(#clip1002)\" cx=\"1837.24\" cy=\"522.324\" r=\"14\" fill=\"#009af9\" fill-rule=\"evenodd\" fill-opacity=\"1\" stroke=\"#000000\" stroke-opacity=\"1\" stroke-width=\"3.2\"/>\n",
       "<circle clip-path=\"url(#clip1002)\" cx=\"1837.24\" cy=\"522.324\" r=\"14\" fill=\"#009af9\" fill-rule=\"evenodd\" fill-opacity=\"1\" stroke=\"#000000\" stroke-opacity=\"1\" stroke-width=\"3.2\"/>\n",
       "<circle clip-path=\"url(#clip1002)\" cx=\"1837.24\" cy=\"522.324\" r=\"14\" fill=\"#009af9\" fill-rule=\"evenodd\" fill-opacity=\"1\" stroke=\"#000000\" stroke-opacity=\"1\" stroke-width=\"3.2\"/>\n",
       "<circle clip-path=\"url(#clip1002)\" cx=\"1837.24\" cy=\"522.324\" r=\"14\" fill=\"#009af9\" fill-rule=\"evenodd\" fill-opacity=\"1\" stroke=\"#000000\" stroke-opacity=\"1\" stroke-width=\"3.2\"/>\n",
       "<circle clip-path=\"url(#clip1002)\" cx=\"1837.24\" cy=\"522.324\" r=\"14\" fill=\"#009af9\" fill-rule=\"evenodd\" fill-opacity=\"1\" stroke=\"#000000\" stroke-opacity=\"1\" stroke-width=\"3.2\"/>\n",
       "<circle clip-path=\"url(#clip1002)\" cx=\"1837.24\" cy=\"522.324\" r=\"14\" fill=\"#009af9\" fill-rule=\"evenodd\" fill-opacity=\"1\" stroke=\"#000000\" stroke-opacity=\"1\" stroke-width=\"3.2\"/>\n",
       "<circle clip-path=\"url(#clip1002)\" cx=\"1837.24\" cy=\"522.324\" r=\"14\" fill=\"#009af9\" fill-rule=\"evenodd\" fill-opacity=\"1\" stroke=\"#000000\" stroke-opacity=\"1\" stroke-width=\"3.2\"/>\n",
       "<circle clip-path=\"url(#clip1002)\" cx=\"1837.24\" cy=\"522.324\" r=\"14\" fill=\"#009af9\" fill-rule=\"evenodd\" fill-opacity=\"1\" stroke=\"#000000\" stroke-opacity=\"1\" stroke-width=\"3.2\"/>\n",
       "<circle clip-path=\"url(#clip1002)\" cx=\"1837.24\" cy=\"522.324\" r=\"14\" fill=\"#009af9\" fill-rule=\"evenodd\" fill-opacity=\"1\" stroke=\"#000000\" stroke-opacity=\"1\" stroke-width=\"3.2\"/>\n",
       "<circle clip-path=\"url(#clip1002)\" cx=\"1837.24\" cy=\"522.324\" r=\"14\" fill=\"#009af9\" fill-rule=\"evenodd\" fill-opacity=\"1\" stroke=\"#000000\" stroke-opacity=\"1\" stroke-width=\"3.2\"/>\n",
       "<circle clip-path=\"url(#clip1002)\" cx=\"1837.24\" cy=\"522.324\" r=\"14\" fill=\"#009af9\" fill-rule=\"evenodd\" fill-opacity=\"1\" stroke=\"#000000\" stroke-opacity=\"1\" stroke-width=\"3.2\"/>\n",
       "<circle clip-path=\"url(#clip1002)\" cx=\"1837.24\" cy=\"522.324\" r=\"14\" fill=\"#009af9\" fill-rule=\"evenodd\" fill-opacity=\"1\" stroke=\"#000000\" stroke-opacity=\"1\" stroke-width=\"3.2\"/>\n",
       "<circle clip-path=\"url(#clip1002)\" cx=\"1837.24\" cy=\"522.324\" r=\"14\" fill=\"#009af9\" fill-rule=\"evenodd\" fill-opacity=\"1\" stroke=\"#000000\" stroke-opacity=\"1\" stroke-width=\"3.2\"/>\n",
       "<circle clip-path=\"url(#clip1002)\" cx=\"1837.24\" cy=\"522.324\" r=\"14\" fill=\"#009af9\" fill-rule=\"evenodd\" fill-opacity=\"1\" stroke=\"#000000\" stroke-opacity=\"1\" stroke-width=\"3.2\"/>\n",
       "<circle clip-path=\"url(#clip1002)\" cx=\"1837.24\" cy=\"522.324\" r=\"14\" fill=\"#009af9\" fill-rule=\"evenodd\" fill-opacity=\"1\" stroke=\"#000000\" stroke-opacity=\"1\" stroke-width=\"3.2\"/>\n",
       "<circle clip-path=\"url(#clip1002)\" cx=\"1837.24\" cy=\"522.324\" r=\"14\" fill=\"#009af9\" fill-rule=\"evenodd\" fill-opacity=\"1\" stroke=\"#000000\" stroke-opacity=\"1\" stroke-width=\"3.2\"/>\n",
       "<circle clip-path=\"url(#clip1002)\" cx=\"1837.24\" cy=\"522.324\" r=\"14\" fill=\"#009af9\" fill-rule=\"evenodd\" fill-opacity=\"1\" stroke=\"#000000\" stroke-opacity=\"1\" stroke-width=\"3.2\"/>\n",
       "<circle clip-path=\"url(#clip1002)\" cx=\"1837.24\" cy=\"522.324\" r=\"14\" fill=\"#009af9\" fill-rule=\"evenodd\" fill-opacity=\"1\" stroke=\"#000000\" stroke-opacity=\"1\" stroke-width=\"3.2\"/>\n",
       "<circle clip-path=\"url(#clip1002)\" cx=\"1837.24\" cy=\"522.324\" r=\"14\" fill=\"#009af9\" fill-rule=\"evenodd\" fill-opacity=\"1\" stroke=\"#000000\" stroke-opacity=\"1\" stroke-width=\"3.2\"/>\n",
       "<circle clip-path=\"url(#clip1002)\" cx=\"1837.24\" cy=\"522.324\" r=\"14\" fill=\"#009af9\" fill-rule=\"evenodd\" fill-opacity=\"1\" stroke=\"#000000\" stroke-opacity=\"1\" stroke-width=\"3.2\"/>\n",
       "<circle clip-path=\"url(#clip1002)\" cx=\"1837.24\" cy=\"522.324\" r=\"14\" fill=\"#009af9\" fill-rule=\"evenodd\" fill-opacity=\"1\" stroke=\"#000000\" stroke-opacity=\"1\" stroke-width=\"3.2\"/>\n",
       "<circle clip-path=\"url(#clip1002)\" cx=\"1837.24\" cy=\"522.324\" r=\"14\" fill=\"#009af9\" fill-rule=\"evenodd\" fill-opacity=\"1\" stroke=\"#000000\" stroke-opacity=\"1\" stroke-width=\"3.2\"/>\n",
       "<circle clip-path=\"url(#clip1002)\" cx=\"1837.24\" cy=\"522.324\" r=\"14\" fill=\"#009af9\" fill-rule=\"evenodd\" fill-opacity=\"1\" stroke=\"#000000\" stroke-opacity=\"1\" stroke-width=\"3.2\"/>\n",
       "<circle clip-path=\"url(#clip1002)\" cx=\"1837.24\" cy=\"522.324\" r=\"14\" fill=\"#009af9\" fill-rule=\"evenodd\" fill-opacity=\"1\" stroke=\"#000000\" stroke-opacity=\"1\" stroke-width=\"3.2\"/>\n",
       "<circle clip-path=\"url(#clip1002)\" cx=\"1837.24\" cy=\"522.324\" r=\"14\" fill=\"#009af9\" fill-rule=\"evenodd\" fill-opacity=\"1\" stroke=\"#000000\" stroke-opacity=\"1\" stroke-width=\"3.2\"/>\n",
       "<circle clip-path=\"url(#clip1002)\" cx=\"1837.24\" cy=\"522.324\" r=\"14\" fill=\"#009af9\" fill-rule=\"evenodd\" fill-opacity=\"1\" stroke=\"#000000\" stroke-opacity=\"1\" stroke-width=\"3.2\"/>\n",
       "<circle clip-path=\"url(#clip1002)\" cx=\"1837.24\" cy=\"522.324\" r=\"14\" fill=\"#009af9\" fill-rule=\"evenodd\" fill-opacity=\"1\" stroke=\"#000000\" stroke-opacity=\"1\" stroke-width=\"3.2\"/>\n",
       "<circle clip-path=\"url(#clip1002)\" cx=\"1837.24\" cy=\"522.324\" r=\"14\" fill=\"#009af9\" fill-rule=\"evenodd\" fill-opacity=\"1\" stroke=\"#000000\" stroke-opacity=\"1\" stroke-width=\"3.2\"/>\n",
       "<circle clip-path=\"url(#clip1002)\" cx=\"1837.24\" cy=\"522.324\" r=\"14\" fill=\"#009af9\" fill-rule=\"evenodd\" fill-opacity=\"1\" stroke=\"#000000\" stroke-opacity=\"1\" stroke-width=\"3.2\"/>\n",
       "<circle clip-path=\"url(#clip1002)\" cx=\"1837.24\" cy=\"522.324\" r=\"14\" fill=\"#009af9\" fill-rule=\"evenodd\" fill-opacity=\"1\" stroke=\"#000000\" stroke-opacity=\"1\" stroke-width=\"3.2\"/>\n",
       "<circle clip-path=\"url(#clip1002)\" cx=\"1837.24\" cy=\"522.324\" r=\"14\" fill=\"#009af9\" fill-rule=\"evenodd\" fill-opacity=\"1\" stroke=\"#000000\" stroke-opacity=\"1\" stroke-width=\"3.2\"/>\n",
       "<circle clip-path=\"url(#clip1002)\" cx=\"1837.24\" cy=\"522.324\" r=\"14\" fill=\"#009af9\" fill-rule=\"evenodd\" fill-opacity=\"1\" stroke=\"#000000\" stroke-opacity=\"1\" stroke-width=\"3.2\"/>\n",
       "<circle clip-path=\"url(#clip1002)\" cx=\"1837.24\" cy=\"522.324\" r=\"14\" fill=\"#009af9\" fill-rule=\"evenodd\" fill-opacity=\"1\" stroke=\"#000000\" stroke-opacity=\"1\" stroke-width=\"3.2\"/>\n",
       "<circle clip-path=\"url(#clip1002)\" cx=\"1837.24\" cy=\"522.324\" r=\"14\" fill=\"#009af9\" fill-rule=\"evenodd\" fill-opacity=\"1\" stroke=\"#000000\" stroke-opacity=\"1\" stroke-width=\"3.2\"/>\n",
       "<circle clip-path=\"url(#clip1002)\" cx=\"1837.24\" cy=\"522.324\" r=\"14\" fill=\"#009af9\" fill-rule=\"evenodd\" fill-opacity=\"1\" stroke=\"#000000\" stroke-opacity=\"1\" stroke-width=\"3.2\"/>\n",
       "<circle clip-path=\"url(#clip1002)\" cx=\"1837.24\" cy=\"522.324\" r=\"14\" fill=\"#009af9\" fill-rule=\"evenodd\" fill-opacity=\"1\" stroke=\"#000000\" stroke-opacity=\"1\" stroke-width=\"3.2\"/>\n",
       "<circle clip-path=\"url(#clip1002)\" cx=\"1837.24\" cy=\"522.324\" r=\"14\" fill=\"#009af9\" fill-rule=\"evenodd\" fill-opacity=\"1\" stroke=\"#000000\" stroke-opacity=\"1\" stroke-width=\"3.2\"/>\n",
       "<circle clip-path=\"url(#clip1002)\" cx=\"1837.24\" cy=\"522.324\" r=\"14\" fill=\"#009af9\" fill-rule=\"evenodd\" fill-opacity=\"1\" stroke=\"#000000\" stroke-opacity=\"1\" stroke-width=\"3.2\"/>\n",
       "<circle clip-path=\"url(#clip1002)\" cx=\"1837.24\" cy=\"522.324\" r=\"14\" fill=\"#009af9\" fill-rule=\"evenodd\" fill-opacity=\"1\" stroke=\"#000000\" stroke-opacity=\"1\" stroke-width=\"3.2\"/>\n",
       "<circle clip-path=\"url(#clip1002)\" cx=\"1837.24\" cy=\"522.324\" r=\"14\" fill=\"#009af9\" fill-rule=\"evenodd\" fill-opacity=\"1\" stroke=\"#000000\" stroke-opacity=\"1\" stroke-width=\"3.2\"/>\n",
       "<circle clip-path=\"url(#clip1002)\" cx=\"1837.24\" cy=\"522.324\" r=\"14\" fill=\"#009af9\" fill-rule=\"evenodd\" fill-opacity=\"1\" stroke=\"#000000\" stroke-opacity=\"1\" stroke-width=\"3.2\"/>\n",
       "<circle clip-path=\"url(#clip1002)\" cx=\"1837.24\" cy=\"522.324\" r=\"14\" fill=\"#009af9\" fill-rule=\"evenodd\" fill-opacity=\"1\" stroke=\"#000000\" stroke-opacity=\"1\" stroke-width=\"3.2\"/>\n",
       "<circle clip-path=\"url(#clip1002)\" cx=\"1837.24\" cy=\"522.324\" r=\"14\" fill=\"#009af9\" fill-rule=\"evenodd\" fill-opacity=\"1\" stroke=\"#000000\" stroke-opacity=\"1\" stroke-width=\"3.2\"/>\n",
       "<circle clip-path=\"url(#clip1002)\" cx=\"1837.24\" cy=\"522.324\" r=\"14\" fill=\"#009af9\" fill-rule=\"evenodd\" fill-opacity=\"1\" stroke=\"#000000\" stroke-opacity=\"1\" stroke-width=\"3.2\"/>\n",
       "<circle clip-path=\"url(#clip1002)\" cx=\"1837.24\" cy=\"522.324\" r=\"14\" fill=\"#009af9\" fill-rule=\"evenodd\" fill-opacity=\"1\" stroke=\"#000000\" stroke-opacity=\"1\" stroke-width=\"3.2\"/>\n",
       "<circle clip-path=\"url(#clip1002)\" cx=\"1837.24\" cy=\"522.324\" r=\"14\" fill=\"#009af9\" fill-rule=\"evenodd\" fill-opacity=\"1\" stroke=\"#000000\" stroke-opacity=\"1\" stroke-width=\"3.2\"/>\n",
       "<circle clip-path=\"url(#clip1002)\" cx=\"1837.24\" cy=\"522.324\" r=\"14\" fill=\"#009af9\" fill-rule=\"evenodd\" fill-opacity=\"1\" stroke=\"#000000\" stroke-opacity=\"1\" stroke-width=\"3.2\"/>\n",
       "<circle clip-path=\"url(#clip1002)\" cx=\"1837.24\" cy=\"522.324\" r=\"14\" fill=\"#009af9\" fill-rule=\"evenodd\" fill-opacity=\"1\" stroke=\"#000000\" stroke-opacity=\"1\" stroke-width=\"3.2\"/>\n",
       "<circle clip-path=\"url(#clip1002)\" cx=\"1837.24\" cy=\"522.324\" r=\"14\" fill=\"#009af9\" fill-rule=\"evenodd\" fill-opacity=\"1\" stroke=\"#000000\" stroke-opacity=\"1\" stroke-width=\"3.2\"/>\n",
       "<circle clip-path=\"url(#clip1002)\" cx=\"1837.24\" cy=\"522.324\" r=\"14\" fill=\"#009af9\" fill-rule=\"evenodd\" fill-opacity=\"1\" stroke=\"#000000\" stroke-opacity=\"1\" stroke-width=\"3.2\"/>\n",
       "<circle clip-path=\"url(#clip1002)\" cx=\"1837.24\" cy=\"522.324\" r=\"14\" fill=\"#009af9\" fill-rule=\"evenodd\" fill-opacity=\"1\" stroke=\"#000000\" stroke-opacity=\"1\" stroke-width=\"3.2\"/>\n",
       "<circle clip-path=\"url(#clip1002)\" cx=\"1837.24\" cy=\"522.324\" r=\"14\" fill=\"#009af9\" fill-rule=\"evenodd\" fill-opacity=\"1\" stroke=\"#000000\" stroke-opacity=\"1\" stroke-width=\"3.2\"/>\n",
       "<circle clip-path=\"url(#clip1002)\" cx=\"1837.24\" cy=\"522.324\" r=\"14\" fill=\"#009af9\" fill-rule=\"evenodd\" fill-opacity=\"1\" stroke=\"#000000\" stroke-opacity=\"1\" stroke-width=\"3.2\"/>\n",
       "<circle clip-path=\"url(#clip1002)\" cx=\"1837.24\" cy=\"522.324\" r=\"14\" fill=\"#009af9\" fill-rule=\"evenodd\" fill-opacity=\"1\" stroke=\"#000000\" stroke-opacity=\"1\" stroke-width=\"3.2\"/>\n",
       "<circle clip-path=\"url(#clip1002)\" cx=\"1837.24\" cy=\"522.324\" r=\"14\" fill=\"#009af9\" fill-rule=\"evenodd\" fill-opacity=\"1\" stroke=\"#000000\" stroke-opacity=\"1\" stroke-width=\"3.2\"/>\n",
       "<circle clip-path=\"url(#clip1002)\" cx=\"1837.24\" cy=\"522.324\" r=\"14\" fill=\"#009af9\" fill-rule=\"evenodd\" fill-opacity=\"1\" stroke=\"#000000\" stroke-opacity=\"1\" stroke-width=\"3.2\"/>\n",
       "<circle clip-path=\"url(#clip1002)\" cx=\"1837.24\" cy=\"522.324\" r=\"14\" fill=\"#009af9\" fill-rule=\"evenodd\" fill-opacity=\"1\" stroke=\"#000000\" stroke-opacity=\"1\" stroke-width=\"3.2\"/>\n",
       "<circle clip-path=\"url(#clip1002)\" cx=\"1837.24\" cy=\"522.324\" r=\"14\" fill=\"#009af9\" fill-rule=\"evenodd\" fill-opacity=\"1\" stroke=\"#000000\" stroke-opacity=\"1\" stroke-width=\"3.2\"/>\n",
       "<circle clip-path=\"url(#clip1002)\" cx=\"1837.24\" cy=\"522.324\" r=\"14\" fill=\"#009af9\" fill-rule=\"evenodd\" fill-opacity=\"1\" stroke=\"#000000\" stroke-opacity=\"1\" stroke-width=\"3.2\"/>\n",
       "<circle clip-path=\"url(#clip1002)\" cx=\"1837.24\" cy=\"522.324\" r=\"14\" fill=\"#009af9\" fill-rule=\"evenodd\" fill-opacity=\"1\" stroke=\"#000000\" stroke-opacity=\"1\" stroke-width=\"3.2\"/>\n",
       "<circle clip-path=\"url(#clip1002)\" cx=\"1837.24\" cy=\"522.324\" r=\"14\" fill=\"#009af9\" fill-rule=\"evenodd\" fill-opacity=\"1\" stroke=\"#000000\" stroke-opacity=\"1\" stroke-width=\"3.2\"/>\n",
       "<circle clip-path=\"url(#clip1002)\" cx=\"1837.24\" cy=\"522.324\" r=\"14\" fill=\"#009af9\" fill-rule=\"evenodd\" fill-opacity=\"1\" stroke=\"#000000\" stroke-opacity=\"1\" stroke-width=\"3.2\"/>\n",
       "<circle clip-path=\"url(#clip1002)\" cx=\"1837.24\" cy=\"522.324\" r=\"14\" fill=\"#009af9\" fill-rule=\"evenodd\" fill-opacity=\"1\" stroke=\"#000000\" stroke-opacity=\"1\" stroke-width=\"3.2\"/>\n",
       "<circle clip-path=\"url(#clip1002)\" cx=\"1837.24\" cy=\"522.324\" r=\"14\" fill=\"#009af9\" fill-rule=\"evenodd\" fill-opacity=\"1\" stroke=\"#000000\" stroke-opacity=\"1\" stroke-width=\"3.2\"/>\n",
       "<circle clip-path=\"url(#clip1002)\" cx=\"1837.24\" cy=\"522.324\" r=\"14\" fill=\"#009af9\" fill-rule=\"evenodd\" fill-opacity=\"1\" stroke=\"#000000\" stroke-opacity=\"1\" stroke-width=\"3.2\"/>\n",
       "<circle clip-path=\"url(#clip1002)\" cx=\"1837.24\" cy=\"522.324\" r=\"14\" fill=\"#009af9\" fill-rule=\"evenodd\" fill-opacity=\"1\" stroke=\"#000000\" stroke-opacity=\"1\" stroke-width=\"3.2\"/>\n",
       "<circle clip-path=\"url(#clip1002)\" cx=\"1837.24\" cy=\"522.324\" r=\"14\" fill=\"#009af9\" fill-rule=\"evenodd\" fill-opacity=\"1\" stroke=\"#000000\" stroke-opacity=\"1\" stroke-width=\"3.2\"/>\n",
       "<circle clip-path=\"url(#clip1002)\" cx=\"1837.24\" cy=\"522.324\" r=\"14\" fill=\"#009af9\" fill-rule=\"evenodd\" fill-opacity=\"1\" stroke=\"#000000\" stroke-opacity=\"1\" stroke-width=\"3.2\"/>\n",
       "<circle clip-path=\"url(#clip1002)\" cx=\"1837.24\" cy=\"522.324\" r=\"14\" fill=\"#009af9\" fill-rule=\"evenodd\" fill-opacity=\"1\" stroke=\"#000000\" stroke-opacity=\"1\" stroke-width=\"3.2\"/>\n",
       "<circle clip-path=\"url(#clip1002)\" cx=\"1835.2\" cy=\"511.797\" r=\"14\" fill=\"#009af9\" fill-rule=\"evenodd\" fill-opacity=\"1\" stroke=\"#000000\" stroke-opacity=\"1\" stroke-width=\"3.2\"/>\n",
       "<circle clip-path=\"url(#clip1002)\" cx=\"1749.49\" cy=\"499.639\" r=\"14\" fill=\"#009af9\" fill-rule=\"evenodd\" fill-opacity=\"1\" stroke=\"#000000\" stroke-opacity=\"1\" stroke-width=\"3.2\"/>\n",
       "<circle clip-path=\"url(#clip1002)\" cx=\"1709.5\" cy=\"496.866\" r=\"14\" fill=\"#009af9\" fill-rule=\"evenodd\" fill-opacity=\"1\" stroke=\"#000000\" stroke-opacity=\"1\" stroke-width=\"3.2\"/>\n",
       "<circle clip-path=\"url(#clip1002)\" cx=\"1837.24\" cy=\"522.324\" r=\"14\" fill=\"#009af9\" fill-rule=\"evenodd\" fill-opacity=\"1\" stroke=\"#000000\" stroke-opacity=\"1\" stroke-width=\"3.2\"/>\n",
       "<circle clip-path=\"url(#clip1002)\" cx=\"1837.24\" cy=\"522.324\" r=\"14\" fill=\"#009af9\" fill-rule=\"evenodd\" fill-opacity=\"1\" stroke=\"#000000\" stroke-opacity=\"1\" stroke-width=\"3.2\"/>\n",
       "<circle clip-path=\"url(#clip1002)\" cx=\"1837.24\" cy=\"522.324\" r=\"14\" fill=\"#009af9\" fill-rule=\"evenodd\" fill-opacity=\"1\" stroke=\"#000000\" stroke-opacity=\"1\" stroke-width=\"3.2\"/>\n",
       "<circle clip-path=\"url(#clip1002)\" cx=\"1837.24\" cy=\"522.324\" r=\"14\" fill=\"#009af9\" fill-rule=\"evenodd\" fill-opacity=\"1\" stroke=\"#000000\" stroke-opacity=\"1\" stroke-width=\"3.2\"/>\n",
       "<circle clip-path=\"url(#clip1002)\" cx=\"1837.24\" cy=\"522.324\" r=\"14\" fill=\"#009af9\" fill-rule=\"evenodd\" fill-opacity=\"1\" stroke=\"#000000\" stroke-opacity=\"1\" stroke-width=\"3.2\"/>\n",
       "<circle clip-path=\"url(#clip1002)\" cx=\"1837.24\" cy=\"522.324\" r=\"14\" fill=\"#009af9\" fill-rule=\"evenodd\" fill-opacity=\"1\" stroke=\"#000000\" stroke-opacity=\"1\" stroke-width=\"3.2\"/>\n",
       "<circle clip-path=\"url(#clip1002)\" cx=\"1837.24\" cy=\"522.324\" r=\"14\" fill=\"#009af9\" fill-rule=\"evenodd\" fill-opacity=\"1\" stroke=\"#000000\" stroke-opacity=\"1\" stroke-width=\"3.2\"/>\n",
       "<circle clip-path=\"url(#clip1002)\" cx=\"1837.24\" cy=\"522.324\" r=\"14\" fill=\"#009af9\" fill-rule=\"evenodd\" fill-opacity=\"1\" stroke=\"#000000\" stroke-opacity=\"1\" stroke-width=\"3.2\"/>\n",
       "<circle clip-path=\"url(#clip1002)\" cx=\"1837.24\" cy=\"522.324\" r=\"14\" fill=\"#009af9\" fill-rule=\"evenodd\" fill-opacity=\"1\" stroke=\"#000000\" stroke-opacity=\"1\" stroke-width=\"3.2\"/>\n",
       "<circle clip-path=\"url(#clip1002)\" cx=\"1837.24\" cy=\"522.324\" r=\"14\" fill=\"#009af9\" fill-rule=\"evenodd\" fill-opacity=\"1\" stroke=\"#000000\" stroke-opacity=\"1\" stroke-width=\"3.2\"/>\n",
       "<circle clip-path=\"url(#clip1002)\" cx=\"1837.24\" cy=\"522.324\" r=\"14\" fill=\"#009af9\" fill-rule=\"evenodd\" fill-opacity=\"1\" stroke=\"#000000\" stroke-opacity=\"1\" stroke-width=\"3.2\"/>\n",
       "<circle clip-path=\"url(#clip1002)\" cx=\"1837.24\" cy=\"522.324\" r=\"14\" fill=\"#009af9\" fill-rule=\"evenodd\" fill-opacity=\"1\" stroke=\"#000000\" stroke-opacity=\"1\" stroke-width=\"3.2\"/>\n",
       "<circle clip-path=\"url(#clip1002)\" cx=\"1837.24\" cy=\"522.324\" r=\"14\" fill=\"#009af9\" fill-rule=\"evenodd\" fill-opacity=\"1\" stroke=\"#000000\" stroke-opacity=\"1\" stroke-width=\"3.2\"/>\n",
       "<circle clip-path=\"url(#clip1002)\" cx=\"1837.24\" cy=\"522.324\" r=\"14\" fill=\"#009af9\" fill-rule=\"evenodd\" fill-opacity=\"1\" stroke=\"#000000\" stroke-opacity=\"1\" stroke-width=\"3.2\"/>\n",
       "<circle clip-path=\"url(#clip1002)\" cx=\"1837.24\" cy=\"522.324\" r=\"14\" fill=\"#009af9\" fill-rule=\"evenodd\" fill-opacity=\"1\" stroke=\"#000000\" stroke-opacity=\"1\" stroke-width=\"3.2\"/>\n",
       "<circle clip-path=\"url(#clip1002)\" cx=\"1837.24\" cy=\"522.324\" r=\"14\" fill=\"#009af9\" fill-rule=\"evenodd\" fill-opacity=\"1\" stroke=\"#000000\" stroke-opacity=\"1\" stroke-width=\"3.2\"/>\n",
       "<circle clip-path=\"url(#clip1002)\" cx=\"1837.24\" cy=\"522.324\" r=\"14\" fill=\"#009af9\" fill-rule=\"evenodd\" fill-opacity=\"1\" stroke=\"#000000\" stroke-opacity=\"1\" stroke-width=\"3.2\"/>\n",
       "<circle clip-path=\"url(#clip1002)\" cx=\"1837.24\" cy=\"522.324\" r=\"14\" fill=\"#009af9\" fill-rule=\"evenodd\" fill-opacity=\"1\" stroke=\"#000000\" stroke-opacity=\"1\" stroke-width=\"3.2\"/>\n",
       "<circle clip-path=\"url(#clip1002)\" cx=\"1837.24\" cy=\"522.324\" r=\"14\" fill=\"#009af9\" fill-rule=\"evenodd\" fill-opacity=\"1\" stroke=\"#000000\" stroke-opacity=\"1\" stroke-width=\"3.2\"/>\n",
       "<circle clip-path=\"url(#clip1002)\" cx=\"1837.24\" cy=\"522.324\" r=\"14\" fill=\"#009af9\" fill-rule=\"evenodd\" fill-opacity=\"1\" stroke=\"#000000\" stroke-opacity=\"1\" stroke-width=\"3.2\"/>\n",
       "<circle clip-path=\"url(#clip1002)\" cx=\"1837.24\" cy=\"522.324\" r=\"14\" fill=\"#009af9\" fill-rule=\"evenodd\" fill-opacity=\"1\" stroke=\"#000000\" stroke-opacity=\"1\" stroke-width=\"3.2\"/>\n",
       "<circle clip-path=\"url(#clip1002)\" cx=\"1837.24\" cy=\"522.324\" r=\"14\" fill=\"#009af9\" fill-rule=\"evenodd\" fill-opacity=\"1\" stroke=\"#000000\" stroke-opacity=\"1\" stroke-width=\"3.2\"/>\n",
       "<circle clip-path=\"url(#clip1002)\" cx=\"1837.24\" cy=\"522.324\" r=\"14\" fill=\"#009af9\" fill-rule=\"evenodd\" fill-opacity=\"1\" stroke=\"#000000\" stroke-opacity=\"1\" stroke-width=\"3.2\"/>\n",
       "<circle clip-path=\"url(#clip1002)\" cx=\"1837.24\" cy=\"522.324\" r=\"14\" fill=\"#009af9\" fill-rule=\"evenodd\" fill-opacity=\"1\" stroke=\"#000000\" stroke-opacity=\"1\" stroke-width=\"3.2\"/>\n",
       "<circle clip-path=\"url(#clip1002)\" cx=\"1837.24\" cy=\"522.324\" r=\"14\" fill=\"#009af9\" fill-rule=\"evenodd\" fill-opacity=\"1\" stroke=\"#000000\" stroke-opacity=\"1\" stroke-width=\"3.2\"/>\n",
       "<circle clip-path=\"url(#clip1002)\" cx=\"1837.24\" cy=\"522.324\" r=\"14\" fill=\"#009af9\" fill-rule=\"evenodd\" fill-opacity=\"1\" stroke=\"#000000\" stroke-opacity=\"1\" stroke-width=\"3.2\"/>\n",
       "<circle clip-path=\"url(#clip1002)\" cx=\"1636.52\" cy=\"489.434\" r=\"14\" fill=\"#009af9\" fill-rule=\"evenodd\" fill-opacity=\"1\" stroke=\"#000000\" stroke-opacity=\"1\" stroke-width=\"3.2\"/>\n",
       "<circle clip-path=\"url(#clip1002)\" cx=\"1837.24\" cy=\"522.324\" r=\"14\" fill=\"#009af9\" fill-rule=\"evenodd\" fill-opacity=\"1\" stroke=\"#000000\" stroke-opacity=\"1\" stroke-width=\"3.2\"/>\n",
       "<circle clip-path=\"url(#clip1002)\" cx=\"1837.24\" cy=\"522.324\" r=\"14\" fill=\"#009af9\" fill-rule=\"evenodd\" fill-opacity=\"1\" stroke=\"#000000\" stroke-opacity=\"1\" stroke-width=\"3.2\"/>\n",
       "<circle clip-path=\"url(#clip1002)\" cx=\"1837.24\" cy=\"522.324\" r=\"14\" fill=\"#009af9\" fill-rule=\"evenodd\" fill-opacity=\"1\" stroke=\"#000000\" stroke-opacity=\"1\" stroke-width=\"3.2\"/>\n",
       "<circle clip-path=\"url(#clip1002)\" cx=\"1837.24\" cy=\"522.324\" r=\"14\" fill=\"#009af9\" fill-rule=\"evenodd\" fill-opacity=\"1\" stroke=\"#000000\" stroke-opacity=\"1\" stroke-width=\"3.2\"/>\n",
       "<circle clip-path=\"url(#clip1002)\" cx=\"1837.24\" cy=\"522.324\" r=\"14\" fill=\"#009af9\" fill-rule=\"evenodd\" fill-opacity=\"1\" stroke=\"#000000\" stroke-opacity=\"1\" stroke-width=\"3.2\"/>\n",
       "<circle clip-path=\"url(#clip1002)\" cx=\"1837.24\" cy=\"522.324\" r=\"14\" fill=\"#009af9\" fill-rule=\"evenodd\" fill-opacity=\"1\" stroke=\"#000000\" stroke-opacity=\"1\" stroke-width=\"3.2\"/>\n",
       "<circle clip-path=\"url(#clip1002)\" cx=\"1837.24\" cy=\"522.324\" r=\"14\" fill=\"#009af9\" fill-rule=\"evenodd\" fill-opacity=\"1\" stroke=\"#000000\" stroke-opacity=\"1\" stroke-width=\"3.2\"/>\n",
       "<circle clip-path=\"url(#clip1002)\" cx=\"1837.24\" cy=\"522.324\" r=\"14\" fill=\"#009af9\" fill-rule=\"evenodd\" fill-opacity=\"1\" stroke=\"#000000\" stroke-opacity=\"1\" stroke-width=\"3.2\"/>\n",
       "<circle clip-path=\"url(#clip1002)\" cx=\"1754.5\" cy=\"511.965\" r=\"14\" fill=\"#009af9\" fill-rule=\"evenodd\" fill-opacity=\"1\" stroke=\"#000000\" stroke-opacity=\"1\" stroke-width=\"3.2\"/>\n",
       "<circle clip-path=\"url(#clip1002)\" cx=\"1782.97\" cy=\"516.41\" r=\"14\" fill=\"#009af9\" fill-rule=\"evenodd\" fill-opacity=\"1\" stroke=\"#000000\" stroke-opacity=\"1\" stroke-width=\"3.2\"/>\n",
       "<circle clip-path=\"url(#clip1002)\" cx=\"1782.97\" cy=\"516.41\" r=\"14\" fill=\"#009af9\" fill-rule=\"evenodd\" fill-opacity=\"1\" stroke=\"#000000\" stroke-opacity=\"1\" stroke-width=\"3.2\"/>\n",
       "<circle clip-path=\"url(#clip1002)\" cx=\"1820.34\" cy=\"520.19\" r=\"14\" fill=\"#009af9\" fill-rule=\"evenodd\" fill-opacity=\"1\" stroke=\"#000000\" stroke-opacity=\"1\" stroke-width=\"3.2\"/>\n",
       "<circle clip-path=\"url(#clip1002)\" cx=\"1635.9\" cy=\"499.62\" r=\"14\" fill=\"#009af9\" fill-rule=\"evenodd\" fill-opacity=\"1\" stroke=\"#000000\" stroke-opacity=\"1\" stroke-width=\"3.2\"/>\n",
       "<circle clip-path=\"url(#clip1002)\" cx=\"1782.97\" cy=\"516.41\" r=\"14\" fill=\"#009af9\" fill-rule=\"evenodd\" fill-opacity=\"1\" stroke=\"#000000\" stroke-opacity=\"1\" stroke-width=\"3.2\"/>\n",
       "<circle clip-path=\"url(#clip1002)\" cx=\"1820.34\" cy=\"520.19\" r=\"14\" fill=\"#009af9\" fill-rule=\"evenodd\" fill-opacity=\"1\" stroke=\"#000000\" stroke-opacity=\"1\" stroke-width=\"3.2\"/>\n",
       "<circle clip-path=\"url(#clip1002)\" cx=\"1652.8\" cy=\"501.753\" r=\"14\" fill=\"#009af9\" fill-rule=\"evenodd\" fill-opacity=\"1\" stroke=\"#000000\" stroke-opacity=\"1\" stroke-width=\"3.2\"/>\n",
       "<circle clip-path=\"url(#clip1002)\" cx=\"1815.84\" cy=\"522.157\" r=\"14\" fill=\"#009af9\" fill-rule=\"evenodd\" fill-opacity=\"1\" stroke=\"#000000\" stroke-opacity=\"1\" stroke-width=\"3.2\"/>\n",
       "<circle clip-path=\"url(#clip1002)\" cx=\"1782.18\" cy=\"516.642\" r=\"14\" fill=\"#009af9\" fill-rule=\"evenodd\" fill-opacity=\"1\" stroke=\"#000000\" stroke-opacity=\"1\" stroke-width=\"3.2\"/>\n",
       "<circle clip-path=\"url(#clip1002)\" cx=\"1641.67\" cy=\"503.248\" r=\"14\" fill=\"#009af9\" fill-rule=\"evenodd\" fill-opacity=\"1\" stroke=\"#000000\" stroke-opacity=\"1\" stroke-width=\"3.2\"/>\n",
       "<circle clip-path=\"url(#clip1002)\" cx=\"1782.35\" cy=\"526.596\" r=\"14\" fill=\"#009af9\" fill-rule=\"evenodd\" fill-opacity=\"1\" stroke=\"#000000\" stroke-opacity=\"1\" stroke-width=\"3.2\"/>\n",
       "<circle clip-path=\"url(#clip1002)\" cx=\"1782.35\" cy=\"526.596\" r=\"14\" fill=\"#009af9\" fill-rule=\"evenodd\" fill-opacity=\"1\" stroke=\"#000000\" stroke-opacity=\"1\" stroke-width=\"3.2\"/>\n",
       "<circle clip-path=\"url(#clip1002)\" cx=\"1813.56\" cy=\"532.595\" r=\"14\" fill=\"#009af9\" fill-rule=\"evenodd\" fill-opacity=\"1\" stroke=\"#000000\" stroke-opacity=\"1\" stroke-width=\"3.2\"/>\n",
       "<circle clip-path=\"url(#clip1002)\" cx=\"1767.37\" cy=\"518.179\" r=\"14\" fill=\"#009af9\" fill-rule=\"evenodd\" fill-opacity=\"1\" stroke=\"#000000\" stroke-opacity=\"1\" stroke-width=\"3.2\"/>\n",
       "<circle clip-path=\"url(#clip1002)\" cx=\"1799.25\" cy=\"528.73\" r=\"14\" fill=\"#009af9\" fill-rule=\"evenodd\" fill-opacity=\"1\" stroke=\"#000000\" stroke-opacity=\"1\" stroke-width=\"3.2\"/>\n",
       "<circle clip-path=\"url(#clip1002)\" cx=\"1799.25\" cy=\"528.73\" r=\"14\" fill=\"#009af9\" fill-rule=\"evenodd\" fill-opacity=\"1\" stroke=\"#000000\" stroke-opacity=\"1\" stroke-width=\"3.2\"/>\n",
       "<circle clip-path=\"url(#clip1002)\" cx=\"1778.64\" cy=\"528.331\" r=\"14\" fill=\"#009af9\" fill-rule=\"evenodd\" fill-opacity=\"1\" stroke=\"#000000\" stroke-opacity=\"1\" stroke-width=\"3.2\"/>\n",
       "<circle clip-path=\"url(#clip1002)\" cx=\"1778.64\" cy=\"528.331\" r=\"14\" fill=\"#009af9\" fill-rule=\"evenodd\" fill-opacity=\"1\" stroke=\"#000000\" stroke-opacity=\"1\" stroke-width=\"3.2\"/>\n",
       "<circle clip-path=\"url(#clip1002)\" cx=\"1763.65\" cy=\"525.077\" r=\"14\" fill=\"#009af9\" fill-rule=\"evenodd\" fill-opacity=\"1\" stroke=\"#000000\" stroke-opacity=\"1\" stroke-width=\"3.2\"/>\n",
       "<circle clip-path=\"url(#clip1002)\" cx=\"1731.11\" cy=\"526.406\" r=\"14\" fill=\"#009af9\" fill-rule=\"evenodd\" fill-opacity=\"1\" stroke=\"#000000\" stroke-opacity=\"1\" stroke-width=\"3.2\"/>\n",
       "<circle clip-path=\"url(#clip1002)\" cx=\"1729.41\" cy=\"525.933\" r=\"14\" fill=\"#009af9\" fill-rule=\"evenodd\" fill-opacity=\"1\" stroke=\"#000000\" stroke-opacity=\"1\" stroke-width=\"3.2\"/>\n",
       "<circle clip-path=\"url(#clip1002)\" cx=\"1729.41\" cy=\"525.933\" r=\"14\" fill=\"#009af9\" fill-rule=\"evenodd\" fill-opacity=\"1\" stroke=\"#000000\" stroke-opacity=\"1\" stroke-width=\"3.2\"/>\n",
       "<circle clip-path=\"url(#clip1002)\" cx=\"1837.24\" cy=\"522.324\" r=\"14\" fill=\"#009af9\" fill-rule=\"evenodd\" fill-opacity=\"1\" stroke=\"#000000\" stroke-opacity=\"1\" stroke-width=\"3.2\"/>\n",
       "<circle clip-path=\"url(#clip1002)\" cx=\"1693.53\" cy=\"493.253\" r=\"14\" fill=\"#009af9\" fill-rule=\"evenodd\" fill-opacity=\"1\" stroke=\"#000000\" stroke-opacity=\"1\" stroke-width=\"3.2\"/>\n",
       "<circle clip-path=\"url(#clip1002)\" cx=\"1693.53\" cy=\"493.253\" r=\"14\" fill=\"#009af9\" fill-rule=\"evenodd\" fill-opacity=\"1\" stroke=\"#000000\" stroke-opacity=\"1\" stroke-width=\"3.2\"/>\n",
       "<circle clip-path=\"url(#clip1002)\" cx=\"1835.2\" cy=\"511.797\" r=\"14\" fill=\"#009af9\" fill-rule=\"evenodd\" fill-opacity=\"1\" stroke=\"#000000\" stroke-opacity=\"1\" stroke-width=\"3.2\"/>\n",
       "<circle clip-path=\"url(#clip1002)\" cx=\"1820.34\" cy=\"520.19\" r=\"14\" fill=\"#009af9\" fill-rule=\"evenodd\" fill-opacity=\"1\" stroke=\"#000000\" stroke-opacity=\"1\" stroke-width=\"3.2\"/>\n",
       "<circle clip-path=\"url(#clip1002)\" cx=\"1837.24\" cy=\"522.324\" r=\"14\" fill=\"#009af9\" fill-rule=\"evenodd\" fill-opacity=\"1\" stroke=\"#000000\" stroke-opacity=\"1\" stroke-width=\"3.2\"/>\n",
       "<circle clip-path=\"url(#clip1002)\" cx=\"1730.9\" cy=\"497.033\" r=\"14\" fill=\"#009af9\" fill-rule=\"evenodd\" fill-opacity=\"1\" stroke=\"#000000\" stroke-opacity=\"1\" stroke-width=\"3.2\"/>\n",
       "<circle clip-path=\"url(#clip1002)\" cx=\"1730.9\" cy=\"497.033\" r=\"14\" fill=\"#009af9\" fill-rule=\"evenodd\" fill-opacity=\"1\" stroke=\"#000000\" stroke-opacity=\"1\" stroke-width=\"3.2\"/>\n",
       "<circle clip-path=\"url(#clip1002)\" cx=\"1834.57\" cy=\"532.135\" r=\"14\" fill=\"#009af9\" fill-rule=\"evenodd\" fill-opacity=\"1\" stroke=\"#000000\" stroke-opacity=\"1\" stroke-width=\"3.2\"/>\n",
       "<circle clip-path=\"url(#clip1002)\" cx=\"1692.91\" cy=\"503.439\" r=\"14\" fill=\"#009af9\" fill-rule=\"evenodd\" fill-opacity=\"1\" stroke=\"#000000\" stroke-opacity=\"1\" stroke-width=\"3.2\"/>\n",
       "<circle clip-path=\"url(#clip1002)\" cx=\"1837.24\" cy=\"522.324\" r=\"14\" fill=\"#009af9\" fill-rule=\"evenodd\" fill-opacity=\"1\" stroke=\"#000000\" stroke-opacity=\"1\" stroke-width=\"3.2\"/>\n",
       "<circle clip-path=\"url(#clip1002)\" cx=\"1837.24\" cy=\"522.324\" r=\"14\" fill=\"#009af9\" fill-rule=\"evenodd\" fill-opacity=\"1\" stroke=\"#000000\" stroke-opacity=\"1\" stroke-width=\"3.2\"/>\n",
       "<circle clip-path=\"url(#clip1002)\" cx=\"1672.13\" cy=\"493.086\" r=\"14\" fill=\"#009af9\" fill-rule=\"evenodd\" fill-opacity=\"1\" stroke=\"#000000\" stroke-opacity=\"1\" stroke-width=\"3.2\"/>\n",
       "<circle clip-path=\"url(#clip1002)\" cx=\"1618.14\" cy=\"516.201\" r=\"14\" fill=\"#009af9\" fill-rule=\"evenodd\" fill-opacity=\"1\" stroke=\"#000000\" stroke-opacity=\"1\" stroke-width=\"3.2\"/>\n",
       "<circle clip-path=\"url(#clip1002)\" cx=\"1820.34\" cy=\"520.19\" r=\"14\" fill=\"#009af9\" fill-rule=\"evenodd\" fill-opacity=\"1\" stroke=\"#000000\" stroke-opacity=\"1\" stroke-width=\"3.2\"/>\n",
       "<circle clip-path=\"url(#clip1002)\" cx=\"1837.24\" cy=\"522.324\" r=\"14\" fill=\"#009af9\" fill-rule=\"evenodd\" fill-opacity=\"1\" stroke=\"#000000\" stroke-opacity=\"1\" stroke-width=\"3.2\"/>\n",
       "<circle clip-path=\"url(#clip1002)\" cx=\"1782.35\" cy=\"526.596\" r=\"14\" fill=\"#009af9\" fill-rule=\"evenodd\" fill-opacity=\"1\" stroke=\"#000000\" stroke-opacity=\"1\" stroke-width=\"3.2\"/>\n",
       "<circle clip-path=\"url(#clip1002)\" cx=\"1799.25\" cy=\"528.73\" r=\"14\" fill=\"#009af9\" fill-rule=\"evenodd\" fill-opacity=\"1\" stroke=\"#000000\" stroke-opacity=\"1\" stroke-width=\"3.2\"/>\n",
       "<circle clip-path=\"url(#clip1002)\" cx=\"1837.24\" cy=\"522.324\" r=\"14\" fill=\"#009af9\" fill-rule=\"evenodd\" fill-opacity=\"1\" stroke=\"#000000\" stroke-opacity=\"1\" stroke-width=\"3.2\"/>\n",
       "<circle clip-path=\"url(#clip1002)\" cx=\"1837.24\" cy=\"522.324\" r=\"14\" fill=\"#009af9\" fill-rule=\"evenodd\" fill-opacity=\"1\" stroke=\"#000000\" stroke-opacity=\"1\" stroke-width=\"3.2\"/>\n",
       "<circle clip-path=\"url(#clip1002)\" cx=\"1837.24\" cy=\"522.324\" r=\"14\" fill=\"#009af9\" fill-rule=\"evenodd\" fill-opacity=\"1\" stroke=\"#000000\" stroke-opacity=\"1\" stroke-width=\"3.2\"/>\n",
       "<circle clip-path=\"url(#clip1002)\" cx=\"1837.24\" cy=\"522.324\" r=\"14\" fill=\"#009af9\" fill-rule=\"evenodd\" fill-opacity=\"1\" stroke=\"#000000\" stroke-opacity=\"1\" stroke-width=\"3.2\"/>\n",
       "<circle clip-path=\"url(#clip1002)\" cx=\"1636.52\" cy=\"489.434\" r=\"14\" fill=\"#e26f46\" fill-rule=\"evenodd\" fill-opacity=\"1\" stroke=\"#000000\" stroke-opacity=\"1\" stroke-width=\"3.2\"/>\n",
       "<circle clip-path=\"url(#clip1002)\" cx=\"1837.24\" cy=\"522.324\" r=\"14\" fill=\"#e26f46\" fill-rule=\"evenodd\" fill-opacity=\"1\" stroke=\"#000000\" stroke-opacity=\"1\" stroke-width=\"3.2\"/>\n",
       "<circle clip-path=\"url(#clip1002)\" cx=\"1835.2\" cy=\"511.797\" r=\"14\" fill=\"#e26f46\" fill-rule=\"evenodd\" fill-opacity=\"1\" stroke=\"#000000\" stroke-opacity=\"1\" stroke-width=\"3.2\"/>\n",
       "<circle clip-path=\"url(#clip1002)\" cx=\"1800.74\" cy=\"499.83\" r=\"14\" fill=\"#e26f46\" fill-rule=\"evenodd\" fill-opacity=\"1\" stroke=\"#000000\" stroke-opacity=\"1\" stroke-width=\"3.2\"/>\n",
       "<circle clip-path=\"url(#clip1002)\" cx=\"1837.24\" cy=\"522.324\" r=\"14\" fill=\"#e26f46\" fill-rule=\"evenodd\" fill-opacity=\"1\" stroke=\"#000000\" stroke-opacity=\"1\" stroke-width=\"3.2\"/>\n",
       "<circle clip-path=\"url(#clip1002)\" cx=\"1835.2\" cy=\"511.797\" r=\"14\" fill=\"#e26f46\" fill-rule=\"evenodd\" fill-opacity=\"1\" stroke=\"#000000\" stroke-opacity=\"1\" stroke-width=\"3.2\"/>\n",
       "<circle clip-path=\"url(#clip1002)\" cx=\"1800.74\" cy=\"499.83\" r=\"14\" fill=\"#e26f46\" fill-rule=\"evenodd\" fill-opacity=\"1\" stroke=\"#000000\" stroke-opacity=\"1\" stroke-width=\"3.2\"/>\n",
       "<circle clip-path=\"url(#clip1002)\" cx=\"1749.49\" cy=\"499.639\" r=\"14\" fill=\"#e26f46\" fill-rule=\"evenodd\" fill-opacity=\"1\" stroke=\"#000000\" stroke-opacity=\"1\" stroke-width=\"3.2\"/>\n",
       "<circle clip-path=\"url(#clip1002)\" cx=\"1693.53\" cy=\"493.253\" r=\"14\" fill=\"#e26f46\" fill-rule=\"evenodd\" fill-opacity=\"1\" stroke=\"#000000\" stroke-opacity=\"1\" stroke-width=\"3.2\"/>\n",
       "<circle clip-path=\"url(#clip1002)\" cx=\"1709.5\" cy=\"496.866\" r=\"14\" fill=\"#e26f46\" fill-rule=\"evenodd\" fill-opacity=\"1\" stroke=\"#000000\" stroke-opacity=\"1\" stroke-width=\"3.2\"/>\n",
       "<circle clip-path=\"url(#clip1002)\" cx=\"1657.13\" cy=\"489.832\" r=\"14\" fill=\"#e26f46\" fill-rule=\"evenodd\" fill-opacity=\"1\" stroke=\"#000000\" stroke-opacity=\"1\" stroke-width=\"3.2\"/>\n",
       "<circle clip-path=\"url(#clip1002)\" cx=\"1672.13\" cy=\"493.086\" r=\"14\" fill=\"#e26f46\" fill-rule=\"evenodd\" fill-opacity=\"1\" stroke=\"#000000\" stroke-opacity=\"1\" stroke-width=\"3.2\"/>\n",
       "<circle clip-path=\"url(#clip1002)\" cx=\"1749.49\" cy=\"499.639\" r=\"14\" fill=\"#e26f46\" fill-rule=\"evenodd\" fill-opacity=\"1\" stroke=\"#000000\" stroke-opacity=\"1\" stroke-width=\"3.2\"/>\n",
       "<circle clip-path=\"url(#clip1002)\" cx=\"1730.9\" cy=\"497.033\" r=\"14\" fill=\"#e26f46\" fill-rule=\"evenodd\" fill-opacity=\"1\" stroke=\"#000000\" stroke-opacity=\"1\" stroke-width=\"3.2\"/>\n",
       "<circle clip-path=\"url(#clip1002)\" cx=\"1636.52\" cy=\"489.434\" r=\"14\" fill=\"#e26f46\" fill-rule=\"evenodd\" fill-opacity=\"1\" stroke=\"#000000\" stroke-opacity=\"1\" stroke-width=\"3.2\"/>\n",
       "<circle clip-path=\"url(#clip1002)\" cx=\"1657.13\" cy=\"489.832\" r=\"14\" fill=\"#e26f46\" fill-rule=\"evenodd\" fill-opacity=\"1\" stroke=\"#000000\" stroke-opacity=\"1\" stroke-width=\"3.2\"/>\n",
       "<circle clip-path=\"url(#clip1002)\" cx=\"1730.9\" cy=\"497.033\" r=\"14\" fill=\"#e26f46\" fill-rule=\"evenodd\" fill-opacity=\"1\" stroke=\"#000000\" stroke-opacity=\"1\" stroke-width=\"3.2\"/>\n",
       "<circle clip-path=\"url(#clip1002)\" cx=\"1709.5\" cy=\"496.866\" r=\"14\" fill=\"#e26f46\" fill-rule=\"evenodd\" fill-opacity=\"1\" stroke=\"#000000\" stroke-opacity=\"1\" stroke-width=\"3.2\"/>\n",
       "<circle clip-path=\"url(#clip1002)\" cx=\"1693.53\" cy=\"493.253\" r=\"14\" fill=\"#e26f46\" fill-rule=\"evenodd\" fill-opacity=\"1\" stroke=\"#000000\" stroke-opacity=\"1\" stroke-width=\"3.2\"/>\n",
       "<circle clip-path=\"url(#clip1002)\" cx=\"1672.13\" cy=\"493.086\" r=\"14\" fill=\"#e26f46\" fill-rule=\"evenodd\" fill-opacity=\"1\" stroke=\"#000000\" stroke-opacity=\"1\" stroke-width=\"3.2\"/>\n",
       "<circle clip-path=\"url(#clip1002)\" cx=\"1837.24\" cy=\"522.324\" r=\"14\" fill=\"#e26f46\" fill-rule=\"evenodd\" fill-opacity=\"1\" stroke=\"#000000\" stroke-opacity=\"1\" stroke-width=\"3.2\"/>\n",
       "<circle clip-path=\"url(#clip1002)\" cx=\"1837.24\" cy=\"522.324\" r=\"14\" fill=\"#e26f46\" fill-rule=\"evenodd\" fill-opacity=\"1\" stroke=\"#000000\" stroke-opacity=\"1\" stroke-width=\"3.2\"/>\n",
       "<circle clip-path=\"url(#clip1002)\" cx=\"1837.24\" cy=\"522.324\" r=\"14\" fill=\"#e26f46\" fill-rule=\"evenodd\" fill-opacity=\"1\" stroke=\"#000000\" stroke-opacity=\"1\" stroke-width=\"3.2\"/>\n",
       "<circle clip-path=\"url(#clip1002)\" cx=\"1837.24\" cy=\"522.324\" r=\"14\" fill=\"#e26f46\" fill-rule=\"evenodd\" fill-opacity=\"1\" stroke=\"#000000\" stroke-opacity=\"1\" stroke-width=\"3.2\"/>\n",
       "<circle clip-path=\"url(#clip1002)\" cx=\"1837.24\" cy=\"522.324\" r=\"14\" fill=\"#e26f46\" fill-rule=\"evenodd\" fill-opacity=\"1\" stroke=\"#000000\" stroke-opacity=\"1\" stroke-width=\"3.2\"/>\n",
       "<circle clip-path=\"url(#clip1002)\" cx=\"1837.24\" cy=\"522.324\" r=\"14\" fill=\"#e26f46\" fill-rule=\"evenodd\" fill-opacity=\"1\" stroke=\"#000000\" stroke-opacity=\"1\" stroke-width=\"3.2\"/>\n",
       "<circle clip-path=\"url(#clip1002)\" cx=\"1837.24\" cy=\"522.324\" r=\"14\" fill=\"#e26f46\" fill-rule=\"evenodd\" fill-opacity=\"1\" stroke=\"#000000\" stroke-opacity=\"1\" stroke-width=\"3.2\"/>\n",
       "<circle clip-path=\"url(#clip1002)\" cx=\"1837.24\" cy=\"522.324\" r=\"14\" fill=\"#e26f46\" fill-rule=\"evenodd\" fill-opacity=\"1\" stroke=\"#000000\" stroke-opacity=\"1\" stroke-width=\"3.2\"/>\n",
       "<circle clip-path=\"url(#clip1002)\" cx=\"1837.24\" cy=\"522.324\" r=\"14\" fill=\"#e26f46\" fill-rule=\"evenodd\" fill-opacity=\"1\" stroke=\"#000000\" stroke-opacity=\"1\" stroke-width=\"3.2\"/>\n",
       "<circle clip-path=\"url(#clip1002)\" cx=\"1837.24\" cy=\"522.324\" r=\"14\" fill=\"#e26f46\" fill-rule=\"evenodd\" fill-opacity=\"1\" stroke=\"#000000\" stroke-opacity=\"1\" stroke-width=\"3.2\"/>\n",
       "<circle clip-path=\"url(#clip1002)\" cx=\"1837.24\" cy=\"522.324\" r=\"14\" fill=\"#e26f46\" fill-rule=\"evenodd\" fill-opacity=\"1\" stroke=\"#000000\" stroke-opacity=\"1\" stroke-width=\"3.2\"/>\n",
       "<circle clip-path=\"url(#clip1002)\" cx=\"1837.24\" cy=\"522.324\" r=\"14\" fill=\"#e26f46\" fill-rule=\"evenodd\" fill-opacity=\"1\" stroke=\"#000000\" stroke-opacity=\"1\" stroke-width=\"3.2\"/>\n",
       "<circle clip-path=\"url(#clip1002)\" cx=\"1837.24\" cy=\"522.324\" r=\"14\" fill=\"#e26f46\" fill-rule=\"evenodd\" fill-opacity=\"1\" stroke=\"#000000\" stroke-opacity=\"1\" stroke-width=\"3.2\"/>\n",
       "<circle clip-path=\"url(#clip1002)\" cx=\"1837.24\" cy=\"522.324\" r=\"14\" fill=\"#e26f46\" fill-rule=\"evenodd\" fill-opacity=\"1\" stroke=\"#000000\" stroke-opacity=\"1\" stroke-width=\"3.2\"/>\n",
       "<circle clip-path=\"url(#clip1002)\" cx=\"1837.24\" cy=\"522.324\" r=\"14\" fill=\"#e26f46\" fill-rule=\"evenodd\" fill-opacity=\"1\" stroke=\"#000000\" stroke-opacity=\"1\" stroke-width=\"3.2\"/>\n",
       "<circle clip-path=\"url(#clip1002)\" cx=\"1837.24\" cy=\"522.324\" r=\"14\" fill=\"#e26f46\" fill-rule=\"evenodd\" fill-opacity=\"1\" stroke=\"#000000\" stroke-opacity=\"1\" stroke-width=\"3.2\"/>\n",
       "<circle clip-path=\"url(#clip1002)\" cx=\"1837.24\" cy=\"522.324\" r=\"14\" fill=\"#e26f46\" fill-rule=\"evenodd\" fill-opacity=\"1\" stroke=\"#000000\" stroke-opacity=\"1\" stroke-width=\"3.2\"/>\n",
       "<circle clip-path=\"url(#clip1002)\" cx=\"1837.24\" cy=\"522.324\" r=\"14\" fill=\"#e26f46\" fill-rule=\"evenodd\" fill-opacity=\"1\" stroke=\"#000000\" stroke-opacity=\"1\" stroke-width=\"3.2\"/>\n",
       "<circle clip-path=\"url(#clip1002)\" cx=\"1837.24\" cy=\"522.324\" r=\"14\" fill=\"#e26f46\" fill-rule=\"evenodd\" fill-opacity=\"1\" stroke=\"#000000\" stroke-opacity=\"1\" stroke-width=\"3.2\"/>\n",
       "<circle clip-path=\"url(#clip1002)\" cx=\"1837.24\" cy=\"522.324\" r=\"14\" fill=\"#e26f46\" fill-rule=\"evenodd\" fill-opacity=\"1\" stroke=\"#000000\" stroke-opacity=\"1\" stroke-width=\"3.2\"/>\n",
       "<circle clip-path=\"url(#clip1002)\" cx=\"1837.24\" cy=\"522.324\" r=\"14\" fill=\"#e26f46\" fill-rule=\"evenodd\" fill-opacity=\"1\" stroke=\"#000000\" stroke-opacity=\"1\" stroke-width=\"3.2\"/>\n",
       "<circle clip-path=\"url(#clip1002)\" cx=\"1837.24\" cy=\"522.324\" r=\"14\" fill=\"#e26f46\" fill-rule=\"evenodd\" fill-opacity=\"1\" stroke=\"#000000\" stroke-opacity=\"1\" stroke-width=\"3.2\"/>\n",
       "<circle clip-path=\"url(#clip1002)\" cx=\"1837.24\" cy=\"522.324\" r=\"14\" fill=\"#e26f46\" fill-rule=\"evenodd\" fill-opacity=\"1\" stroke=\"#000000\" stroke-opacity=\"1\" stroke-width=\"3.2\"/>\n",
       "<circle clip-path=\"url(#clip1002)\" cx=\"1837.24\" cy=\"522.324\" r=\"14\" fill=\"#e26f46\" fill-rule=\"evenodd\" fill-opacity=\"1\" stroke=\"#000000\" stroke-opacity=\"1\" stroke-width=\"3.2\"/>\n",
       "<circle clip-path=\"url(#clip1002)\" cx=\"1837.24\" cy=\"522.324\" r=\"14\" fill=\"#e26f46\" fill-rule=\"evenodd\" fill-opacity=\"1\" stroke=\"#000000\" stroke-opacity=\"1\" stroke-width=\"3.2\"/>\n",
       "<circle clip-path=\"url(#clip1002)\" cx=\"1837.24\" cy=\"522.324\" r=\"14\" fill=\"#e26f46\" fill-rule=\"evenodd\" fill-opacity=\"1\" stroke=\"#000000\" stroke-opacity=\"1\" stroke-width=\"3.2\"/>\n",
       "<circle clip-path=\"url(#clip1002)\" cx=\"1837.24\" cy=\"522.324\" r=\"14\" fill=\"#e26f46\" fill-rule=\"evenodd\" fill-opacity=\"1\" stroke=\"#000000\" stroke-opacity=\"1\" stroke-width=\"3.2\"/>\n",
       "<circle clip-path=\"url(#clip1002)\" cx=\"1837.24\" cy=\"522.324\" r=\"14\" fill=\"#e26f46\" fill-rule=\"evenodd\" fill-opacity=\"1\" stroke=\"#000000\" stroke-opacity=\"1\" stroke-width=\"3.2\"/>\n",
       "<circle clip-path=\"url(#clip1002)\" cx=\"1837.24\" cy=\"522.324\" r=\"14\" fill=\"#e26f46\" fill-rule=\"evenodd\" fill-opacity=\"1\" stroke=\"#000000\" stroke-opacity=\"1\" stroke-width=\"3.2\"/>\n",
       "<circle clip-path=\"url(#clip1002)\" cx=\"1837.24\" cy=\"522.324\" r=\"14\" fill=\"#e26f46\" fill-rule=\"evenodd\" fill-opacity=\"1\" stroke=\"#000000\" stroke-opacity=\"1\" stroke-width=\"3.2\"/>\n",
       "<circle clip-path=\"url(#clip1002)\" cx=\"1837.24\" cy=\"522.324\" r=\"14\" fill=\"#e26f46\" fill-rule=\"evenodd\" fill-opacity=\"1\" stroke=\"#000000\" stroke-opacity=\"1\" stroke-width=\"3.2\"/>\n",
       "<circle clip-path=\"url(#clip1002)\" cx=\"1837.24\" cy=\"522.324\" r=\"14\" fill=\"#e26f46\" fill-rule=\"evenodd\" fill-opacity=\"1\" stroke=\"#000000\" stroke-opacity=\"1\" stroke-width=\"3.2\"/>\n",
       "<circle clip-path=\"url(#clip1002)\" cx=\"1837.24\" cy=\"522.324\" r=\"14\" fill=\"#e26f46\" fill-rule=\"evenodd\" fill-opacity=\"1\" stroke=\"#000000\" stroke-opacity=\"1\" stroke-width=\"3.2\"/>\n",
       "<circle clip-path=\"url(#clip1002)\" cx=\"1837.24\" cy=\"522.324\" r=\"14\" fill=\"#e26f46\" fill-rule=\"evenodd\" fill-opacity=\"1\" stroke=\"#000000\" stroke-opacity=\"1\" stroke-width=\"3.2\"/>\n",
       "<circle clip-path=\"url(#clip1002)\" cx=\"1837.24\" cy=\"522.324\" r=\"14\" fill=\"#e26f46\" fill-rule=\"evenodd\" fill-opacity=\"1\" stroke=\"#000000\" stroke-opacity=\"1\" stroke-width=\"3.2\"/>\n",
       "<circle clip-path=\"url(#clip1002)\" cx=\"1837.24\" cy=\"522.324\" r=\"14\" fill=\"#e26f46\" fill-rule=\"evenodd\" fill-opacity=\"1\" stroke=\"#000000\" stroke-opacity=\"1\" stroke-width=\"3.2\"/>\n",
       "<circle clip-path=\"url(#clip1002)\" cx=\"1837.24\" cy=\"522.324\" r=\"14\" fill=\"#e26f46\" fill-rule=\"evenodd\" fill-opacity=\"1\" stroke=\"#000000\" stroke-opacity=\"1\" stroke-width=\"3.2\"/>\n",
       "<circle clip-path=\"url(#clip1002)\" cx=\"1837.24\" cy=\"522.324\" r=\"14\" fill=\"#e26f46\" fill-rule=\"evenodd\" fill-opacity=\"1\" stroke=\"#000000\" stroke-opacity=\"1\" stroke-width=\"3.2\"/>\n",
       "<circle clip-path=\"url(#clip1002)\" cx=\"1837.24\" cy=\"522.324\" r=\"14\" fill=\"#e26f46\" fill-rule=\"evenodd\" fill-opacity=\"1\" stroke=\"#000000\" stroke-opacity=\"1\" stroke-width=\"3.2\"/>\n",
       "<circle clip-path=\"url(#clip1002)\" cx=\"1837.24\" cy=\"522.324\" r=\"14\" fill=\"#e26f46\" fill-rule=\"evenodd\" fill-opacity=\"1\" stroke=\"#000000\" stroke-opacity=\"1\" stroke-width=\"3.2\"/>\n",
       "<circle clip-path=\"url(#clip1002)\" cx=\"1837.24\" cy=\"522.324\" r=\"14\" fill=\"#e26f46\" fill-rule=\"evenodd\" fill-opacity=\"1\" stroke=\"#000000\" stroke-opacity=\"1\" stroke-width=\"3.2\"/>\n",
       "<circle clip-path=\"url(#clip1002)\" cx=\"1837.24\" cy=\"522.324\" r=\"14\" fill=\"#e26f46\" fill-rule=\"evenodd\" fill-opacity=\"1\" stroke=\"#000000\" stroke-opacity=\"1\" stroke-width=\"3.2\"/>\n",
       "<circle clip-path=\"url(#clip1002)\" cx=\"1837.24\" cy=\"522.324\" r=\"14\" fill=\"#e26f46\" fill-rule=\"evenodd\" fill-opacity=\"1\" stroke=\"#000000\" stroke-opacity=\"1\" stroke-width=\"3.2\"/>\n",
       "<circle clip-path=\"url(#clip1002)\" cx=\"1837.24\" cy=\"522.324\" r=\"14\" fill=\"#e26f46\" fill-rule=\"evenodd\" fill-opacity=\"1\" stroke=\"#000000\" stroke-opacity=\"1\" stroke-width=\"3.2\"/>\n",
       "<circle clip-path=\"url(#clip1002)\" cx=\"1837.24\" cy=\"522.324\" r=\"14\" fill=\"#e26f46\" fill-rule=\"evenodd\" fill-opacity=\"1\" stroke=\"#000000\" stroke-opacity=\"1\" stroke-width=\"3.2\"/>\n",
       "<circle clip-path=\"url(#clip1002)\" cx=\"1837.24\" cy=\"522.324\" r=\"14\" fill=\"#e26f46\" fill-rule=\"evenodd\" fill-opacity=\"1\" stroke=\"#000000\" stroke-opacity=\"1\" stroke-width=\"3.2\"/>\n",
       "<circle clip-path=\"url(#clip1002)\" cx=\"1837.24\" cy=\"522.324\" r=\"14\" fill=\"#e26f46\" fill-rule=\"evenodd\" fill-opacity=\"1\" stroke=\"#000000\" stroke-opacity=\"1\" stroke-width=\"3.2\"/>\n",
       "<circle clip-path=\"url(#clip1002)\" cx=\"1837.24\" cy=\"522.324\" r=\"14\" fill=\"#e26f46\" fill-rule=\"evenodd\" fill-opacity=\"1\" stroke=\"#000000\" stroke-opacity=\"1\" stroke-width=\"3.2\"/>\n",
       "<circle clip-path=\"url(#clip1002)\" cx=\"1837.24\" cy=\"522.324\" r=\"14\" fill=\"#e26f46\" fill-rule=\"evenodd\" fill-opacity=\"1\" stroke=\"#000000\" stroke-opacity=\"1\" stroke-width=\"3.2\"/>\n",
       "<circle clip-path=\"url(#clip1002)\" cx=\"1837.24\" cy=\"522.324\" r=\"14\" fill=\"#e26f46\" fill-rule=\"evenodd\" fill-opacity=\"1\" stroke=\"#000000\" stroke-opacity=\"1\" stroke-width=\"3.2\"/>\n",
       "<circle clip-path=\"url(#clip1002)\" cx=\"1837.24\" cy=\"522.324\" r=\"14\" fill=\"#e26f46\" fill-rule=\"evenodd\" fill-opacity=\"1\" stroke=\"#000000\" stroke-opacity=\"1\" stroke-width=\"3.2\"/>\n",
       "<circle clip-path=\"url(#clip1002)\" cx=\"1837.24\" cy=\"522.324\" r=\"14\" fill=\"#e26f46\" fill-rule=\"evenodd\" fill-opacity=\"1\" stroke=\"#000000\" stroke-opacity=\"1\" stroke-width=\"3.2\"/>\n",
       "<circle clip-path=\"url(#clip1002)\" cx=\"1837.24\" cy=\"522.324\" r=\"14\" fill=\"#e26f46\" fill-rule=\"evenodd\" fill-opacity=\"1\" stroke=\"#000000\" stroke-opacity=\"1\" stroke-width=\"3.2\"/>\n",
       "<circle clip-path=\"url(#clip1002)\" cx=\"1837.24\" cy=\"522.324\" r=\"14\" fill=\"#e26f46\" fill-rule=\"evenodd\" fill-opacity=\"1\" stroke=\"#000000\" stroke-opacity=\"1\" stroke-width=\"3.2\"/>\n",
       "<circle clip-path=\"url(#clip1002)\" cx=\"1837.24\" cy=\"522.324\" r=\"14\" fill=\"#e26f46\" fill-rule=\"evenodd\" fill-opacity=\"1\" stroke=\"#000000\" stroke-opacity=\"1\" stroke-width=\"3.2\"/>\n",
       "<circle clip-path=\"url(#clip1002)\" cx=\"1837.24\" cy=\"522.324\" r=\"14\" fill=\"#e26f46\" fill-rule=\"evenodd\" fill-opacity=\"1\" stroke=\"#000000\" stroke-opacity=\"1\" stroke-width=\"3.2\"/>\n",
       "<circle clip-path=\"url(#clip1002)\" cx=\"1837.24\" cy=\"522.324\" r=\"14\" fill=\"#e26f46\" fill-rule=\"evenodd\" fill-opacity=\"1\" stroke=\"#000000\" stroke-opacity=\"1\" stroke-width=\"3.2\"/>\n",
       "<circle clip-path=\"url(#clip1002)\" cx=\"1837.24\" cy=\"522.324\" r=\"14\" fill=\"#e26f46\" fill-rule=\"evenodd\" fill-opacity=\"1\" stroke=\"#000000\" stroke-opacity=\"1\" stroke-width=\"3.2\"/>\n",
       "<circle clip-path=\"url(#clip1002)\" cx=\"1837.24\" cy=\"522.324\" r=\"14\" fill=\"#e26f46\" fill-rule=\"evenodd\" fill-opacity=\"1\" stroke=\"#000000\" stroke-opacity=\"1\" stroke-width=\"3.2\"/>\n",
       "<circle clip-path=\"url(#clip1002)\" cx=\"1837.24\" cy=\"522.324\" r=\"14\" fill=\"#e26f46\" fill-rule=\"evenodd\" fill-opacity=\"1\" stroke=\"#000000\" stroke-opacity=\"1\" stroke-width=\"3.2\"/>\n",
       "<circle clip-path=\"url(#clip1002)\" cx=\"1837.24\" cy=\"522.324\" r=\"14\" fill=\"#e26f46\" fill-rule=\"evenodd\" fill-opacity=\"1\" stroke=\"#000000\" stroke-opacity=\"1\" stroke-width=\"3.2\"/>\n",
       "<circle clip-path=\"url(#clip1002)\" cx=\"1837.24\" cy=\"522.324\" r=\"14\" fill=\"#e26f46\" fill-rule=\"evenodd\" fill-opacity=\"1\" stroke=\"#000000\" stroke-opacity=\"1\" stroke-width=\"3.2\"/>\n",
       "<circle clip-path=\"url(#clip1002)\" cx=\"1837.24\" cy=\"522.324\" r=\"14\" fill=\"#e26f46\" fill-rule=\"evenodd\" fill-opacity=\"1\" stroke=\"#000000\" stroke-opacity=\"1\" stroke-width=\"3.2\"/>\n",
       "<circle clip-path=\"url(#clip1002)\" cx=\"1837.24\" cy=\"522.324\" r=\"14\" fill=\"#e26f46\" fill-rule=\"evenodd\" fill-opacity=\"1\" stroke=\"#000000\" stroke-opacity=\"1\" stroke-width=\"3.2\"/>\n",
       "<circle clip-path=\"url(#clip1002)\" cx=\"1837.24\" cy=\"522.324\" r=\"14\" fill=\"#e26f46\" fill-rule=\"evenodd\" fill-opacity=\"1\" stroke=\"#000000\" stroke-opacity=\"1\" stroke-width=\"3.2\"/>\n",
       "<circle clip-path=\"url(#clip1002)\" cx=\"1837.24\" cy=\"522.324\" r=\"14\" fill=\"#e26f46\" fill-rule=\"evenodd\" fill-opacity=\"1\" stroke=\"#000000\" stroke-opacity=\"1\" stroke-width=\"3.2\"/>\n",
       "<circle clip-path=\"url(#clip1002)\" cx=\"1837.24\" cy=\"522.324\" r=\"14\" fill=\"#e26f46\" fill-rule=\"evenodd\" fill-opacity=\"1\" stroke=\"#000000\" stroke-opacity=\"1\" stroke-width=\"3.2\"/>\n",
       "<circle clip-path=\"url(#clip1002)\" cx=\"1837.24\" cy=\"522.324\" r=\"14\" fill=\"#e26f46\" fill-rule=\"evenodd\" fill-opacity=\"1\" stroke=\"#000000\" stroke-opacity=\"1\" stroke-width=\"3.2\"/>\n",
       "<circle clip-path=\"url(#clip1002)\" cx=\"1837.24\" cy=\"522.324\" r=\"14\" fill=\"#e26f46\" fill-rule=\"evenodd\" fill-opacity=\"1\" stroke=\"#000000\" stroke-opacity=\"1\" stroke-width=\"3.2\"/>\n",
       "<circle clip-path=\"url(#clip1002)\" cx=\"1837.24\" cy=\"522.324\" r=\"14\" fill=\"#e26f46\" fill-rule=\"evenodd\" fill-opacity=\"1\" stroke=\"#000000\" stroke-opacity=\"1\" stroke-width=\"3.2\"/>\n",
       "<circle clip-path=\"url(#clip1002)\" cx=\"1837.24\" cy=\"522.324\" r=\"14\" fill=\"#e26f46\" fill-rule=\"evenodd\" fill-opacity=\"1\" stroke=\"#000000\" stroke-opacity=\"1\" stroke-width=\"3.2\"/>\n",
       "<circle clip-path=\"url(#clip1002)\" cx=\"1837.24\" cy=\"522.324\" r=\"14\" fill=\"#e26f46\" fill-rule=\"evenodd\" fill-opacity=\"1\" stroke=\"#000000\" stroke-opacity=\"1\" stroke-width=\"3.2\"/>\n",
       "<circle clip-path=\"url(#clip1002)\" cx=\"1837.24\" cy=\"522.324\" r=\"14\" fill=\"#e26f46\" fill-rule=\"evenodd\" fill-opacity=\"1\" stroke=\"#000000\" stroke-opacity=\"1\" stroke-width=\"3.2\"/>\n",
       "<circle clip-path=\"url(#clip1002)\" cx=\"1837.24\" cy=\"522.324\" r=\"14\" fill=\"#e26f46\" fill-rule=\"evenodd\" fill-opacity=\"1\" stroke=\"#000000\" stroke-opacity=\"1\" stroke-width=\"3.2\"/>\n",
       "<circle clip-path=\"url(#clip1002)\" cx=\"1837.24\" cy=\"522.324\" r=\"14\" fill=\"#e26f46\" fill-rule=\"evenodd\" fill-opacity=\"1\" stroke=\"#000000\" stroke-opacity=\"1\" stroke-width=\"3.2\"/>\n",
       "<circle clip-path=\"url(#clip1002)\" cx=\"1837.24\" cy=\"522.324\" r=\"14\" fill=\"#e26f46\" fill-rule=\"evenodd\" fill-opacity=\"1\" stroke=\"#000000\" stroke-opacity=\"1\" stroke-width=\"3.2\"/>\n",
       "<circle clip-path=\"url(#clip1002)\" cx=\"1837.24\" cy=\"522.324\" r=\"14\" fill=\"#e26f46\" fill-rule=\"evenodd\" fill-opacity=\"1\" stroke=\"#000000\" stroke-opacity=\"1\" stroke-width=\"3.2\"/>\n",
       "<circle clip-path=\"url(#clip1002)\" cx=\"1837.24\" cy=\"522.324\" r=\"14\" fill=\"#e26f46\" fill-rule=\"evenodd\" fill-opacity=\"1\" stroke=\"#000000\" stroke-opacity=\"1\" stroke-width=\"3.2\"/>\n",
       "<circle clip-path=\"url(#clip1002)\" cx=\"1837.24\" cy=\"522.324\" r=\"14\" fill=\"#e26f46\" fill-rule=\"evenodd\" fill-opacity=\"1\" stroke=\"#000000\" stroke-opacity=\"1\" stroke-width=\"3.2\"/>\n",
       "<circle clip-path=\"url(#clip1002)\" cx=\"1837.24\" cy=\"522.324\" r=\"14\" fill=\"#e26f46\" fill-rule=\"evenodd\" fill-opacity=\"1\" stroke=\"#000000\" stroke-opacity=\"1\" stroke-width=\"3.2\"/>\n",
       "<circle clip-path=\"url(#clip1002)\" cx=\"1837.24\" cy=\"522.324\" r=\"14\" fill=\"#e26f46\" fill-rule=\"evenodd\" fill-opacity=\"1\" stroke=\"#000000\" stroke-opacity=\"1\" stroke-width=\"3.2\"/>\n",
       "<circle clip-path=\"url(#clip1002)\" cx=\"1837.24\" cy=\"522.324\" r=\"14\" fill=\"#e26f46\" fill-rule=\"evenodd\" fill-opacity=\"1\" stroke=\"#000000\" stroke-opacity=\"1\" stroke-width=\"3.2\"/>\n",
       "<circle clip-path=\"url(#clip1002)\" cx=\"1837.24\" cy=\"522.324\" r=\"14\" fill=\"#e26f46\" fill-rule=\"evenodd\" fill-opacity=\"1\" stroke=\"#000000\" stroke-opacity=\"1\" stroke-width=\"3.2\"/>\n",
       "<circle clip-path=\"url(#clip1002)\" cx=\"1837.24\" cy=\"522.324\" r=\"14\" fill=\"#e26f46\" fill-rule=\"evenodd\" fill-opacity=\"1\" stroke=\"#000000\" stroke-opacity=\"1\" stroke-width=\"3.2\"/>\n",
       "<circle clip-path=\"url(#clip1002)\" cx=\"1837.24\" cy=\"522.324\" r=\"14\" fill=\"#e26f46\" fill-rule=\"evenodd\" fill-opacity=\"1\" stroke=\"#000000\" stroke-opacity=\"1\" stroke-width=\"3.2\"/>\n",
       "<circle clip-path=\"url(#clip1002)\" cx=\"1837.24\" cy=\"522.324\" r=\"14\" fill=\"#e26f46\" fill-rule=\"evenodd\" fill-opacity=\"1\" stroke=\"#000000\" stroke-opacity=\"1\" stroke-width=\"3.2\"/>\n",
       "<circle clip-path=\"url(#clip1002)\" cx=\"1837.24\" cy=\"522.324\" r=\"14\" fill=\"#e26f46\" fill-rule=\"evenodd\" fill-opacity=\"1\" stroke=\"#000000\" stroke-opacity=\"1\" stroke-width=\"3.2\"/>\n",
       "<circle clip-path=\"url(#clip1002)\" cx=\"1837.24\" cy=\"522.324\" r=\"14\" fill=\"#e26f46\" fill-rule=\"evenodd\" fill-opacity=\"1\" stroke=\"#000000\" stroke-opacity=\"1\" stroke-width=\"3.2\"/>\n",
       "<circle clip-path=\"url(#clip1002)\" cx=\"1837.24\" cy=\"522.324\" r=\"14\" fill=\"#e26f46\" fill-rule=\"evenodd\" fill-opacity=\"1\" stroke=\"#000000\" stroke-opacity=\"1\" stroke-width=\"3.2\"/>\n",
       "<circle clip-path=\"url(#clip1002)\" cx=\"1837.24\" cy=\"522.324\" r=\"14\" fill=\"#e26f46\" fill-rule=\"evenodd\" fill-opacity=\"1\" stroke=\"#000000\" stroke-opacity=\"1\" stroke-width=\"3.2\"/>\n",
       "<circle clip-path=\"url(#clip1002)\" cx=\"1837.24\" cy=\"522.324\" r=\"14\" fill=\"#e26f46\" fill-rule=\"evenodd\" fill-opacity=\"1\" stroke=\"#000000\" stroke-opacity=\"1\" stroke-width=\"3.2\"/>\n",
       "<circle clip-path=\"url(#clip1002)\" cx=\"1837.24\" cy=\"522.324\" r=\"14\" fill=\"#e26f46\" fill-rule=\"evenodd\" fill-opacity=\"1\" stroke=\"#000000\" stroke-opacity=\"1\" stroke-width=\"3.2\"/>\n",
       "<circle clip-path=\"url(#clip1002)\" cx=\"1837.24\" cy=\"522.324\" r=\"14\" fill=\"#e26f46\" fill-rule=\"evenodd\" fill-opacity=\"1\" stroke=\"#000000\" stroke-opacity=\"1\" stroke-width=\"3.2\"/>\n",
       "<circle clip-path=\"url(#clip1002)\" cx=\"1837.24\" cy=\"522.324\" r=\"14\" fill=\"#e26f46\" fill-rule=\"evenodd\" fill-opacity=\"1\" stroke=\"#000000\" stroke-opacity=\"1\" stroke-width=\"3.2\"/>\n",
       "<circle clip-path=\"url(#clip1002)\" cx=\"1837.24\" cy=\"522.324\" r=\"14\" fill=\"#e26f46\" fill-rule=\"evenodd\" fill-opacity=\"1\" stroke=\"#000000\" stroke-opacity=\"1\" stroke-width=\"3.2\"/>\n",
       "<circle clip-path=\"url(#clip1002)\" cx=\"1837.24\" cy=\"522.324\" r=\"14\" fill=\"#e26f46\" fill-rule=\"evenodd\" fill-opacity=\"1\" stroke=\"#000000\" stroke-opacity=\"1\" stroke-width=\"3.2\"/>\n",
       "<circle clip-path=\"url(#clip1002)\" cx=\"1837.24\" cy=\"522.324\" r=\"14\" fill=\"#e26f46\" fill-rule=\"evenodd\" fill-opacity=\"1\" stroke=\"#000000\" stroke-opacity=\"1\" stroke-width=\"3.2\"/>\n",
       "<circle clip-path=\"url(#clip1002)\" cx=\"1835.2\" cy=\"511.797\" r=\"14\" fill=\"#e26f46\" fill-rule=\"evenodd\" fill-opacity=\"1\" stroke=\"#000000\" stroke-opacity=\"1\" stroke-width=\"3.2\"/>\n",
       "<circle clip-path=\"url(#clip1002)\" cx=\"1749.49\" cy=\"499.639\" r=\"14\" fill=\"#e26f46\" fill-rule=\"evenodd\" fill-opacity=\"1\" stroke=\"#000000\" stroke-opacity=\"1\" stroke-width=\"3.2\"/>\n",
       "<circle clip-path=\"url(#clip1002)\" cx=\"1709.5\" cy=\"496.866\" r=\"14\" fill=\"#e26f46\" fill-rule=\"evenodd\" fill-opacity=\"1\" stroke=\"#000000\" stroke-opacity=\"1\" stroke-width=\"3.2\"/>\n",
       "<circle clip-path=\"url(#clip1002)\" cx=\"1837.24\" cy=\"522.324\" r=\"14\" fill=\"#e26f46\" fill-rule=\"evenodd\" fill-opacity=\"1\" stroke=\"#000000\" stroke-opacity=\"1\" stroke-width=\"3.2\"/>\n",
       "<circle clip-path=\"url(#clip1002)\" cx=\"1837.24\" cy=\"522.324\" r=\"14\" fill=\"#e26f46\" fill-rule=\"evenodd\" fill-opacity=\"1\" stroke=\"#000000\" stroke-opacity=\"1\" stroke-width=\"3.2\"/>\n",
       "<circle clip-path=\"url(#clip1002)\" cx=\"1837.24\" cy=\"522.324\" r=\"14\" fill=\"#e26f46\" fill-rule=\"evenodd\" fill-opacity=\"1\" stroke=\"#000000\" stroke-opacity=\"1\" stroke-width=\"3.2\"/>\n",
       "<circle clip-path=\"url(#clip1002)\" cx=\"1837.24\" cy=\"522.324\" r=\"14\" fill=\"#e26f46\" fill-rule=\"evenodd\" fill-opacity=\"1\" stroke=\"#000000\" stroke-opacity=\"1\" stroke-width=\"3.2\"/>\n",
       "<circle clip-path=\"url(#clip1002)\" cx=\"1837.24\" cy=\"522.324\" r=\"14\" fill=\"#e26f46\" fill-rule=\"evenodd\" fill-opacity=\"1\" stroke=\"#000000\" stroke-opacity=\"1\" stroke-width=\"3.2\"/>\n",
       "<circle clip-path=\"url(#clip1002)\" cx=\"1837.24\" cy=\"522.324\" r=\"14\" fill=\"#e26f46\" fill-rule=\"evenodd\" fill-opacity=\"1\" stroke=\"#000000\" stroke-opacity=\"1\" stroke-width=\"3.2\"/>\n",
       "<circle clip-path=\"url(#clip1002)\" cx=\"1837.24\" cy=\"522.324\" r=\"14\" fill=\"#e26f46\" fill-rule=\"evenodd\" fill-opacity=\"1\" stroke=\"#000000\" stroke-opacity=\"1\" stroke-width=\"3.2\"/>\n",
       "<circle clip-path=\"url(#clip1002)\" cx=\"1837.24\" cy=\"522.324\" r=\"14\" fill=\"#e26f46\" fill-rule=\"evenodd\" fill-opacity=\"1\" stroke=\"#000000\" stroke-opacity=\"1\" stroke-width=\"3.2\"/>\n",
       "<circle clip-path=\"url(#clip1002)\" cx=\"1837.24\" cy=\"522.324\" r=\"14\" fill=\"#e26f46\" fill-rule=\"evenodd\" fill-opacity=\"1\" stroke=\"#000000\" stroke-opacity=\"1\" stroke-width=\"3.2\"/>\n",
       "<circle clip-path=\"url(#clip1002)\" cx=\"1837.24\" cy=\"522.324\" r=\"14\" fill=\"#e26f46\" fill-rule=\"evenodd\" fill-opacity=\"1\" stroke=\"#000000\" stroke-opacity=\"1\" stroke-width=\"3.2\"/>\n",
       "<circle clip-path=\"url(#clip1002)\" cx=\"1837.24\" cy=\"522.324\" r=\"14\" fill=\"#e26f46\" fill-rule=\"evenodd\" fill-opacity=\"1\" stroke=\"#000000\" stroke-opacity=\"1\" stroke-width=\"3.2\"/>\n",
       "<circle clip-path=\"url(#clip1002)\" cx=\"1837.24\" cy=\"522.324\" r=\"14\" fill=\"#e26f46\" fill-rule=\"evenodd\" fill-opacity=\"1\" stroke=\"#000000\" stroke-opacity=\"1\" stroke-width=\"3.2\"/>\n",
       "<circle clip-path=\"url(#clip1002)\" cx=\"1837.24\" cy=\"522.324\" r=\"14\" fill=\"#e26f46\" fill-rule=\"evenodd\" fill-opacity=\"1\" stroke=\"#000000\" stroke-opacity=\"1\" stroke-width=\"3.2\"/>\n",
       "<circle clip-path=\"url(#clip1002)\" cx=\"1837.24\" cy=\"522.324\" r=\"14\" fill=\"#e26f46\" fill-rule=\"evenodd\" fill-opacity=\"1\" stroke=\"#000000\" stroke-opacity=\"1\" stroke-width=\"3.2\"/>\n",
       "<circle clip-path=\"url(#clip1002)\" cx=\"1837.24\" cy=\"522.324\" r=\"14\" fill=\"#e26f46\" fill-rule=\"evenodd\" fill-opacity=\"1\" stroke=\"#000000\" stroke-opacity=\"1\" stroke-width=\"3.2\"/>\n",
       "<circle clip-path=\"url(#clip1002)\" cx=\"1837.24\" cy=\"522.324\" r=\"14\" fill=\"#e26f46\" fill-rule=\"evenodd\" fill-opacity=\"1\" stroke=\"#000000\" stroke-opacity=\"1\" stroke-width=\"3.2\"/>\n",
       "<circle clip-path=\"url(#clip1002)\" cx=\"1837.24\" cy=\"522.324\" r=\"14\" fill=\"#e26f46\" fill-rule=\"evenodd\" fill-opacity=\"1\" stroke=\"#000000\" stroke-opacity=\"1\" stroke-width=\"3.2\"/>\n",
       "<circle clip-path=\"url(#clip1002)\" cx=\"1837.24\" cy=\"522.324\" r=\"14\" fill=\"#e26f46\" fill-rule=\"evenodd\" fill-opacity=\"1\" stroke=\"#000000\" stroke-opacity=\"1\" stroke-width=\"3.2\"/>\n",
       "<circle clip-path=\"url(#clip1002)\" cx=\"1837.24\" cy=\"522.324\" r=\"14\" fill=\"#e26f46\" fill-rule=\"evenodd\" fill-opacity=\"1\" stroke=\"#000000\" stroke-opacity=\"1\" stroke-width=\"3.2\"/>\n",
       "<circle clip-path=\"url(#clip1002)\" cx=\"1837.24\" cy=\"522.324\" r=\"14\" fill=\"#e26f46\" fill-rule=\"evenodd\" fill-opacity=\"1\" stroke=\"#000000\" stroke-opacity=\"1\" stroke-width=\"3.2\"/>\n",
       "<circle clip-path=\"url(#clip1002)\" cx=\"1837.24\" cy=\"522.324\" r=\"14\" fill=\"#e26f46\" fill-rule=\"evenodd\" fill-opacity=\"1\" stroke=\"#000000\" stroke-opacity=\"1\" stroke-width=\"3.2\"/>\n",
       "<circle clip-path=\"url(#clip1002)\" cx=\"1837.24\" cy=\"522.324\" r=\"14\" fill=\"#e26f46\" fill-rule=\"evenodd\" fill-opacity=\"1\" stroke=\"#000000\" stroke-opacity=\"1\" stroke-width=\"3.2\"/>\n",
       "<circle clip-path=\"url(#clip1002)\" cx=\"1837.24\" cy=\"522.324\" r=\"14\" fill=\"#e26f46\" fill-rule=\"evenodd\" fill-opacity=\"1\" stroke=\"#000000\" stroke-opacity=\"1\" stroke-width=\"3.2\"/>\n",
       "<circle clip-path=\"url(#clip1002)\" cx=\"1837.24\" cy=\"522.324\" r=\"14\" fill=\"#e26f46\" fill-rule=\"evenodd\" fill-opacity=\"1\" stroke=\"#000000\" stroke-opacity=\"1\" stroke-width=\"3.2\"/>\n",
       "<circle clip-path=\"url(#clip1002)\" cx=\"1837.24\" cy=\"522.324\" r=\"14\" fill=\"#e26f46\" fill-rule=\"evenodd\" fill-opacity=\"1\" stroke=\"#000000\" stroke-opacity=\"1\" stroke-width=\"3.2\"/>\n",
       "<circle clip-path=\"url(#clip1002)\" cx=\"1837.24\" cy=\"522.324\" r=\"14\" fill=\"#e26f46\" fill-rule=\"evenodd\" fill-opacity=\"1\" stroke=\"#000000\" stroke-opacity=\"1\" stroke-width=\"3.2\"/>\n",
       "<circle clip-path=\"url(#clip1002)\" cx=\"1636.52\" cy=\"489.434\" r=\"14\" fill=\"#e26f46\" fill-rule=\"evenodd\" fill-opacity=\"1\" stroke=\"#000000\" stroke-opacity=\"1\" stroke-width=\"3.2\"/>\n",
       "<circle clip-path=\"url(#clip1002)\" cx=\"1837.24\" cy=\"522.324\" r=\"14\" fill=\"#e26f46\" fill-rule=\"evenodd\" fill-opacity=\"1\" stroke=\"#000000\" stroke-opacity=\"1\" stroke-width=\"3.2\"/>\n",
       "<circle clip-path=\"url(#clip1002)\" cx=\"1837.24\" cy=\"522.324\" r=\"14\" fill=\"#e26f46\" fill-rule=\"evenodd\" fill-opacity=\"1\" stroke=\"#000000\" stroke-opacity=\"1\" stroke-width=\"3.2\"/>\n",
       "<circle clip-path=\"url(#clip1002)\" cx=\"1837.24\" cy=\"522.324\" r=\"14\" fill=\"#e26f46\" fill-rule=\"evenodd\" fill-opacity=\"1\" stroke=\"#000000\" stroke-opacity=\"1\" stroke-width=\"3.2\"/>\n",
       "<circle clip-path=\"url(#clip1002)\" cx=\"1837.24\" cy=\"522.324\" r=\"14\" fill=\"#e26f46\" fill-rule=\"evenodd\" fill-opacity=\"1\" stroke=\"#000000\" stroke-opacity=\"1\" stroke-width=\"3.2\"/>\n",
       "<circle clip-path=\"url(#clip1002)\" cx=\"1837.24\" cy=\"522.324\" r=\"14\" fill=\"#e26f46\" fill-rule=\"evenodd\" fill-opacity=\"1\" stroke=\"#000000\" stroke-opacity=\"1\" stroke-width=\"3.2\"/>\n",
       "<circle clip-path=\"url(#clip1002)\" cx=\"1837.24\" cy=\"522.324\" r=\"14\" fill=\"#e26f46\" fill-rule=\"evenodd\" fill-opacity=\"1\" stroke=\"#000000\" stroke-opacity=\"1\" stroke-width=\"3.2\"/>\n",
       "<circle clip-path=\"url(#clip1002)\" cx=\"1837.24\" cy=\"522.324\" r=\"14\" fill=\"#e26f46\" fill-rule=\"evenodd\" fill-opacity=\"1\" stroke=\"#000000\" stroke-opacity=\"1\" stroke-width=\"3.2\"/>\n",
       "<circle clip-path=\"url(#clip1002)\" cx=\"1837.24\" cy=\"522.324\" r=\"14\" fill=\"#e26f46\" fill-rule=\"evenodd\" fill-opacity=\"1\" stroke=\"#000000\" stroke-opacity=\"1\" stroke-width=\"3.2\"/>\n",
       "</svg>\n"
      ]
     },
     "metadata": {},
     "output_type": "display_data"
    }
   ],
   "source": [
    "function plot_pop(P)\n",
    "    scatter([i.y[1] for i in P], [i.y[2] for i in P], xlims=(0.0, 1.0), ylims=(0.0, 1.0), legend=:none)\n",
    "    ND = filter(indiv -> indiv.rank == 1, P)\n",
    "    scatter!([i.y[1] for i in ND], [i.y[2] for i in ND], legend=:none)\n",
    "end\n",
    "\n",
    "nsga_max(popsize, nbgen, objective, init, fCV=constraint, fplot=plot_pop, plotevery=1, showprogress=false);"
   ]
  },
  {
   "cell_type": "markdown",
   "metadata": {
    "slideshow": {
     "slide_type": "slide"
    }
   },
   "source": [
    "This type of visualization, plotting one objective function as X and another as Y, allows us to see the Pareto front for 2 dimensions easily. However, once we increase the number of objectives, this plot is much less useful as we'll always be constrained to looking at 2 dimensions, or at best 3."
   ]
  },
  {
   "cell_type": "markdown",
   "metadata": {
    "slideshow": {
     "slide_type": "fragment"
    }
   },
   "source": [
    "<div class=\"alert alert-success\">\n",
    "    <b>Exercise 3</b>\n",
    "    <br/>\n",
    "    Change the number of objectives to 3. Then use a <tt>scatter3d</tt> plot instead of a <tt>scatter</tt> plot to plot the evolution over 3 objectives.\n",
    "    <br/>\n",
    "    <ul>\n",
    "        <li>Can you still observe the Pareto front?</li>\n",
    "        <li>Can you identify non-dominated individuals easily</li>\n",
    "        <li>Do you see the performance for each objective</li>\n",
    "    </ul>\n",
    "    <br/>\n",
    "</div>"
   ]
  },
  {
   "cell_type": "markdown",
   "metadata": {
    "slideshow": {
     "slide_type": "slide"
    }
   },
   "source": [
    "Another way to look at the different objectives is to plot the different objectives on the `x` axis and the fitness values on the `y` axis. Each individual in a population is then represented as a line. Let's try this method, increasing the number of objectives to 10."
   ]
  },
  {
   "cell_type": "code",
   "execution_count": 21,
   "metadata": {
    "slideshow": {
     "slide_type": "fragment"
    }
   },
   "outputs": [
    {
     "data": {
      "text/plain": [
       "init (generic function with 1 method)"
      ]
     },
     "execution_count": 21,
     "metadata": {},
     "output_type": "execute_result"
    }
   ],
   "source": [
    "n = 100\n",
    "n_objectives = 10\n",
    "values = rand(n, n_objectives)\n",
    "values = values ./ sum(values, dims=1)\n",
    "weights = rand(n)\n",
    "weights = weights ./ sum(weights)\n",
    "max_weight = 0.5\n",
    "popsize = 100\n",
    "nbgen = 50\n",
    "init() = bitrand(n)"
   ]
  },
  {
   "cell_type": "code",
   "execution_count": 22,
   "metadata": {
    "slideshow": {
     "slide_type": "slide"
    }
   },
   "outputs": [
    {
     "data": {
      "image/svg+xml": [
       "<?xml version=\"1.0\" encoding=\"utf-8\"?>\n",
       "<svg xmlns=\"http://www.w3.org/2000/svg\" xmlns:xlink=\"http://www.w3.org/1999/xlink\" width=\"600\" height=\"400\" viewBox=\"0 0 2400 1600\">\n",
       "<defs>\n",
       "  <clipPath id=\"clip3400\">\n",
       "    <rect x=\"0\" y=\"0\" width=\"2400\" height=\"1600\"/>\n",
       "  </clipPath>\n",
       "</defs>\n",
       "<path clip-path=\"url(#clip3400)\" d=\"\n",
       "M0 1600 L2400 1600 L2400 0 L0 0  Z\n",
       "  \" fill=\"#ffffff\" fill-rule=\"evenodd\" fill-opacity=\"1\"/>\n",
       "<defs>\n",
       "  <clipPath id=\"clip3401\">\n",
       "    <rect x=\"480\" y=\"0\" width=\"1681\" height=\"1600\"/>\n",
       "  </clipPath>\n",
       "</defs>\n",
       "<path clip-path=\"url(#clip3400)\" d=\"\n",
       "M175.024 1486.45 L2352.76 1486.45 L2352.76 47.2441 L175.024 47.2441  Z\n",
       "  \" fill=\"#ffffff\" fill-rule=\"evenodd\" fill-opacity=\"1\"/>\n",
       "<defs>\n",
       "  <clipPath id=\"clip3402\">\n",
       "    <rect x=\"175\" y=\"47\" width=\"2179\" height=\"1440\"/>\n",
       "  </clipPath>\n",
       "</defs>\n",
       "<polyline clip-path=\"url(#clip3402)\" style=\"stroke:#000000; stroke-width:2; stroke-opacity:0.1; fill:none\" points=\"\n",
       "  416.994,1486.45 416.994,47.2441 \n",
       "  \"/>\n",
       "<polyline clip-path=\"url(#clip3402)\" style=\"stroke:#000000; stroke-width:2; stroke-opacity:0.1; fill:none\" points=\"\n",
       "  900.935,1486.45 900.935,47.2441 \n",
       "  \"/>\n",
       "<polyline clip-path=\"url(#clip3402)\" style=\"stroke:#000000; stroke-width:2; stroke-opacity:0.1; fill:none\" points=\"\n",
       "  1384.88,1486.45 1384.88,47.2441 \n",
       "  \"/>\n",
       "<polyline clip-path=\"url(#clip3402)\" style=\"stroke:#000000; stroke-width:2; stroke-opacity:0.1; fill:none\" points=\"\n",
       "  1868.82,1486.45 1868.82,47.2441 \n",
       "  \"/>\n",
       "<polyline clip-path=\"url(#clip3402)\" style=\"stroke:#000000; stroke-width:2; stroke-opacity:0.1; fill:none\" points=\"\n",
       "  2352.76,1486.45 2352.76,47.2441 \n",
       "  \"/>\n",
       "<polyline clip-path=\"url(#clip3402)\" style=\"stroke:#000000; stroke-width:2; stroke-opacity:0.1; fill:none\" points=\"\n",
       "  175.024,1427.75 2352.76,1427.75 \n",
       "  \"/>\n",
       "<polyline clip-path=\"url(#clip3402)\" style=\"stroke:#000000; stroke-width:2; stroke-opacity:0.1; fill:none\" points=\"\n",
       "  175.024,1207.86 2352.76,1207.86 \n",
       "  \"/>\n",
       "<polyline clip-path=\"url(#clip3402)\" style=\"stroke:#000000; stroke-width:2; stroke-opacity:0.1; fill:none\" points=\"\n",
       "  175.024,987.979 2352.76,987.979 \n",
       "  \"/>\n",
       "<polyline clip-path=\"url(#clip3402)\" style=\"stroke:#000000; stroke-width:2; stroke-opacity:0.1; fill:none\" points=\"\n",
       "  175.024,768.094 2352.76,768.094 \n",
       "  \"/>\n",
       "<polyline clip-path=\"url(#clip3402)\" style=\"stroke:#000000; stroke-width:2; stroke-opacity:0.1; fill:none\" points=\"\n",
       "  175.024,548.209 2352.76,548.209 \n",
       "  \"/>\n",
       "<polyline clip-path=\"url(#clip3402)\" style=\"stroke:#000000; stroke-width:2; stroke-opacity:0.1; fill:none\" points=\"\n",
       "  175.024,328.324 2352.76,328.324 \n",
       "  \"/>\n",
       "<polyline clip-path=\"url(#clip3402)\" style=\"stroke:#000000; stroke-width:2; stroke-opacity:0.1; fill:none\" points=\"\n",
       "  175.024,108.439 2352.76,108.439 \n",
       "  \"/>\n",
       "<polyline clip-path=\"url(#clip3400)\" style=\"stroke:#000000; stroke-width:4; stroke-opacity:1; fill:none\" points=\"\n",
       "  175.024,1486.45 2352.76,1486.45 \n",
       "  \"/>\n",
       "<polyline clip-path=\"url(#clip3400)\" style=\"stroke:#000000; stroke-width:4; stroke-opacity:1; fill:none\" points=\"\n",
       "  175.024,1486.45 175.024,47.2441 \n",
       "  \"/>\n",
       "<polyline clip-path=\"url(#clip3400)\" style=\"stroke:#000000; stroke-width:4; stroke-opacity:1; fill:none\" points=\"\n",
       "  416.994,1486.45 416.994,1469.18 \n",
       "  \"/>\n",
       "<polyline clip-path=\"url(#clip3400)\" style=\"stroke:#000000; stroke-width:4; stroke-opacity:1; fill:none\" points=\"\n",
       "  900.935,1486.45 900.935,1469.18 \n",
       "  \"/>\n",
       "<polyline clip-path=\"url(#clip3400)\" style=\"stroke:#000000; stroke-width:4; stroke-opacity:1; fill:none\" points=\"\n",
       "  1384.88,1486.45 1384.88,1469.18 \n",
       "  \"/>\n",
       "<polyline clip-path=\"url(#clip3400)\" style=\"stroke:#000000; stroke-width:4; stroke-opacity:1; fill:none\" points=\"\n",
       "  1868.82,1486.45 1868.82,1469.18 \n",
       "  \"/>\n",
       "<polyline clip-path=\"url(#clip3400)\" style=\"stroke:#000000; stroke-width:4; stroke-opacity:1; fill:none\" points=\"\n",
       "  2352.76,1486.45 2352.76,1469.18 \n",
       "  \"/>\n",
       "<polyline clip-path=\"url(#clip3400)\" style=\"stroke:#000000; stroke-width:4; stroke-opacity:1; fill:none\" points=\"\n",
       "  175.024,1427.75 201.157,1427.75 \n",
       "  \"/>\n",
       "<polyline clip-path=\"url(#clip3400)\" style=\"stroke:#000000; stroke-width:4; stroke-opacity:1; fill:none\" points=\"\n",
       "  175.024,1207.86 201.157,1207.86 \n",
       "  \"/>\n",
       "<polyline clip-path=\"url(#clip3400)\" style=\"stroke:#000000; stroke-width:4; stroke-opacity:1; fill:none\" points=\"\n",
       "  175.024,987.979 201.157,987.979 \n",
       "  \"/>\n",
       "<polyline clip-path=\"url(#clip3400)\" style=\"stroke:#000000; stroke-width:4; stroke-opacity:1; fill:none\" points=\"\n",
       "  175.024,768.094 201.157,768.094 \n",
       "  \"/>\n",
       "<polyline clip-path=\"url(#clip3400)\" style=\"stroke:#000000; stroke-width:4; stroke-opacity:1; fill:none\" points=\"\n",
       "  175.024,548.209 201.157,548.209 \n",
       "  \"/>\n",
       "<polyline clip-path=\"url(#clip3400)\" style=\"stroke:#000000; stroke-width:4; stroke-opacity:1; fill:none\" points=\"\n",
       "  175.024,328.324 201.157,328.324 \n",
       "  \"/>\n",
       "<polyline clip-path=\"url(#clip3400)\" style=\"stroke:#000000; stroke-width:4; stroke-opacity:1; fill:none\" points=\"\n",
       "  175.024,108.439 201.157,108.439 \n",
       "  \"/>\n",
       "<path clip-path=\"url(#clip3400)\" d=\"M 0 0 M411.647 1535.98 L427.966 1535.98 L427.966 1539.92 L406.022 1539.92 L406.022 1535.98 Q408.684 1533.23 413.267 1528.6 Q417.874 1523.95 419.054 1522.61 Q421.3 1520.08 422.179 1518.35 Q423.082 1516.59 423.082 1514.9 Q423.082 1512.14 421.138 1510.41 Q419.216 1508.67 416.115 1508.67 Q413.916 1508.67 411.462 1509.43 Q409.031 1510.2 406.254 1511.75 L406.254 1507.03 Q409.078 1505.89 411.531 1505.31 Q413.985 1504.73 416.022 1504.73 Q421.392 1504.73 424.587 1507.42 Q427.781 1510.11 427.781 1514.6 Q427.781 1516.73 426.971 1518.65 Q426.184 1520.54 424.078 1523.14 Q423.499 1523.81 420.397 1527.03 Q417.295 1530.22 411.647 1535.98 Z\" fill=\"#000000\" fill-rule=\"evenodd\" fill-opacity=\"1\" /><path clip-path=\"url(#clip3400)\" d=\"M 0 0 M903.944 1509.43 L892.138 1527.88 L903.944 1527.88 L903.944 1509.43 M902.717 1505.36 L908.597 1505.36 L908.597 1527.88 L913.527 1527.88 L913.527 1531.77 L908.597 1531.77 L908.597 1539.92 L903.944 1539.92 L903.944 1531.77 L888.342 1531.77 L888.342 1527.26 L902.717 1505.36 Z\" fill=\"#000000\" fill-rule=\"evenodd\" fill-opacity=\"1\" /><path clip-path=\"url(#clip3400)\" d=\"M 0 0 M1385.28 1520.78 Q1382.13 1520.78 1380.28 1522.93 Q1378.45 1525.08 1378.45 1528.83 Q1378.45 1532.56 1380.28 1534.73 Q1382.13 1536.89 1385.28 1536.89 Q1388.43 1536.89 1390.26 1534.73 Q1392.11 1532.56 1392.11 1528.83 Q1392.11 1525.08 1390.26 1522.93 Q1388.43 1520.78 1385.28 1520.78 M1394.56 1506.12 L1394.56 1510.38 Q1392.8 1509.55 1391 1509.11 Q1389.22 1508.67 1387.46 1508.67 Q1382.83 1508.67 1380.37 1511.8 Q1377.94 1514.92 1377.6 1521.24 Q1378.96 1519.23 1381.02 1518.16 Q1383.08 1517.07 1385.56 1517.07 Q1390.77 1517.07 1393.78 1520.24 Q1396.81 1523.39 1396.81 1528.83 Q1396.81 1534.16 1393.66 1537.37 Q1390.51 1540.59 1385.28 1540.59 Q1379.28 1540.59 1376.11 1536.01 Q1372.94 1531.4 1372.94 1522.67 Q1372.94 1514.48 1376.83 1509.62 Q1380.72 1504.73 1387.27 1504.73 Q1389.03 1504.73 1390.81 1505.08 Q1392.62 1505.43 1394.56 1506.12 Z\" fill=\"#000000\" fill-rule=\"evenodd\" fill-opacity=\"1\" /><path clip-path=\"url(#clip3400)\" d=\"M 0 0 M1868.82 1523.51 Q1865.48 1523.51 1863.56 1525.29 Q1861.66 1527.07 1861.66 1530.2 Q1861.66 1533.32 1863.56 1535.11 Q1865.48 1536.89 1868.82 1536.89 Q1872.15 1536.89 1874.07 1535.11 Q1875.99 1533.3 1875.99 1530.2 Q1875.99 1527.07 1874.07 1525.29 Q1872.17 1523.51 1868.82 1523.51 M1864.14 1521.52 Q1861.13 1520.78 1859.44 1518.72 Q1857.77 1516.66 1857.77 1513.69 Q1857.77 1509.55 1860.71 1507.14 Q1863.68 1504.73 1868.82 1504.73 Q1873.98 1504.73 1876.92 1507.14 Q1879.86 1509.55 1879.86 1513.69 Q1879.86 1516.66 1878.17 1518.72 Q1876.5 1520.78 1873.51 1521.52 Q1876.89 1522.3 1878.77 1524.6 Q1880.67 1526.89 1880.67 1530.2 Q1880.67 1535.22 1877.59 1537.91 Q1874.53 1540.59 1868.82 1540.59 Q1863.1 1540.59 1860.02 1537.91 Q1856.96 1535.22 1856.96 1530.2 Q1856.96 1526.89 1858.86 1524.6 Q1860.76 1522.3 1864.14 1521.52 M1862.43 1514.13 Q1862.43 1516.82 1864.09 1518.32 Q1865.78 1519.83 1868.82 1519.83 Q1871.82 1519.83 1873.51 1518.32 Q1875.23 1516.82 1875.23 1514.13 Q1875.23 1511.45 1873.51 1509.94 Q1871.82 1508.44 1868.82 1508.44 Q1865.78 1508.44 1864.09 1509.94 Q1862.43 1511.45 1862.43 1514.13 Z\" fill=\"#000000\" fill-rule=\"evenodd\" fill-opacity=\"1\" /><path clip-path=\"url(#clip3400)\" d=\"M 0 0 M2329.63 1535.98 L2337.27 1535.98 L2337.27 1509.62 L2328.96 1511.29 L2328.96 1507.03 L2337.22 1505.36 L2341.9 1505.36 L2341.9 1535.98 L2349.54 1535.98 L2349.54 1539.92 L2329.63 1539.92 L2329.63 1535.98 Z\" fill=\"#000000\" fill-rule=\"evenodd\" fill-opacity=\"1\" /><path clip-path=\"url(#clip3400)\" d=\"M 0 0 M2364.61 1508.44 Q2361 1508.44 2359.17 1512 Q2357.36 1515.55 2357.36 1522.67 Q2357.36 1529.78 2359.17 1533.35 Q2361 1536.89 2364.61 1536.89 Q2368.24 1536.89 2370.05 1533.35 Q2371.88 1529.78 2371.88 1522.67 Q2371.88 1515.55 2370.05 1512 Q2368.24 1508.44 2364.61 1508.44 M2364.61 1504.73 Q2370.42 1504.73 2373.47 1509.34 Q2376.55 1513.92 2376.55 1522.67 Q2376.55 1531.4 2373.47 1536.01 Q2370.42 1540.59 2364.61 1540.59 Q2358.8 1540.59 2355.72 1536.01 Q2352.66 1531.4 2352.66 1522.67 Q2352.66 1513.92 2355.72 1509.34 Q2358.8 1504.73 2364.61 1504.73 Z\" fill=\"#000000\" fill-rule=\"evenodd\" fill-opacity=\"1\" /><path clip-path=\"url(#clip3400)\" d=\"M 0 0 M75.6078 1413.55 Q71.9967 1413.55 70.168 1417.11 Q68.3625 1420.65 68.3625 1427.78 Q68.3625 1434.89 70.168 1438.45 Q71.9967 1442 75.6078 1442 Q79.242 1442 81.0476 1438.45 Q82.8763 1434.89 82.8763 1427.78 Q82.8763 1420.65 81.0476 1417.11 Q79.242 1413.55 75.6078 1413.55 M75.6078 1409.84 Q81.418 1409.84 84.4735 1414.45 Q87.5522 1419.03 87.5522 1427.78 Q87.5522 1436.51 84.4735 1441.12 Q81.418 1445.7 75.6078 1445.7 Q69.7976 1445.7 66.719 1441.12 Q63.6634 1436.51 63.6634 1427.78 Q63.6634 1419.03 66.719 1414.45 Q69.7976 1409.84 75.6078 1409.84 Z\" fill=\"#000000\" fill-rule=\"evenodd\" fill-opacity=\"1\" /><path clip-path=\"url(#clip3400)\" d=\"M 0 0 M92.6216 1439.15 L97.5058 1439.15 L97.5058 1445.03 L92.6216 1445.03 L92.6216 1439.15 Z\" fill=\"#000000\" fill-rule=\"evenodd\" fill-opacity=\"1\" /><path clip-path=\"url(#clip3400)\" d=\"M 0 0 M115.422 1414.54 L103.617 1432.99 L115.422 1432.99 L115.422 1414.54 M114.196 1410.47 L120.075 1410.47 L120.075 1432.99 L125.006 1432.99 L125.006 1436.88 L120.075 1436.88 L120.075 1445.03 L115.422 1445.03 L115.422 1436.88 L99.8206 1436.88 L99.8206 1432.37 L114.196 1410.47 Z\" fill=\"#000000\" fill-rule=\"evenodd\" fill-opacity=\"1\" /><path clip-path=\"url(#clip3400)\" d=\"M 0 0 M130.121 1410.47 L148.478 1410.47 L148.478 1414.4 L134.404 1414.4 L134.404 1422.88 Q135.422 1422.53 136.441 1422.37 Q137.459 1422.18 138.478 1422.18 Q144.265 1422.18 147.644 1425.35 Q151.024 1428.52 151.024 1433.94 Q151.024 1439.52 147.552 1442.62 Q144.08 1445.7 137.76 1445.7 Q135.584 1445.7 133.316 1445.33 Q131.07 1444.96 128.663 1444.22 L128.663 1439.52 Q130.746 1440.65 132.969 1441.21 Q135.191 1441.76 137.668 1441.76 Q141.672 1441.76 144.01 1439.66 Q146.348 1437.55 146.348 1433.94 Q146.348 1430.33 144.01 1428.22 Q141.672 1426.12 137.668 1426.12 Q135.793 1426.12 133.918 1426.53 Q132.066 1426.95 130.121 1427.83 L130.121 1410.47 Z\" fill=\"#000000\" fill-rule=\"evenodd\" fill-opacity=\"1\" /><path clip-path=\"url(#clip3400)\" d=\"M 0 0 M76.0939 1193.66 Q72.4828 1193.66 70.6541 1197.23 Q68.8486 1200.77 68.8486 1207.9 Q68.8486 1215 70.6541 1218.57 Q72.4828 1222.11 76.0939 1222.11 Q79.7281 1222.11 81.5337 1218.57 Q83.3624 1215 83.3624 1207.9 Q83.3624 1200.77 81.5337 1197.23 Q79.7281 1193.66 76.0939 1193.66 M76.0939 1189.96 Q81.9041 1189.96 84.9596 1194.57 Q88.0383 1199.15 88.0383 1207.9 Q88.0383 1216.63 84.9596 1221.23 Q81.9041 1225.82 76.0939 1225.82 Q70.2838 1225.82 67.2051 1221.23 Q64.1495 1216.63 64.1495 1207.9 Q64.1495 1199.15 67.2051 1194.57 Q70.2838 1189.96 76.0939 1189.96 Z\" fill=\"#000000\" fill-rule=\"evenodd\" fill-opacity=\"1\" /><path clip-path=\"url(#clip3400)\" d=\"M 0 0 M93.1077 1219.26 L97.9919 1219.26 L97.9919 1225.14 L93.1077 1225.14 L93.1077 1219.26 Z\" fill=\"#000000\" fill-rule=\"evenodd\" fill-opacity=\"1\" /><path clip-path=\"url(#clip3400)\" d=\"M 0 0 M103.108 1190.58 L121.464 1190.58 L121.464 1194.52 L107.39 1194.52 L107.39 1202.99 Q108.409 1202.64 109.427 1202.48 Q110.446 1202.3 111.464 1202.3 Q117.251 1202.3 120.631 1205.47 Q124.01 1208.64 124.01 1214.06 Q124.01 1219.63 120.538 1222.74 Q117.066 1225.82 110.746 1225.82 Q108.571 1225.82 106.302 1225.44 Q104.057 1225.07 101.649 1224.33 L101.649 1219.63 Q103.733 1220.77 105.955 1221.32 Q108.177 1221.88 110.654 1221.88 Q114.659 1221.88 116.996 1219.77 Q119.334 1217.67 119.334 1214.06 Q119.334 1210.44 116.996 1208.34 Q114.659 1206.23 110.654 1206.23 Q108.779 1206.23 106.904 1206.65 Q105.052 1207.07 103.108 1207.94 L103.108 1190.58 Z\" fill=\"#000000\" fill-rule=\"evenodd\" fill-opacity=\"1\" /><path clip-path=\"url(#clip3400)\" d=\"M 0 0 M139.08 1193.66 Q135.469 1193.66 133.64 1197.23 Q131.834 1200.77 131.834 1207.9 Q131.834 1215 133.64 1218.57 Q135.469 1222.11 139.08 1222.11 Q142.714 1222.11 144.519 1218.57 Q146.348 1215 146.348 1207.9 Q146.348 1200.77 144.519 1197.23 Q142.714 1193.66 139.08 1193.66 M139.08 1189.96 Q144.89 1189.96 147.945 1194.57 Q151.024 1199.15 151.024 1207.9 Q151.024 1216.63 147.945 1221.23 Q144.89 1225.82 139.08 1225.82 Q133.27 1225.82 130.191 1221.23 Q127.135 1216.63 127.135 1207.9 Q127.135 1199.15 130.191 1194.57 Q133.27 1189.96 139.08 1189.96 Z\" fill=\"#000000\" fill-rule=\"evenodd\" fill-opacity=\"1\" /><path clip-path=\"url(#clip3400)\" d=\"M 0 0 M77.0893 973.778 Q73.4782 973.778 71.6495 977.342 Q69.8439 980.884 69.8439 988.014 Q69.8439 995.12 71.6495 998.685 Q73.4782 1002.23 77.0893 1002.23 Q80.7235 1002.23 82.5291 998.685 Q84.3578 995.12 84.3578 988.014 Q84.3578 980.884 82.5291 977.342 Q80.7235 973.778 77.0893 973.778 M77.0893 970.074 Q82.8994 970.074 85.955 974.68 Q89.0337 979.264 89.0337 988.014 Q89.0337 996.74 85.955 1001.35 Q82.8994 1005.93 77.0893 1005.93 Q71.2791 1005.93 68.2004 1001.35 Q65.1449 996.74 65.1449 988.014 Q65.1449 979.264 68.2004 974.68 Q71.2791 970.074 77.0893 970.074 Z\" fill=\"#000000\" fill-rule=\"evenodd\" fill-opacity=\"1\" /><path clip-path=\"url(#clip3400)\" d=\"M 0 0 M94.1031 999.379 L98.9873 999.379 L98.9873 1005.26 L94.1031 1005.26 L94.1031 999.379 Z\" fill=\"#000000\" fill-rule=\"evenodd\" fill-opacity=\"1\" /><path clip-path=\"url(#clip3400)\" d=\"M 0 0 M104.103 970.699 L122.459 970.699 L122.459 974.634 L108.385 974.634 L108.385 983.106 Q109.404 982.759 110.422 982.597 Q111.441 982.412 112.459 982.412 Q118.246 982.412 121.626 985.583 Q125.006 988.754 125.006 994.171 Q125.006 999.75 121.533 1002.85 Q118.061 1005.93 111.742 1005.93 Q109.566 1005.93 107.297 1005.56 Q105.052 1005.19 102.645 1004.45 L102.645 999.75 Q104.728 1000.88 106.95 1001.44 Q109.172 1002 111.649 1002 Q115.654 1002 117.992 999.889 Q120.33 997.782 120.33 994.171 Q120.33 990.56 117.992 988.453 Q115.654 986.347 111.649 986.347 Q109.774 986.347 107.899 986.764 Q106.047 987.18 104.103 988.06 L104.103 970.699 Z\" fill=\"#000000\" fill-rule=\"evenodd\" fill-opacity=\"1\" /><path clip-path=\"url(#clip3400)\" d=\"M 0 0 M130.121 970.699 L148.478 970.699 L148.478 974.634 L134.404 974.634 L134.404 983.106 Q135.422 982.759 136.441 982.597 Q137.459 982.412 138.478 982.412 Q144.265 982.412 147.644 985.583 Q151.024 988.754 151.024 994.171 Q151.024 999.75 147.552 1002.85 Q144.08 1005.93 137.76 1005.93 Q135.584 1005.93 133.316 1005.56 Q131.07 1005.19 128.663 1004.45 L128.663 999.75 Q130.746 1000.88 132.969 1001.44 Q135.191 1002 137.668 1002 Q141.672 1002 144.01 999.889 Q146.348 997.782 146.348 994.171 Q146.348 990.56 144.01 988.453 Q141.672 986.347 137.668 986.347 Q135.793 986.347 133.918 986.764 Q132.066 987.18 130.121 988.06 L130.121 970.699 Z\" fill=\"#000000\" fill-rule=\"evenodd\" fill-opacity=\"1\" /><path clip-path=\"url(#clip3400)\" d=\"M 0 0 M74.9365 753.893 Q71.3254 753.893 69.4967 757.458 Q67.6912 760.999 67.6912 768.129 Q67.6912 775.235 69.4967 778.8 Q71.3254 782.342 74.9365 782.342 Q78.5707 782.342 80.3763 778.8 Q82.205 775.235 82.205 768.129 Q82.205 760.999 80.3763 757.458 Q78.5707 753.893 74.9365 753.893 M74.9365 750.189 Q80.7467 750.189 83.8022 754.795 Q86.8809 759.379 86.8809 768.129 Q86.8809 776.856 83.8022 781.462 Q80.7467 786.045 74.9365 786.045 Q69.1264 786.045 66.0477 781.462 Q62.9921 776.856 62.9921 768.129 Q62.9921 759.379 66.0477 754.795 Q69.1264 750.189 74.9365 750.189 Z\" fill=\"#000000\" fill-rule=\"evenodd\" fill-opacity=\"1\" /><path clip-path=\"url(#clip3400)\" d=\"M 0 0 M91.9503 779.494 L96.8345 779.494 L96.8345 785.374 L91.9503 785.374 L91.9503 779.494 Z\" fill=\"#000000\" fill-rule=\"evenodd\" fill-opacity=\"1\" /><path clip-path=\"url(#clip3400)\" d=\"M 0 0 M112.483 766.231 Q109.334 766.231 107.483 768.383 Q105.654 770.536 105.654 774.286 Q105.654 778.013 107.483 780.189 Q109.334 782.342 112.483 782.342 Q115.631 782.342 117.459 780.189 Q119.311 778.013 119.311 774.286 Q119.311 770.536 117.459 768.383 Q115.631 766.231 112.483 766.231 M121.765 751.578 L121.765 755.837 Q120.006 755.004 118.2 754.564 Q116.418 754.124 114.659 754.124 Q110.029 754.124 107.575 757.249 Q105.145 760.374 104.797 766.694 Q106.163 764.68 108.223 763.615 Q110.284 762.527 112.76 762.527 Q117.969 762.527 120.978 765.698 Q124.01 768.846 124.01 774.286 Q124.01 779.61 120.862 782.828 Q117.714 786.045 112.483 786.045 Q106.487 786.045 103.316 781.462 Q100.145 776.856 100.145 768.129 Q100.145 759.934 104.034 755.073 Q107.922 750.189 114.473 750.189 Q116.233 750.189 118.015 750.536 Q119.821 750.883 121.765 751.578 Z\" fill=\"#000000\" fill-rule=\"evenodd\" fill-opacity=\"1\" /><path clip-path=\"url(#clip3400)\" d=\"M 0 0 M139.08 753.893 Q135.469 753.893 133.64 757.458 Q131.834 760.999 131.834 768.129 Q131.834 775.235 133.64 778.8 Q135.469 782.342 139.08 782.342 Q142.714 782.342 144.519 778.8 Q146.348 775.235 146.348 768.129 Q146.348 760.999 144.519 757.458 Q142.714 753.893 139.08 753.893 M139.08 750.189 Q144.89 750.189 147.945 754.795 Q151.024 759.379 151.024 768.129 Q151.024 776.856 147.945 781.462 Q144.89 786.045 139.08 786.045 Q133.27 786.045 130.191 781.462 Q127.135 776.856 127.135 768.129 Q127.135 759.379 130.191 754.795 Q133.27 750.189 139.08 750.189 Z\" fill=\"#000000\" fill-rule=\"evenodd\" fill-opacity=\"1\" /><path clip-path=\"url(#clip3400)\" d=\"M 0 0 M75.9319 534.008 Q72.3208 534.008 70.4921 537.573 Q68.6865 541.114 68.6865 548.244 Q68.6865 555.35 70.4921 558.915 Q72.3208 562.457 75.9319 562.457 Q79.5661 562.457 81.3717 558.915 Q83.2004 555.35 83.2004 548.244 Q83.2004 541.114 81.3717 537.573 Q79.5661 534.008 75.9319 534.008 M75.9319 530.304 Q81.742 530.304 84.7976 534.911 Q87.8763 539.494 87.8763 548.244 Q87.8763 556.971 84.7976 561.577 Q81.742 566.16 75.9319 566.16 Q70.1217 566.16 67.043 561.577 Q63.9875 556.971 63.9875 548.244 Q63.9875 539.494 67.043 534.911 Q70.1217 530.304 75.9319 530.304 Z\" fill=\"#000000\" fill-rule=\"evenodd\" fill-opacity=\"1\" /><path clip-path=\"url(#clip3400)\" d=\"M 0 0 M92.9457 559.61 L97.8299 559.61 L97.8299 565.489 L92.9457 565.489 L92.9457 559.61 Z\" fill=\"#000000\" fill-rule=\"evenodd\" fill-opacity=\"1\" /><path clip-path=\"url(#clip3400)\" d=\"M 0 0 M113.478 546.346 Q110.33 546.346 108.478 548.499 Q106.649 550.651 106.649 554.401 Q106.649 558.128 108.478 560.304 Q110.33 562.457 113.478 562.457 Q116.626 562.457 118.455 560.304 Q120.307 558.128 120.307 554.401 Q120.307 550.651 118.455 548.499 Q116.626 546.346 113.478 546.346 M122.76 531.693 L122.76 535.952 Q121.001 535.119 119.196 534.679 Q117.413 534.239 115.654 534.239 Q111.024 534.239 108.571 537.364 Q106.14 540.489 105.793 546.809 Q107.159 544.795 109.219 543.73 Q111.279 542.642 113.756 542.642 Q118.964 542.642 121.973 545.813 Q125.006 548.961 125.006 554.401 Q125.006 559.725 121.858 562.943 Q118.709 566.16 113.478 566.16 Q107.483 566.16 104.311 561.577 Q101.14 556.971 101.14 548.244 Q101.14 540.049 105.029 535.188 Q108.918 530.304 115.469 530.304 Q117.228 530.304 119.01 530.651 Q120.816 530.999 122.76 531.693 Z\" fill=\"#000000\" fill-rule=\"evenodd\" fill-opacity=\"1\" /><path clip-path=\"url(#clip3400)\" d=\"M 0 0 M130.121 530.929 L148.478 530.929 L148.478 534.864 L134.404 534.864 L134.404 543.337 Q135.422 542.989 136.441 542.827 Q137.459 542.642 138.478 542.642 Q144.265 542.642 147.644 545.813 Q151.024 548.985 151.024 554.401 Q151.024 559.98 147.552 563.082 Q144.08 566.16 137.76 566.16 Q135.584 566.16 133.316 565.79 Q131.07 565.42 128.663 564.679 L128.663 559.98 Q130.746 561.114 132.969 561.67 Q135.191 562.225 137.668 562.225 Q141.672 562.225 144.01 560.119 Q146.348 558.012 146.348 554.401 Q146.348 550.79 144.01 548.684 Q141.672 546.577 137.668 546.577 Q135.793 546.577 133.918 546.994 Q132.066 547.411 130.121 548.29 L130.121 530.929 Z\" fill=\"#000000\" fill-rule=\"evenodd\" fill-opacity=\"1\" /><path clip-path=\"url(#clip3400)\" d=\"M 0 0 M76.0013 314.123 Q72.3902 314.123 70.5615 317.688 Q68.756 321.229 68.756 328.359 Q68.756 335.465 70.5615 339.03 Q72.3902 342.572 76.0013 342.572 Q79.6356 342.572 81.4411 339.03 Q83.2698 335.465 83.2698 328.359 Q83.2698 321.229 81.4411 317.688 Q79.6356 314.123 76.0013 314.123 M76.0013 310.419 Q81.8115 310.419 84.867 315.026 Q87.9457 319.609 87.9457 328.359 Q87.9457 337.086 84.867 341.692 Q81.8115 346.276 76.0013 346.276 Q70.1912 346.276 67.1125 341.692 Q64.0569 337.086 64.0569 328.359 Q64.0569 319.609 67.1125 315.026 Q70.1912 310.419 76.0013 310.419 Z\" fill=\"#000000\" fill-rule=\"evenodd\" fill-opacity=\"1\" /><path clip-path=\"url(#clip3400)\" d=\"M 0 0 M93.0151 339.725 L97.8993 339.725 L97.8993 345.604 L93.0151 345.604 L93.0151 339.725 Z\" fill=\"#000000\" fill-rule=\"evenodd\" fill-opacity=\"1\" /><path clip-path=\"url(#clip3400)\" d=\"M 0 0 M101.788 311.044 L124.01 311.044 L124.01 313.035 L111.464 345.604 L106.58 345.604 L118.385 314.979 L101.788 314.979 L101.788 311.044 Z\" fill=\"#000000\" fill-rule=\"evenodd\" fill-opacity=\"1\" /><path clip-path=\"url(#clip3400)\" d=\"M 0 0 M139.08 314.123 Q135.469 314.123 133.64 317.688 Q131.834 321.229 131.834 328.359 Q131.834 335.465 133.64 339.03 Q135.469 342.572 139.08 342.572 Q142.714 342.572 144.519 339.03 Q146.348 335.465 146.348 328.359 Q146.348 321.229 144.519 317.688 Q142.714 314.123 139.08 314.123 M139.08 310.419 Q144.89 310.419 147.945 315.026 Q151.024 319.609 151.024 328.359 Q151.024 337.086 147.945 341.692 Q144.89 346.276 139.08 346.276 Q133.27 346.276 130.191 341.692 Q127.135 337.086 127.135 328.359 Q127.135 319.609 130.191 315.026 Q133.27 310.419 139.08 310.419 Z\" fill=\"#000000\" fill-rule=\"evenodd\" fill-opacity=\"1\" /><path clip-path=\"url(#clip3400)\" d=\"M 0 0 M76.9967 94.2382 Q73.3856 94.2382 71.5569 97.803 Q69.7513 101.345 69.7513 108.474 Q69.7513 115.581 71.5569 119.145 Q73.3856 122.687 76.9967 122.687 Q80.6309 122.687 82.4365 119.145 Q84.2652 115.581 84.2652 108.474 Q84.2652 101.345 82.4365 97.803 Q80.6309 94.2382 76.9967 94.2382 M76.9967 90.5345 Q82.8068 90.5345 85.8624 95.1409 Q88.9411 99.7243 88.9411 108.474 Q88.9411 117.201 85.8624 121.807 Q82.8068 126.391 76.9967 126.391 Q71.1865 126.391 68.1078 121.807 Q65.0523 117.201 65.0523 108.474 Q65.0523 99.7243 68.1078 95.1409 Q71.1865 90.5345 76.9967 90.5345 Z\" fill=\"#000000\" fill-rule=\"evenodd\" fill-opacity=\"1\" /><path clip-path=\"url(#clip3400)\" d=\"M 0 0 M94.0105 119.84 L98.8947 119.84 L98.8947 125.719 L94.0105 125.719 L94.0105 119.84 Z\" fill=\"#000000\" fill-rule=\"evenodd\" fill-opacity=\"1\" /><path clip-path=\"url(#clip3400)\" d=\"M 0 0 M102.784 91.1595 L125.006 91.1595 L125.006 93.1502 L112.459 125.719 L107.575 125.719 L119.381 95.0946 L102.784 95.0946 L102.784 91.1595 Z\" fill=\"#000000\" fill-rule=\"evenodd\" fill-opacity=\"1\" /><path clip-path=\"url(#clip3400)\" d=\"M 0 0 M130.121 91.1595 L148.478 91.1595 L148.478 95.0946 L134.404 95.0946 L134.404 103.567 Q135.422 103.22 136.441 103.058 Q137.459 102.872 138.478 102.872 Q144.265 102.872 147.644 106.044 Q151.024 109.215 151.024 114.632 Q151.024 120.21 147.552 123.312 Q144.08 126.391 137.76 126.391 Q135.584 126.391 133.316 126.02 Q131.07 125.65 128.663 124.909 L128.663 120.21 Q130.746 121.345 132.969 121.9 Q135.191 122.456 137.668 122.456 Q141.672 122.456 144.01 120.349 Q146.348 118.243 146.348 114.632 Q146.348 111.02 144.01 108.914 Q141.672 106.808 137.668 106.808 Q135.793 106.808 133.918 107.224 Q132.066 107.641 130.121 108.52 L130.121 91.1595 Z\" fill=\"#000000\" fill-rule=\"evenodd\" fill-opacity=\"1\" /><polyline clip-path=\"url(#clip3402)\" style=\"stroke:#0000ff; stroke-width:4; stroke-opacity:1; fill:none\" points=\"\n",
       "  175.024,817.656 416.994,895.205 658.964,535.986 900.935,560.628 1142.9,511.743 1384.88,463.543 1626.85,542.241 1868.82,335.545 2110.79,383.672 2352.76,532.803 \n",
       "  \n",
       "  \"/>\n",
       "<polyline clip-path=\"url(#clip3402)\" style=\"stroke:#0000ff; stroke-width:4; stroke-opacity:1; fill:none\" points=\"\n",
       "  175.024,693.795 416.994,619.061 658.964,485.445 900.935,367.172 1142.9,240.004 1384.88,270.494 1626.85,503.513 1868.82,335.495 2110.79,527.4 2352.76,378.195 \n",
       "  \n",
       "  \"/>\n",
       "<polyline clip-path=\"url(#clip3402)\" style=\"stroke:#0000ff; stroke-width:4; stroke-opacity:1; fill:none\" points=\"\n",
       "  175.024,599.74 416.994,530.626 658.964,603.001 900.935,570.807 1142.9,804.52 1384.88,418.932 1626.85,628.315 1868.82,398.629 2110.79,555.123 2352.76,865.978 \n",
       "  \n",
       "  \"/>\n",
       "<polyline clip-path=\"url(#clip3402)\" style=\"stroke:#0000ff; stroke-width:4; stroke-opacity:1; fill:none\" points=\"\n",
       "  175.024,614.636 416.994,953.968 658.964,777.311 900.935,528.551 1142.9,492.412 1384.88,455.521 1626.85,638.546 1868.82,414.721 2110.79,658.629 2352.76,610.933 \n",
       "  \n",
       "  \"/>\n",
       "<polyline clip-path=\"url(#clip3402)\" style=\"stroke:#0000ff; stroke-width:4; stroke-opacity:1; fill:none\" points=\"\n",
       "  175.024,590.987 416.994,873.536 658.964,638.983 900.935,492.944 1142.9,554.184 1384.88,375.501 1626.85,771.263 1868.82,364.802 2110.79,667.466 2352.76,698.491 \n",
       "  \n",
       "  \"/>\n",
       "<polyline clip-path=\"url(#clip3402)\" style=\"stroke:#0000ff; stroke-width:4; stroke-opacity:1; fill:none\" points=\"\n",
       "  175.024,712.599 416.994,801.343 658.964,650.627 900.935,479.342 1142.9,542.655 1384.88,500.889 1626.85,660.08 1868.82,262.348 2110.79,653.737 2352.76,558.3 \n",
       "  \n",
       "  \"/>\n",
       "<polyline clip-path=\"url(#clip3402)\" style=\"stroke:#0000ff; stroke-width:4; stroke-opacity:1; fill:none\" points=\"\n",
       "  175.024,601.622 416.994,486.209 658.964,606.166 900.935,740.606 1142.9,636.065 1384.88,207.056 1626.85,673.446 1868.82,445.381 2110.79,656.949 2352.76,919.426 \n",
       "  \n",
       "  \"/>\n",
       "<polyline clip-path=\"url(#clip3402)\" style=\"stroke:#0000ff; stroke-width:4; stroke-opacity:1; fill:none\" points=\"\n",
       "  175.024,610.305 416.994,732.132 658.964,498.497 900.935,537.808 1142.9,508.513 1384.88,330.87 1626.85,487.081 1868.82,384.42 2110.79,444.651 2352.76,525.535 \n",
       "  \n",
       "  \"/>\n",
       "<polyline clip-path=\"url(#clip3402)\" style=\"stroke:#0000ff; stroke-width:4; stroke-opacity:1; fill:none\" points=\"\n",
       "  175.024,383.288 416.994,750.683 658.964,670.64 900.935,741.666 1142.9,519.632 1384.88,465.858 1626.85,436.259 1868.82,638.258 2110.79,470.369 2352.76,677.306 \n",
       "  \n",
       "  \"/>\n",
       "<polyline clip-path=\"url(#clip3402)\" style=\"stroke:#0000ff; stroke-width:4; stroke-opacity:1; fill:none\" points=\"\n",
       "  175.024,556.878 416.994,810.189 658.964,630.908 900.935,510.878 1142.9,572.655 1384.88,401.822 1626.85,652.397 1868.82,155.402 2110.79,543.196 2352.76,737.332 \n",
       "  \n",
       "  \"/>\n",
       "<polyline clip-path=\"url(#clip3402)\" style=\"stroke:#0000ff; stroke-width:4; stroke-opacity:1; fill:none\" points=\"\n",
       "  175.024,575.924 416.994,787.296 658.964,735.775 900.935,754.135 1142.9,420.994 1384.88,402.918 1626.85,388.147 1868.82,344.101 2110.79,621.23 2352.76,833.224 \n",
       "  \n",
       "  \"/>\n",
       "<polyline clip-path=\"url(#clip3402)\" style=\"stroke:#0000ff; stroke-width:4; stroke-opacity:1; fill:none\" points=\"\n",
       "  175.024,523.539 416.994,721.118 658.964,712.267 900.935,408.065 1142.9,494.627 1384.88,256.297 1626.85,592.337 1868.82,410.2 2110.79,545.833 2352.76,707.194 \n",
       "  \n",
       "  \"/>\n",
       "<polyline clip-path=\"url(#clip3402)\" style=\"stroke:#0000ff; stroke-width:4; stroke-opacity:1; fill:none\" points=\"\n",
       "  175.024,715.017 416.994,861.698 658.964,527.491 900.935,282.696 1142.9,456.155 1384.88,486.621 1626.85,415.392 1868.82,374.661 2110.79,403.921 2352.76,399.868 \n",
       "  \n",
       "  \"/>\n",
       "<polyline clip-path=\"url(#clip3402)\" style=\"stroke:#0000ff; stroke-width:4; stroke-opacity:1; fill:none\" points=\"\n",
       "  175.024,590.002 416.994,889.701 658.964,587.295 900.935,646.916 1142.9,669.121 1384.88,503.033 1626.85,462.757 1868.82,245.596 2110.79,554.362 2352.76,688.591 \n",
       "  \n",
       "  \"/>\n",
       "<polyline clip-path=\"url(#clip3402)\" style=\"stroke:#0000ff; stroke-width:4; stroke-opacity:1; fill:none\" points=\"\n",
       "  175.024,646.32 416.994,838.444 658.964,787.389 900.935,826.071 1142.9,299.668 1384.88,283.65 1626.85,603.65 1868.82,293.373 2110.79,654.826 2352.76,862.173 \n",
       "  \n",
       "  \"/>\n",
       "<polyline clip-path=\"url(#clip3402)\" style=\"stroke:#0000ff; stroke-width:4; stroke-opacity:1; fill:none\" points=\"\n",
       "  175.024,561.231 416.994,858.993 658.964,798.467 900.935,735.259 1142.9,307.723 1384.88,312.736 1626.85,534.311 1868.82,346.311 2110.79,580.763 2352.76,787.077 \n",
       "  \n",
       "  \"/>\n",
       "<polyline clip-path=\"url(#clip3402)\" style=\"stroke:#0000ff; stroke-width:4; stroke-opacity:1; fill:none\" points=\"\n",
       "  175.024,566.391 416.994,576.008 658.964,591.485 900.935,446.305 1142.9,640.873 1384.88,462.74 1626.85,712.193 1868.82,326.833 2110.79,646.59 2352.76,933.89 \n",
       "  \n",
       "  \"/>\n",
       "<polyline clip-path=\"url(#clip3402)\" style=\"stroke:#0000ff; stroke-width:4; stroke-opacity:1; fill:none\" points=\"\n",
       "  175.024,645.636 416.994,682.691 658.964,708.27 900.935,559.965 1142.9,599.653 1384.88,173.921 1626.85,800.489 1868.82,297.137 2110.79,707.602 2352.76,721.477 \n",
       "  \n",
       "  \"/>\n",
       "<polyline clip-path=\"url(#clip3402)\" style=\"stroke:#0000ff; stroke-width:4; stroke-opacity:1; fill:none\" points=\"\n",
       "  175.024,594.193 416.994,622.532 658.964,688.42 900.935,716.353 1142.9,499.111 1384.88,187.415 1626.85,677.025 1868.82,444.358 2110.79,533.917 2352.76,802.746 \n",
       "  \n",
       "  \"/>\n",
       "<polyline clip-path=\"url(#clip3402)\" style=\"stroke:#0000ff; stroke-width:4; stroke-opacity:1; fill:none\" points=\"\n",
       "  175.024,525.983 416.994,918.991 658.964,545.18 900.935,532.473 1142.9,556.802 1384.88,346.32 1626.85,384.264 1868.82,484.593 2110.79,450.215 2352.76,470.821 \n",
       "  \n",
       "  \"/>\n",
       "<polyline clip-path=\"url(#clip3402)\" style=\"stroke:#0000ff; stroke-width:4; stroke-opacity:1; fill:none\" points=\"\n",
       "  175.024,713.663 416.994,752.5 658.964,592.025 900.935,665.104 1142.9,616.629 1384.88,480.678 1626.85,520.529 1868.82,185.573 2110.79,482.73 2352.76,794.504 \n",
       "  \n",
       "  \"/>\n",
       "<polyline clip-path=\"url(#clip3402)\" style=\"stroke:#0000ff; stroke-width:4; stroke-opacity:1; fill:none\" points=\"\n",
       "  175.024,561.231 416.994,858.993 658.964,798.467 900.935,735.259 1142.9,307.723 1384.88,312.736 1626.85,534.311 1868.82,346.311 2110.79,580.763 2352.76,787.077 \n",
       "  \n",
       "  \"/>\n",
       "<polyline clip-path=\"url(#clip3402)\" style=\"stroke:#0000ff; stroke-width:4; stroke-opacity:1; fill:none\" points=\"\n",
       "  175.024,888.169 416.994,531.602 658.964,548.828 900.935,585.134 1142.9,649.953 1384.88,614.584 1626.85,589.442 1868.82,465.199 2110.79,647.351 2352.76,883.537 \n",
       "  \n",
       "  \"/>\n",
       "<polyline clip-path=\"url(#clip3402)\" style=\"stroke:#0000ff; stroke-width:4; stroke-opacity:1; fill:none\" points=\"\n",
       "  175.024,710.951 416.994,810.768 658.964,679.204 900.935,542.417 1142.9,503.214 1384.88,486.608 1626.85,584.65 1868.82,221.403 2110.79,646.872 2352.76,648.918 \n",
       "  \n",
       "  \"/>\n",
       "<polyline clip-path=\"url(#clip3402)\" style=\"stroke:#0000ff; stroke-width:4; stroke-opacity:1; fill:none\" points=\"\n",
       "  175.024,384.578 416.994,606.132 658.964,552.924 900.935,668.165 1142.9,561.994 1384.88,315.685 1626.85,386.821 1868.82,468.223 2110.79,448.207 2352.76,698.799 \n",
       "  \n",
       "  \"/>\n",
       "<polyline clip-path=\"url(#clip3402)\" style=\"stroke:#0000ff; stroke-width:4; stroke-opacity:1; fill:none\" points=\"\n",
       "  175.024,534.38 416.994,779.379 658.964,471.629 900.935,363.275 1142.9,618.203 1384.88,433.88 1626.85,355.194 1868.82,594.589 2110.79,504.853 2352.76,519.541 \n",
       "  \n",
       "  \"/>\n",
       "<polyline clip-path=\"url(#clip3402)\" style=\"stroke:#0000ff; stroke-width:4; stroke-opacity:1; fill:none\" points=\"\n",
       "  175.024,499.174 416.994,692.935 658.964,475.411 900.935,584.158 1142.9,457.617 1384.88,316.06 1626.85,229.406 1868.82,321.319 2110.79,397.024 2352.76,469.194 \n",
       "  \n",
       "  \"/>\n",
       "<polyline clip-path=\"url(#clip3402)\" style=\"stroke:#0000ff; stroke-width:4; stroke-opacity:1; fill:none\" points=\"\n",
       "  175.024,835.118 416.994,652.134 658.964,463.993 900.935,477.827 1142.9,314.426 1384.88,381.404 1626.85,471.451 1868.82,201.617 2110.79,589.005 2352.76,552.73 \n",
       "  \n",
       "  \"/>\n",
       "<polyline clip-path=\"url(#clip3402)\" style=\"stroke:#0000ff; stroke-width:4; stroke-opacity:1; fill:none\" points=\"\n",
       "  175.024,747.165 416.994,750.404 658.964,448.462 900.935,388.462 1142.9,256.919 1384.88,335.57 1626.85,495.158 1868.82,260.153 2110.79,512.252 2352.76,452.523 \n",
       "  \n",
       "  \"/>\n",
       "<polyline clip-path=\"url(#clip3402)\" style=\"stroke:#0000ff; stroke-width:4; stroke-opacity:1; fill:none\" points=\"\n",
       "  175.024,615.694 416.994,607.44 658.964,666.556 900.935,477.236 1142.9,645.717 1384.88,381.498 1626.85,715.073 1868.82,402.965 2110.79,627.315 2352.76,903.839 \n",
       "  \n",
       "  \"/>\n",
       "<polyline clip-path=\"url(#clip3402)\" style=\"stroke:#0000ff; stroke-width:4; stroke-opacity:1; fill:none\" points=\"\n",
       "  175.024,746.425 416.994,787.307 658.964,742.709 900.935,971.315 1142.9,596.874 1384.88,338.044 1626.85,821.018 1868.82,322.003 2110.79,836.514 2352.76,1016.91 \n",
       "  \n",
       "  \"/>\n",
       "<polyline clip-path=\"url(#clip3402)\" style=\"stroke:#0000ff; stroke-width:4; stroke-opacity:1; fill:none\" points=\"\n",
       "  175.024,600.189 416.994,848.072 658.964,754.66 900.935,759.358 1142.9,450.315 1384.88,479.944 1626.85,396.441 1868.82,373.641 2110.79,654.844 2352.76,853.065 \n",
       "  \n",
       "  \"/>\n",
       "<polyline clip-path=\"url(#clip3402)\" style=\"stroke:#0000ff; stroke-width:4; stroke-opacity:1; fill:none\" points=\"\n",
       "  175.024,674.68 416.994,992.984 658.964,715.433 900.935,995.402 1142.9,533.521 1384.88,396.954 1626.85,614.234 1868.82,507.686 2110.79,652.32 2352.76,597.989 \n",
       "  \n",
       "  \"/>\n",
       "<polyline clip-path=\"url(#clip3402)\" style=\"stroke:#0000ff; stroke-width:4; stroke-opacity:1; fill:none\" points=\"\n",
       "  175.024,613.28 416.994,887.338 658.964,800.844 900.935,743.433 1142.9,375.13 1384.88,392.047 1626.85,613.677 1868.82,439.5 2110.79,609.826 2352.76,819.315 \n",
       "  \n",
       "  \"/>\n",
       "<polyline clip-path=\"url(#clip3402)\" style=\"stroke:#0000ff; stroke-width:4; stroke-opacity:1; fill:none\" points=\"\n",
       "  175.024,525.973 416.994,766.506 658.964,599.228 900.935,484.79 1142.9,736.172 1384.88,556.932 1626.85,607.407 1868.82,537.299 2110.79,435.042 2352.76,603.005 \n",
       "  \n",
       "  \"/>\n",
       "<polyline clip-path=\"url(#clip3402)\" style=\"stroke:#0000ff; stroke-width:4; stroke-opacity:1; fill:none\" points=\"\n",
       "  175.024,763.022 416.994,759.493 658.964,610.216 900.935,350.317 1142.9,284.715 1384.88,273.066 1626.85,596.772 1868.82,123.797 2110.79,456.244 2352.76,593.545 \n",
       "  \n",
       "  \"/>\n",
       "<polyline clip-path=\"url(#clip3402)\" style=\"stroke:#0000ff; stroke-width:4; stroke-opacity:1; fill:none\" points=\"\n",
       "  175.024,618.889 416.994,1071.45 658.964,726.552 900.935,486.213 1142.9,628.722 1384.88,341.85 1626.85,699.273 1868.82,376 2110.79,779.462 2352.76,676.814 \n",
       "  \n",
       "  \"/>\n",
       "<polyline clip-path=\"url(#clip3402)\" style=\"stroke:#0000ff; stroke-width:4; stroke-opacity:1; fill:none\" points=\"\n",
       "  175.024,611.221 416.994,700.202 658.964,674.689 900.935,829.31 1142.9,488 1384.88,308.164 1626.85,600.365 1868.82,287.141 2110.79,597.48 2352.76,861.87 \n",
       "  \n",
       "  \"/>\n",
       "<polyline clip-path=\"url(#clip3402)\" style=\"stroke:#0000ff; stroke-width:4; stroke-opacity:1; fill:none\" points=\"\n",
       "  175.024,439.898 416.994,786.79 658.964,441.905 900.935,518.949 1142.9,483.084 1384.88,309.011 1626.85,485.079 1868.82,403.243 2110.79,361.103 2352.76,409.023 \n",
       "  \n",
       "  \"/>\n",
       "<polyline clip-path=\"url(#clip3402)\" style=\"stroke:#0000ff; stroke-width:4; stroke-opacity:1; fill:none\" points=\"\n",
       "  175.024,629.191 416.994,449.086 658.964,532.161 900.935,666.169 1142.9,747.718 1384.88,587.611 1626.85,585.143 1868.82,431.741 2110.79,592.164 2352.76,964.312 \n",
       "  \n",
       "  \"/>\n",
       "<polyline clip-path=\"url(#clip3402)\" style=\"stroke:#0000ff; stroke-width:4; stroke-opacity:1; fill:none\" points=\"\n",
       "  175.024,531.974 416.994,675.408 658.964,799.007 900.935,820.138 1142.9,624.36 1384.88,391.519 1626.85,506.652 1868.82,398.507 2110.79,554.422 2352.76,656.226 \n",
       "  \n",
       "  \"/>\n",
       "<polyline clip-path=\"url(#clip3402)\" style=\"stroke:#0000ff; stroke-width:4; stroke-opacity:1; fill:none\" points=\"\n",
       "  175.024,779.151 416.994,796.697 658.964,562.905 900.935,374.917 1142.9,348.402 1384.88,375.706 1626.85,455.71 1868.82,210.936 2110.79,521.918 2352.76,471.055 \n",
       "  \n",
       "  \"/>\n",
       "<polyline clip-path=\"url(#clip3402)\" style=\"stroke:#0000ff; stroke-width:4; stroke-opacity:1; fill:none\" points=\"\n",
       "  175.024,557.24 416.994,898.097 658.964,439.438 900.935,535.27 1142.9,643.051 1384.88,364.177 1626.85,381.942 1868.82,385.788 2110.79,339.508 2352.76,377.942 \n",
       "  \n",
       "  \"/>\n",
       "<polyline clip-path=\"url(#clip3402)\" style=\"stroke:#0000ff; stroke-width:4; stroke-opacity:1; fill:none\" points=\"\n",
       "  175.024,626.927 416.994,700.648 658.964,498.944 900.935,171.764 1142.9,390.55 1384.88,205.915 1626.85,608.289 1868.82,344.533 2110.79,513.845 2352.76,495.027 \n",
       "  \n",
       "  \"/>\n",
       "<polyline clip-path=\"url(#clip3402)\" style=\"stroke:#0000ff; stroke-width:4; stroke-opacity:1; fill:none\" points=\"\n",
       "  175.024,686.008 416.994,798.974 658.964,672.016 900.935,302.574 1142.9,495.279 1384.88,378.678 1626.85,610.49 1868.82,295.14 2110.79,641.24 2352.76,683.822 \n",
       "  \n",
       "  \"/>\n",
       "<polyline clip-path=\"url(#clip3402)\" style=\"stroke:#0000ff; stroke-width:4; stroke-opacity:1; fill:none\" points=\"\n",
       "  175.024,667.147 416.994,872.893 658.964,552.833 900.935,339.577 1142.9,658.14 1384.88,550.235 1626.85,472.294 1868.82,499.493 2110.79,410.98 2352.76,541.872 \n",
       "  \n",
       "  \"/>\n",
       "<polyline clip-path=\"url(#clip3402)\" style=\"stroke:#0000ff; stroke-width:4; stroke-opacity:1; fill:none\" points=\"\n",
       "  175.024,683.711 416.994,527.095 658.964,530.331 900.935,504.423 1142.9,801.939 1384.88,525.876 1626.85,512.45 1868.82,429.154 2110.79,613.708 2352.76,755.778 \n",
       "  \n",
       "  \"/>\n",
       "<polyline clip-path=\"url(#clip3402)\" style=\"stroke:#0000ff; stroke-width:4; stroke-opacity:1; fill:none\" points=\"\n",
       "  175.024,532.69 416.994,659.934 658.964,481.8 900.935,524.621 1142.9,590.699 1384.88,380.963 1626.85,398.758 1868.82,69.2714 2110.79,425.495 2352.76,682.459 \n",
       "  \n",
       "  \"/>\n",
       "<polyline clip-path=\"url(#clip3402)\" style=\"stroke:#0000ff; stroke-width:4; stroke-opacity:1; fill:none\" points=\"\n",
       "  175.024,709.972 416.994,707.268 658.964,451.496 900.935,347.588 1142.9,522.169 1384.88,370.696 1626.85,566.282 1868.82,369.401 2110.79,436.297 2352.76,516.785 \n",
       "  \n",
       "  \"/>\n",
       "<polyline clip-path=\"url(#clip3402)\" style=\"stroke:#0000ff; stroke-width:4; stroke-opacity:1; fill:none\" points=\"\n",
       "  175.024,736.295 416.994,583.107 658.964,373.141 900.935,606.634 1142.9,462.839 1384.88,418.271 1626.85,498.243 1868.82,270.65 2110.79,611.429 2352.76,634.254 \n",
       "  \n",
       "  \"/>\n",
       "<polyline clip-path=\"url(#clip3402)\" style=\"stroke:#0000ff; stroke-width:4; stroke-opacity:1; fill:none\" points=\"\n",
       "  175.024,840.197 416.994,696.428 658.964,644.648 900.935,589.21 1142.9,758.278 1384.88,593.265 1626.85,612.862 1868.82,324.56 2110.79,668.488 2352.76,780.464 \n",
       "  \n",
       "  \"/>\n",
       "<polyline clip-path=\"url(#clip3402)\" style=\"stroke:#0000ff; stroke-width:4; stroke-opacity:1; fill:none\" points=\"\n",
       "  175.024,470.561 416.994,733.455 658.964,712.205 900.935,972.861 1142.9,411.493 1384.88,494.527 1626.85,473.866 1868.82,672.72 2110.79,476.757 2352.76,823.346 \n",
       "  \n",
       "  \"/>\n",
       "<polyline clip-path=\"url(#clip3402)\" style=\"stroke:#0000ff; stroke-width:4; stroke-opacity:1; fill:none\" points=\"\n",
       "  175.024,782.79 416.994,594.77 658.964,541.616 900.935,552.326 1142.9,515.994 1384.88,349.282 1626.85,620.993 1868.82,410.399 2110.79,718.898 2352.76,816.899 \n",
       "  \n",
       "  \"/>\n",
       "<polyline clip-path=\"url(#clip3402)\" style=\"stroke:#0000ff; stroke-width:4; stroke-opacity:1; fill:none\" points=\"\n",
       "  175.024,681.525 416.994,600.774 658.964,402.378 900.935,296.631 1142.9,561.055 1384.88,410.854 1626.85,445.104 1868.82,336.283 2110.79,478.953 2352.76,507.73 \n",
       "  \n",
       "  \"/>\n",
       "<polyline clip-path=\"url(#clip3402)\" style=\"stroke:#0000ff; stroke-width:4; stroke-opacity:1; fill:none\" points=\"\n",
       "  175.024,533.986 416.994,739.252 658.964,318.113 900.935,428.142 1142.9,524.916 1384.88,383.877 1626.85,494.09 1868.82,281.968 2110.79,392.911 2352.76,357.809 \n",
       "  \n",
       "  \"/>\n",
       "<polyline clip-path=\"url(#clip3402)\" style=\"stroke:#0000ff; stroke-width:4; stroke-opacity:1; fill:none\" points=\"\n",
       "  175.024,568.403 416.994,766.467 658.964,538.148 900.935,439.5 1142.9,369.431 1384.88,209.53 1626.85,497.868 1868.82,195.443 2110.79,525.356 2352.76,469.843 \n",
       "  \n",
       "  \"/>\n",
       "<polyline clip-path=\"url(#clip3402)\" style=\"stroke:#0000ff; stroke-width:4; stroke-opacity:1; fill:none\" points=\"\n",
       "  175.024,357.749 416.994,825.921 658.964,612.188 900.935,457.137 1142.9,656.348 1384.88,264.151 1626.85,836.267 1868.82,339.566 2110.79,630.432 2352.76,575.611 \n",
       "  \n",
       "  \"/>\n",
       "<polyline clip-path=\"url(#clip3402)\" style=\"stroke:#0000ff; stroke-width:4; stroke-opacity:1; fill:none\" points=\"\n",
       "  175.024,395.295 416.994,719.246 658.964,435.571 900.935,282.3 1142.9,386.867 1384.88,130.335 1626.85,413.679 1868.82,400.81 2110.79,607.678 2352.76,409.345 \n",
       "  \n",
       "  \"/>\n",
       "<polyline clip-path=\"url(#clip3402)\" style=\"stroke:#0000ff; stroke-width:4; stroke-opacity:1; fill:none\" points=\"\n",
       "  175.024,672.572 416.994,778.044 658.964,421.173 900.935,491.644 1142.9,411.129 1384.88,275.018 1626.85,345.873 1868.82,253.536 2110.79,350.989 2352.76,556.903 \n",
       "  \n",
       "  \"/>\n",
       "<polyline clip-path=\"url(#clip3402)\" style=\"stroke:#0000ff; stroke-width:4; stroke-opacity:1; fill:none\" points=\"\n",
       "  175.024,559.652 416.994,903.379 658.964,681.888 900.935,642.583 1142.9,479.467 1384.88,460.095 1626.85,516.609 1868.82,349.75 2110.79,685.164 2352.76,741.42 \n",
       "  \n",
       "  \"/>\n",
       "<polyline clip-path=\"url(#clip3402)\" style=\"stroke:#0000ff; stroke-width:4; stroke-opacity:1; fill:none\" points=\"\n",
       "  175.024,637.796 416.994,925.846 658.964,759.843 900.935,869.515 1142.9,406.723 1384.88,242.384 1626.85,653.241 1868.82,420.159 2110.79,742.754 2352.76,857.719 \n",
       "  \n",
       "  \"/>\n",
       "<polyline clip-path=\"url(#clip3402)\" style=\"stroke:#0000ff; stroke-width:4; stroke-opacity:1; fill:none\" points=\"\n",
       "  175.024,418.026 416.994,1034.23 658.964,742.535 900.935,697.949 1142.9,580.322 1384.88,362.232 1626.85,724.052 1868.82,272.66 2110.79,758.914 2352.76,825.102 \n",
       "  \n",
       "  \"/>\n",
       "<polyline clip-path=\"url(#clip3402)\" style=\"stroke:#0000ff; stroke-width:4; stroke-opacity:1; fill:none\" points=\"\n",
       "  175.024,489.688 416.994,864.248 658.964,421.093 900.935,301.44 1142.9,228.904 1384.88,321.888 1626.85,532.013 1868.82,297.827 2110.79,340.632 2352.76,392.977 \n",
       "  \n",
       "  \"/>\n",
       "<polyline clip-path=\"url(#clip3402)\" style=\"stroke:#0000ff; stroke-width:4; stroke-opacity:1; fill:none\" points=\"\n",
       "  175.024,787.989 416.994,595.764 658.964,520.813 900.935,440.93 1142.9,569.719 1384.88,393.933 1626.85,383.32 1868.82,410.707 2110.79,510.933 2352.76,505.64 \n",
       "  \n",
       "  \"/>\n",
       "<polyline clip-path=\"url(#clip3402)\" style=\"stroke:#ffa500; stroke-width:4; stroke-opacity:1; fill:none\" points=\"\n",
       "  175.024,487.18 416.994,532.696 658.964,633.454 900.935,560.658 1142.9,486.392 1384.88,371.68 1626.85,583.753 1868.82,604.564 2110.79,500.825 2352.76,807.845 \n",
       "  \n",
       "  \"/>\n",
       "<polyline clip-path=\"url(#clip3402)\" style=\"stroke:#ffa500; stroke-width:4; stroke-opacity:1; fill:none\" points=\"\n",
       "  175.024,547.769 416.994,937.502 658.964,447.663 900.935,552.402 1142.9,534.74 1384.88,216.424 1626.85,310.698 1868.82,294.459 2110.79,404.979 2352.76,335.743 \n",
       "  \n",
       "  \"/>\n",
       "<polyline clip-path=\"url(#clip3402)\" style=\"stroke:#ffa500; stroke-width:4; stroke-opacity:1; fill:none\" points=\"\n",
       "  175.024,352.787 416.994,619.547 658.964,320.875 900.935,486.909 1142.9,350.261 1384.88,225.682 1626.85,107.997 1868.82,250.232 2110.79,330.563 2352.76,336.211 \n",
       "  \n",
       "  \"/>\n",
       "<polyline clip-path=\"url(#clip3402)\" style=\"stroke:#ffa500; stroke-width:4; stroke-opacity:1; fill:none\" points=\"\n",
       "  175.024,670.997 416.994,589.501 658.964,448.506 900.935,345.731 1142.9,188.306 1384.88,240.856 1626.85,420.892 1868.82,243.635 2110.79,470.413 2352.76,363.711 \n",
       "  \n",
       "  \"/>\n",
       "<polyline clip-path=\"url(#clip3402)\" style=\"stroke:#ffa500; stroke-width:4; stroke-opacity:1; fill:none\" points=\"\n",
       "  175.024,550.284 416.994,631.832 658.964,332.35 900.935,143.058 1142.9,441.851 1384.88,257.555 1626.85,561.756 1868.82,255.666 2110.79,523.18 2352.76,444.345 \n",
       "  \n",
       "  \"/>\n",
       "<polyline clip-path=\"url(#clip3402)\" style=\"stroke:#ffa500; stroke-width:4; stroke-opacity:1; fill:none\" points=\"\n",
       "  175.024,224.451 416.994,801.139 658.964,634.853 900.935,475.429 1142.9,421.401 1384.88,258.658 1626.85,612.149 1868.82,320.242 2110.79,545.506 2352.76,445.469 \n",
       "  \n",
       "  \"/>\n",
       "<polyline clip-path=\"url(#clip3402)\" style=\"stroke:#ffa500; stroke-width:4; stroke-opacity:1; fill:none\" points=\"\n",
       "  175.024,680.724 416.994,776.746 658.964,435.217 900.935,402.518 1142.9,376.607 1384.88,382.763 1626.85,399.601 1868.82,288.726 2110.79,177.572 2352.76,473.917 \n",
       "  \n",
       "  \"/>\n",
       "<polyline clip-path=\"url(#clip3402)\" style=\"stroke:#ffa500; stroke-width:4; stroke-opacity:1; fill:none\" points=\"\n",
       "  175.024,935.679 416.994,842.491 658.964,544.548 900.935,617.707 1142.9,343.121 1384.88,311.693 1626.85,450.894 1868.82,244.215 2110.79,465.205 2352.76,524.295 \n",
       "  \n",
       "  \"/>\n",
       "<polyline clip-path=\"url(#clip3402)\" style=\"stroke:#ffa500; stroke-width:4; stroke-opacity:1; fill:none\" points=\"\n",
       "  175.024,611.87 416.994,436.247 658.964,229.297 900.935,383.383 1142.9,415.429 1384.88,397.086 1626.85,413.79 1868.82,424.338 2110.79,494.594 2352.76,571.025 \n",
       "  \n",
       "  \"/>\n",
       "<polyline clip-path=\"url(#clip3402)\" style=\"stroke:#ffa500; stroke-width:4; stroke-opacity:1; fill:none\" points=\"\n",
       "  175.024,812.106 416.994,672.749 658.964,484.119 900.935,585.928 1142.9,477.715 1384.88,609.898 1626.85,395.937 1868.82,334.53 2110.79,296.287 2352.76,580.062 \n",
       "  \n",
       "  \"/>\n",
       "<polyline clip-path=\"url(#clip3402)\" style=\"stroke:#ffa500; stroke-width:4; stroke-opacity:1; fill:none\" points=\"\n",
       "  175.024,324.488 416.994,745.505 658.964,763.537 900.935,588.174 1142.9,453.951 1384.88,208.998 1626.85,527.176 1868.82,272.242 2110.79,545.846 2352.76,588.334 \n",
       "  \n",
       "  \"/>\n",
       "<polyline clip-path=\"url(#clip3402)\" style=\"stroke:#ffa500; stroke-width:4; stroke-opacity:1; fill:none\" points=\"\n",
       "  175.024,619.959 416.994,430.236 658.964,537.164 900.935,488.888 1142.9,628.171 1384.88,463.338 1626.85,623.997 1868.82,300.567 2110.79,573.374 2352.76,912.653 \n",
       "  \n",
       "  \"/>\n",
       "<polyline clip-path=\"url(#clip3402)\" style=\"stroke:#ffa500; stroke-width:4; stroke-opacity:1; fill:none\" points=\"\n",
       "  175.024,586.759 416.994,647.165 658.964,470.646 900.935,535.357 1142.9,546.175 1384.88,400.608 1626.85,413.227 1868.82,47.2441 2110.79,432.008 2352.76,644.73 \n",
       "  \n",
       "  \"/>\n",
       "<polyline clip-path=\"url(#clip3402)\" style=\"stroke:#ffa500; stroke-width:4; stroke-opacity:1; fill:none\" points=\"\n",
       "  175.024,490.585 416.994,756.217 658.964,670.326 900.935,445.136 1142.9,647.345 1384.88,216.614 1626.85,803.639 1868.82,275.322 2110.79,662.099 2352.76,706.016 \n",
       "  \n",
       "  \"/>\n",
       "<polyline clip-path=\"url(#clip3402)\" style=\"stroke:#ffa500; stroke-width:4; stroke-opacity:1; fill:none\" points=\"\n",
       "  175.024,512.487 416.994,578.015 658.964,622.677 900.935,606.337 1142.9,542.117 1384.88,79.3531 1626.85,669.577 1868.82,306.139 2110.79,634.353 2352.76,718.608 \n",
       "  \n",
       "  \"/>\n",
       "<polyline clip-path=\"url(#clip3402)\" style=\"stroke:#ffa500; stroke-width:4; stroke-opacity:1; fill:none\" points=\"\n",
       "  175.024,503.138 416.994,774.468 658.964,682.041 900.935,714.33 1142.9,252.163 1384.88,160.867 1626.85,516.216 1868.82,139.884 2110.79,718.419 2352.76,724.801 \n",
       "  \n",
       "  \"/>\n",
       "<polyline clip-path=\"url(#clip3402)\" style=\"stroke:#ffa500; stroke-width:4; stroke-opacity:1; fill:none\" points=\"\n",
       "  175.024,605.721 416.994,701.424 658.964,431.73 900.935,371.864 1142.9,388.862 1384.88,354.568 1626.85,326.906 1868.82,224.685 2110.79,498.824 2352.76,266.343 \n",
       "  \n",
       "  \"/>\n",
       "<polyline clip-path=\"url(#clip3402)\" style=\"stroke:#ffa500; stroke-width:4; stroke-opacity:1; fill:none\" points=\"\n",
       "  175.024,659.098 416.994,720.969 658.964,642.892 900.935,923.621 1142.9,418.755 1384.88,341.383 1626.85,598.011 1868.82,248.474 2110.79,668.314 2352.76,903.574 \n",
       "  \n",
       "  \"/>\n",
       "<polyline clip-path=\"url(#clip3402)\" style=\"stroke:#ffa500; stroke-width:4; stroke-opacity:1; fill:none\" points=\"\n",
       "  175.024,592.339 416.994,455.699 658.964,597.609 900.935,477.697 1142.9,782.47 1384.88,384.087 1626.85,613.337 1868.82,341.652 2110.79,486.711 2352.76,862.103 \n",
       "  \n",
       "  \"/>\n",
       "<polyline clip-path=\"url(#clip3402)\" style=\"stroke:#ffa500; stroke-width:4; stroke-opacity:1; fill:none\" points=\"\n",
       "  175.024,559.648 416.994,402.221 658.964,536.463 900.935,655.217 1142.9,554.857 1384.88,185.178 1626.85,668.392 1868.82,421.968 2110.79,590.548 2352.76,869.939 \n",
       "  \n",
       "  \"/>\n",
       "<polyline clip-path=\"url(#clip3402)\" style=\"stroke:#ffa500; stroke-width:4; stroke-opacity:1; fill:none\" points=\"\n",
       "  175.024,551.028 416.994,862.283 658.964,707.869 900.935,819.12 1142.9,226.973 1384.88,321.965 1626.85,460.312 1868.82,254.107 2110.79,562.848 2352.76,768.675 \n",
       "  \n",
       "  \"/>\n",
       "<polyline clip-path=\"url(#clip3402)\" style=\"stroke:#ffa500; stroke-width:4; stroke-opacity:1; fill:none\" points=\"\n",
       "  175.024,549.578 416.994,801.026 658.964,637.04 900.935,434.292 1142.9,566.434 1384.88,290.312 1626.85,784.119 1868.82,191.643 2110.79,689.388 2352.76,742.522 \n",
       "  \n",
       "  \"/>\n",
       "<polyline clip-path=\"url(#clip3402)\" style=\"stroke:#ffa500; stroke-width:4; stroke-opacity:1; fill:none\" points=\"\n",
       "  175.024,631.926 416.994,586.082 658.964,299.471 900.935,570.867 1142.9,580.067 1384.88,514.444 1626.85,398.19 1868.82,554.216 2110.79,455.464 2352.76,567.737 \n",
       "  \n",
       "  \"/>\n",
       "<polyline clip-path=\"url(#clip3402)\" style=\"stroke:#ffa500; stroke-width:4; stroke-opacity:1; fill:none\" points=\"\n",
       "  175.024,842.317 416.994,623.122 658.964,417.628 900.935,485.494 1142.9,668.945 1384.88,512.446 1626.85,422.144 1868.82,373.365 2110.79,574.901 2352.76,581.674 \n",
       "  \n",
       "  \"/>\n",
       "<polyline clip-path=\"url(#clip3402)\" style=\"stroke:#ffa500; stroke-width:4; stroke-opacity:1; fill:none\" points=\"\n",
       "  175.024,634.04 416.994,457.857 658.964,539.852 900.935,587.495 1142.9,711.929 1384.88,604.836 1626.85,632.773 1868.82,403.826 2110.79,606.341 2352.76,904.266 \n",
       "  \n",
       "  \"/>\n",
       "<polyline clip-path=\"url(#clip3402)\" style=\"stroke:#ffa500; stroke-width:4; stroke-opacity:1; fill:none\" points=\"\n",
       "  175.024,596.055 416.994,537.166 658.964,257.726 900.935,390.262 1142.9,532.457 1384.88,456.817 1626.85,465.613 1868.82,478.781 2110.79,511.702 2352.76,540.554 \n",
       "  \n",
       "  \"/>\n",
       "<polyline clip-path=\"url(#clip3402)\" style=\"stroke:#ffa500; stroke-width:4; stroke-opacity:1; fill:none\" points=\"\n",
       "  175.024,491.824 416.994,917.085 658.964,492.645 900.935,433.44 1142.9,577.227 1384.88,362.696 1626.85,212.59 1868.82,381.555 2110.79,351.106 2352.76,469.109 \n",
       "  \n",
       "  \"/>\n",
       "<polyline clip-path=\"url(#clip3402)\" style=\"stroke:#ffa500; stroke-width:4; stroke-opacity:1; fill:none\" points=\"\n",
       "  175.024,584.843 416.994,818.985 658.964,747.784 900.935,824.346 1142.9,209.157 1384.88,268.929 1626.85,523.664 1868.82,278.103 2110.79,617.983 2352.76,808.94 \n",
       "  \n",
       "  \"/>\n",
       "<polyline clip-path=\"url(#clip3402)\" style=\"stroke:#ffa500; stroke-width:4; stroke-opacity:1; fill:none\" points=\"\n",
       "  175.024,241.919 416.994,877.57 658.964,576.128 900.935,672.499 1142.9,499.894 1384.88,213.081 1626.85,602.088 1868.82,265.95 2110.79,593.523 2352.76,548.107 \n",
       "  \n",
       "  \"/>\n",
       "<polyline clip-path=\"url(#clip3402)\" style=\"stroke:#ffa500; stroke-width:4; stroke-opacity:1; fill:none\" points=\"\n",
       "  175.024,542.433 416.994,793.061 658.964,648.836 900.935,489.849 1142.9,471.93 1384.88,318.269 1626.85,694.169 1868.82,119.033 2110.79,570.514 2352.76,713.694 \n",
       "  \n",
       "  \"/>\n",
       "<polyline clip-path=\"url(#clip3402)\" style=\"stroke:#ffa500; stroke-width:4; stroke-opacity:1; fill:none\" points=\"\n",
       "  175.024,261.088 416.994,674.987 658.964,594.078 900.935,644.101 1142.9,602.681 1384.88,406.948 1626.85,444.687 1868.82,441.868 2110.79,485.486 2352.76,515.738 \n",
       "  \n",
       "  \"/>\n",
       "<polyline clip-path=\"url(#clip3402)\" style=\"stroke:#ffa500; stroke-width:4; stroke-opacity:1; fill:none\" points=\"\n",
       "  175.024,700.533 416.994,470.85 658.964,641.264 900.935,430.159 1142.9,706.071 1384.88,520.063 1626.85,626.606 1868.82,305.877 2110.79,630.425 2352.76,893.234 \n",
       "  \n",
       "  \"/>\n",
       "<polyline clip-path=\"url(#clip3402)\" style=\"stroke:#ffa500; stroke-width:4; stroke-opacity:1; fill:none\" points=\"\n",
       "  175.024,751.529 416.994,478.383 658.964,579.3 900.935,506.565 1142.9,747.624 1384.88,526.033 1626.85,519.132 1868.82,401.065 2110.79,601.931 2352.76,819.276 \n",
       "  \n",
       "  \"/>\n",
       "<polyline clip-path=\"url(#clip3402)\" style=\"stroke:#ffa500; stroke-width:4; stroke-opacity:1; fill:none\" points=\"\n",
       "  175.024,650.686 416.994,734.269 658.964,541.177 900.935,161.379 1142.9,417.303 1384.88,354.133 1626.85,421.542 1868.82,365.661 2110.79,448.051 2352.76,615.031 \n",
       "  \n",
       "  \"/>\n",
       "<polyline clip-path=\"url(#clip3402)\" style=\"stroke:#ffa500; stroke-width:4; stroke-opacity:1; fill:none\" points=\"\n",
       "  175.024,818.477 416.994,727.324 658.964,449.734 900.935,552.215 1142.9,534.348 1384.88,529.804 1626.85,503.05 1868.82,356.308 2110.79,198.993 2352.76,673.853 \n",
       "  \n",
       "  \"/>\n",
       "<polyline clip-path=\"url(#clip3402)\" style=\"stroke:#ffa500; stroke-width:4; stroke-opacity:1; fill:none\" points=\"\n",
       "  175.024,477.54 416.994,613.582 658.964,435.432 900.935,505.52 1142.9,471.26 1384.88,180.791 1626.85,141.617 1868.82,237.22 2110.79,373.45 2352.76,492.568 \n",
       "  \n",
       "  \"/>\n",
       "<polyline clip-path=\"url(#clip3402)\" style=\"stroke:#ffa500; stroke-width:4; stroke-opacity:1; fill:none\" points=\"\n",
       "  175.024,312.371 416.994,716.298 658.964,565.051 900.935,631.061 1142.9,533.736 1384.88,414.265 1626.85,418.643 1868.82,579.554 2110.79,516.822 2352.76,536.87 \n",
       "  \n",
       "  \"/>\n",
       "<polyline clip-path=\"url(#clip3402)\" style=\"stroke:#ffa500; stroke-width:4; stroke-opacity:1; fill:none\" points=\"\n",
       "  175.024,748.437 416.994,510.414 658.964,371.784 900.935,436.237 1142.9,451.292 1384.88,553.354 1626.85,426.853 1868.82,272.54 2110.79,398.101 2352.76,451.408 \n",
       "  \n",
       "  \"/>\n",
       "<polyline clip-path=\"url(#clip3402)\" style=\"stroke:#ffa500; stroke-width:4; stroke-opacity:1; fill:none\" points=\"\n",
       "  175.024,297.814 416.994,594.448 658.964,491.469 900.935,657.018 1142.9,498.325 1384.88,296.488 1626.85,350.009 1868.82,453.604 2110.79,392.031 2352.76,625.11 \n",
       "  \n",
       "  \"/>\n",
       "<polyline clip-path=\"url(#clip3402)\" style=\"stroke:#ffa500; stroke-width:4; stroke-opacity:1; fill:none\" points=\"\n",
       "  175.024,763.022 416.994,759.493 658.964,610.216 900.935,350.317 1142.9,284.715 1384.88,273.066 1626.85,596.772 1868.82,123.797 2110.79,456.244 2352.76,593.545 \n",
       "  \n",
       "  \"/>\n",
       "<polyline clip-path=\"url(#clip3402)\" style=\"stroke:#ffa500; stroke-width:4; stroke-opacity:1; fill:none\" points=\"\n",
       "  175.024,492.473 416.994,612.438 658.964,317.248 900.935,396.568 1142.9,415.383 1384.88,417.894 1626.85,351.321 1868.82,505.097 2110.79,437.386 2352.76,418.221 \n",
       "  \n",
       "  \"/>\n",
       "<polyline clip-path=\"url(#clip3402)\" style=\"stroke:#ffa500; stroke-width:4; stroke-opacity:1; fill:none\" points=\"\n",
       "  175.024,582.64 416.994,802.301 658.964,495.921 900.935,663.153 1142.9,729.203 1384.88,545.193 1626.85,531.759 1868.82,202.775 2110.79,388.373 2352.76,675.3 \n",
       "  \n",
       "  \"/>\n",
       "<polyline clip-path=\"url(#clip3402)\" style=\"stroke:#ffa500; stroke-width:4; stroke-opacity:1; fill:none\" points=\"\n",
       "  175.024,329.224 416.994,901.023 658.964,624.069 900.935,417.361 1142.9,443.705 1384.88,407.076 1626.85,625.193 1868.82,215.431 2110.79,659.3 2352.76,686.63 \n",
       "  \n",
       "  \"/>\n",
       "<polyline clip-path=\"url(#clip3402)\" style=\"stroke:#ffa500; stroke-width:4; stroke-opacity:1; fill:none\" points=\"\n",
       "  175.024,559.91 416.994,845.968 658.964,549.08 900.935,427.405 1142.9,540.734 1384.88,372.317 1626.85,605.793 1868.82,513.8 2110.79,351.995 2352.76,453.238 \n",
       "  \n",
       "  \"/>\n",
       "<polyline clip-path=\"url(#clip3402)\" style=\"stroke:#ffa500; stroke-width:4; stroke-opacity:1; fill:none\" points=\"\n",
       "  175.024,405.033 416.994,653.057 658.964,425.741 900.935,273.993 1142.9,321.047 1384.88,106.501 1626.85,348.714 1868.82,319.184 2110.79,507.151 2352.76,412.737 \n",
       "  \n",
       "  \"/>\n",
       "<polyline clip-path=\"url(#clip3402)\" style=\"stroke:#ffa500; stroke-width:4; stroke-opacity:1; fill:none\" points=\"\n",
       "  175.024,552.894 416.994,699.665 658.964,517.141 900.935,465.965 1142.9,770.613 1384.88,444.016 1626.85,525.171 1868.82,175.043 2110.79,453.385 2352.76,667.571 \n",
       "  \n",
       "  \"/>\n",
       "<polyline clip-path=\"url(#clip3402)\" style=\"stroke:#ffa500; stroke-width:4; stroke-opacity:1; fill:none\" points=\"\n",
       "  175.024,341.572 416.994,705.374 658.964,559.556 900.935,510.269 1142.9,666.727 1384.88,361.924 1626.85,649.758 1868.82,474.778 2110.79,396.085 2352.76,465.732 \n",
       "  \n",
       "  \"/>\n",
       "<polyline clip-path=\"url(#clip3402)\" style=\"stroke:#ffa500; stroke-width:4; stroke-opacity:1; fill:none\" points=\"\n",
       "  175.024,511.727 416.994,621.718 658.964,358.708 900.935,456.35 1142.9,535.978 1384.88,483.619 1626.85,488.597 1868.82,485.772 2110.79,519.805 2352.76,636.156 \n",
       "  \n",
       "  \"/>\n",
       "<polyline clip-path=\"url(#clip3402)\" style=\"stroke:#ffa500; stroke-width:4; stroke-opacity:1; fill:none\" points=\"\n",
       "  175.024,698.697 416.994,784.363 658.964,438.68 900.935,461.544 1142.9,361.632 1384.88,388.734 1626.85,548.01 1868.82,299.837 2110.79,237.277 2352.76,477.759 \n",
       "  \n",
       "  \"/>\n",
       "<polyline clip-path=\"url(#clip3402)\" style=\"stroke:#ffa500; stroke-width:4; stroke-opacity:1; fill:none\" points=\"\n",
       "  175.024,595.207 416.994,637.173 658.964,515.264 900.935,592.029 1142.9,314.306 1384.88,239.723 1626.85,254.783 1868.82,332.277 2110.79,332.164 2352.76,623.543 \n",
       "  \n",
       "  \"/>\n",
       "<polyline clip-path=\"url(#clip3402)\" style=\"stroke:#ffa500; stroke-width:4; stroke-opacity:1; fill:none\" points=\"\n",
       "  175.024,651.715 416.994,482.627 658.964,569.11 900.935,388.437 1142.9,645.267 1384.88,463.497 1626.85,539.658 1868.82,232.65 2110.79,538.133 2352.76,870.57 \n",
       "  \n",
       "  \"/>\n",
       "<polyline clip-path=\"url(#clip3402)\" style=\"stroke:#ffa500; stroke-width:4; stroke-opacity:1; fill:none\" points=\"\n",
       "  175.024,725.325 416.994,616.859 658.964,345.32 900.935,390.295 1142.9,287.532 1384.88,359.37 1626.85,459.715 1868.82,206.293 2110.79,534.38 2352.76,439.745 \n",
       "  \n",
       "  \"/>\n",
       "<polyline clip-path=\"url(#clip3402)\" style=\"stroke:#ffa500; stroke-width:4; stroke-opacity:1; fill:none\" points=\"\n",
       "  175.024,390.963 416.994,777.28 658.964,480.537 900.935,467.856 1142.9,583.17 1384.88,340.834 1626.85,165.024 1868.82,363.143 2110.79,380.959 2352.76,420.109 \n",
       "  \n",
       "  \"/>\n",
       "<polyline clip-path=\"url(#clip3402)\" style=\"stroke:#ffa500; stroke-width:4; stroke-opacity:1; fill:none\" points=\"\n",
       "  175.024,529.177 416.994,673.94 658.964,392.084 900.935,286.526 1142.9,369.143 1384.88,393.613 1626.85,392.114 1868.82,245.613 2110.79,413.421 2352.76,331.314 \n",
       "  \n",
       "  \"/>\n",
       "<polyline clip-path=\"url(#clip3402)\" style=\"stroke:#ffa500; stroke-width:4; stroke-opacity:1; fill:none\" points=\"\n",
       "  175.024,261.116 416.994,732.311 658.964,383.776 900.935,373.573 1142.9,305.93 1384.88,295.294 1626.85,324.511 1868.82,260.975 2110.79,401.627 2352.76,360.64 \n",
       "  \n",
       "  \"/>\n",
       "<polyline clip-path=\"url(#clip3402)\" style=\"stroke:#ffa500; stroke-width:4; stroke-opacity:1; fill:none\" points=\"\n",
       "  175.024,435.727 416.994,761.667 658.964,355.833 900.935,507.399 1142.9,448.324 1384.88,369.337 1626.85,227.57 1868.82,239.38 2110.79,410.731 2352.76,447.671 \n",
       "  \n",
       "  \"/>\n",
       "<polyline clip-path=\"url(#clip3402)\" style=\"stroke:#ffa500; stroke-width:4; stroke-opacity:1; fill:none\" points=\"\n",
       "  175.024,435.208 416.994,719.501 658.964,666.461 900.935,329.81 1142.9,477.285 1384.88,234.765 1626.85,704.571 1868.82,395.903 2110.79,507.051 2352.76,774.038 \n",
       "  \n",
       "  \"/>\n",
       "<polyline clip-path=\"url(#clip3402)\" style=\"stroke:#ffa500; stroke-width:4; stroke-opacity:1; fill:none\" points=\"\n",
       "  175.024,581.056 416.994,648.746 658.964,701.513 900.935,542.669 1142.9,584.468 1384.88,170.642 1626.85,511.595 1868.82,288.95 2110.79,620.398 2352.76,740.718 \n",
       "  \n",
       "  \"/>\n",
       "<polyline clip-path=\"url(#clip3402)\" style=\"stroke:#ffa500; stroke-width:4; stroke-opacity:1; fill:none\" points=\"\n",
       "  175.024,605.201 416.994,772.592 658.964,685.22 900.935,422.198 1142.9,438.888 1384.88,401.253 1626.85,657.742 1868.82,148.958 2110.79,618.599 2352.76,637.758 \n",
       "  \n",
       "  \"/>\n",
       "<polyline clip-path=\"url(#clip3402)\" style=\"stroke:#ffa500; stroke-width:4; stroke-opacity:1; fill:none\" points=\"\n",
       "  175.024,497.482 416.994,711.727 658.964,622.775 900.935,279.532 1142.9,496.189 1384.88,384.453 1626.85,747.224 1868.82,276.657 2110.79,629.98 2352.76,705.024 \n",
       "  \n",
       "  \"/>\n",
       "<polyline clip-path=\"url(#clip3402)\" style=\"stroke:#ffa500; stroke-width:4; stroke-opacity:1; fill:none\" points=\"\n",
       "  175.024,635.061 416.994,815.347 658.964,453.351 900.935,300.651 1142.9,405.358 1384.88,226.849 1626.85,473.695 1868.82,294.952 2110.79,503.881 2352.76,527.084 \n",
       "  \n",
       "  \"/>\n",
       "<polyline clip-path=\"url(#clip3402)\" style=\"stroke:#ffa500; stroke-width:4; stroke-opacity:1; fill:none\" points=\"\n",
       "  175.024,233.069 416.994,908.906 658.964,604.675 900.935,643.684 1142.9,500.076 1384.88,195.7 1626.85,581.594 1868.82,260.692 2110.79,572.139 2352.76,472.944 \n",
       "  \n",
       "  \"/>\n",
       "<polyline clip-path=\"url(#clip3402)\" style=\"stroke:#ffa500; stroke-width:4; stroke-opacity:1; fill:none\" points=\"\n",
       "  175.024,667.28 416.994,612.953 658.964,472.453 900.935,212.415 1142.9,292.712 1384.88,291.46 1626.85,350.83 1868.82,261.901 2110.79,316.629 2352.76,531.419 \n",
       "  \n",
       "  \"/>\n",
       "<polyline clip-path=\"url(#clip3402)\" style=\"stroke:#ffa500; stroke-width:4; stroke-opacity:1; fill:none\" points=\"\n",
       "  175.024,618.051 416.994,752.342 658.964,447.507 900.935,467.924 1142.9,382.38 1384.88,298.641 1626.85,518.364 1868.82,354.283 2110.79,239.698 2352.76,416.788 \n",
       "  \n",
       "  \"/>\n",
       "<polyline clip-path=\"url(#clip3402)\" style=\"stroke:#ffa500; stroke-width:4; stroke-opacity:1; fill:none\" points=\"\n",
       "  175.024,566.054 416.994,610.164 658.964,481.766 900.935,504.729 1142.9,426.531 1384.88,184.901 1626.85,171.276 1868.82,236.594 2110.79,408.85 2352.76,539.936 \n",
       "  \n",
       "  \"/>\n",
       "<polyline clip-path=\"url(#clip3402)\" style=\"stroke:#ffa500; stroke-width:4; stroke-opacity:1; fill:none\" points=\"\n",
       "  175.024,487.18 416.994,532.696 658.964,633.454 900.935,560.658 1142.9,486.392 1384.88,371.68 1626.85,583.753 1868.82,604.564 2110.79,500.825 2352.76,807.845 \n",
       "  \n",
       "  \"/>\n",
       "<polyline clip-path=\"url(#clip3402)\" style=\"stroke:#ffa500; stroke-width:4; stroke-opacity:1; fill:none\" points=\"\n",
       "  175.024,496.074 416.994,758.807 658.964,732.253 900.935,409.855 1142.9,476.206 1384.88,169.443 1626.85,625.683 1868.82,291.236 2110.79,587.964 2352.76,641.97 \n",
       "  \n",
       "  \"/>\n",
       "<polyline clip-path=\"url(#clip3402)\" style=\"stroke:#ffa500; stroke-width:4; stroke-opacity:1; fill:none\" points=\"\n",
       "  175.024,577.866 416.994,639.538 658.964,529.328 900.935,479.227 1142.9,537.317 1384.88,130.874 1626.85,532.444 1868.82,336.821 2110.79,612.096 2352.76,390.651 \n",
       "  \n",
       "  \"/>\n",
       "<polyline clip-path=\"url(#clip3402)\" style=\"stroke:#ffa500; stroke-width:4; stroke-opacity:1; fill:none\" points=\"\n",
       "  175.024,586.395 416.994,795.719 658.964,536.777 900.935,597.942 1142.9,781.988 1384.88,529.821 1626.85,481.73 1868.82,163.296 2110.79,410.857 2352.76,649.203 \n",
       "  \n",
       "  \"/>\n",
       "<polyline clip-path=\"url(#clip3402)\" style=\"stroke:#ffa500; stroke-width:4; stroke-opacity:1; fill:none\" points=\"\n",
       "  175.024,532.585 416.994,635.715 658.964,368.802 900.935,432.429 1142.9,552.056 1384.88,449.715 1626.85,385.06 1868.82,500.906 2110.79,508.148 2352.76,429.602 \n",
       "  \n",
       "  \"/>\n",
       "<polyline clip-path=\"url(#clip3402)\" style=\"stroke:#ffa500; stroke-width:4; stroke-opacity:1; fill:none\" points=\"\n",
       "  175.024,446.908 416.994,797.697 658.964,435.555 900.935,586.818 1142.9,540.683 1384.88,194.562 1626.85,263.132 1868.82,276.047 2110.79,434.832 2352.76,286.743 \n",
       "  \n",
       "  \"/>\n",
       "<polyline clip-path=\"url(#clip3402)\" style=\"stroke:#ffa500; stroke-width:4; stroke-opacity:1; fill:none\" points=\"\n",
       "  175.024,416.263 416.994,498.31 658.964,527.864 900.935,450.053 1142.9,500.496 1384.88,320.087 1626.85,566.136 1868.82,545.859 2110.79,547.278 2352.76,667.409 \n",
       "  \n",
       "  \"/>\n",
       "<polyline clip-path=\"url(#clip3402)\" style=\"stroke:#ffa500; stroke-width:4; stroke-opacity:1; fill:none\" points=\"\n",
       "  175.024,339.987 416.994,688.032 658.964,483.546 900.935,335.455 1142.9,487.45 1384.88,148.825 1626.85,585.876 1868.82,539.533 2110.79,543.245 2352.76,588.973 \n",
       "  \n",
       "  \"/>\n",
       "<polyline clip-path=\"url(#clip3402)\" style=\"stroke:#ffa500; stroke-width:4; stroke-opacity:1; fill:none\" points=\"\n",
       "  175.024,631.945 416.994,517.302 658.964,304.851 900.935,249.04 1142.9,493.686 1384.88,325.046 1626.85,496.683 1868.82,292.703 2110.79,449.967 2352.76,444.596 \n",
       "  \n",
       "  \"/>\n",
       "<polyline clip-path=\"url(#clip3402)\" style=\"stroke:#ffa500; stroke-width:4; stroke-opacity:1; fill:none\" points=\"\n",
       "  175.024,746.053 416.994,841.873 658.964,612.937 900.935,276.179 1142.9,305.194 1384.88,337.951 1626.85,490.546 1868.82,195.058 2110.79,481.986 2352.76,542.651 \n",
       "  \n",
       "  \"/>\n",
       "<polyline clip-path=\"url(#clip3402)\" style=\"stroke:#ffa500; stroke-width:4; stroke-opacity:1; fill:none\" points=\"\n",
       "  175.024,475.241 416.994,687.799 658.964,412.093 900.935,513.664 1142.9,428.106 1384.88,253.948 1626.85,426.258 1868.82,318.588 2110.79,275.908 2352.76,459.872 \n",
       "  \n",
       "  \"/>\n",
       "<polyline clip-path=\"url(#clip3402)\" style=\"stroke:#ffa500; stroke-width:4; stroke-opacity:1; fill:none\" points=\"\n",
       "  175.024,416.453 416.994,855.576 658.964,490.753 900.935,488.582 1142.9,462.08 1384.88,213.884 1626.85,447.395 1868.82,212.773 2110.79,548.259 2352.76,390.402 \n",
       "  \n",
       "  \"/>\n",
       "<polyline clip-path=\"url(#clip3402)\" style=\"stroke:#ffa500; stroke-width:4; stroke-opacity:1; fill:none\" points=\"\n",
       "  175.024,663.953 416.994,670.277 658.964,451.35 900.935,323.388 1142.9,332.454 1384.88,337.977 1626.85,376.428 1868.82,313.086 2110.79,324.356 2352.76,529.428 \n",
       "  \n",
       "  \"/>\n",
       "<polyline clip-path=\"url(#clip3402)\" style=\"stroke:#ffa500; stroke-width:4; stroke-opacity:1; fill:none\" points=\"\n",
       "  175.024,454.585 416.994,505.121 658.964,583.091 900.935,328 1142.9,624.729 1384.88,237.046 1626.85,509.888 1868.82,274.07 2110.79,465.29 2352.76,662.167 \n",
       "  \n",
       "  \"/>\n",
       "<polyline clip-path=\"url(#clip3402)\" style=\"stroke:#ffa500; stroke-width:4; stroke-opacity:1; fill:none\" points=\"\n",
       "  175.024,545.079 416.994,694.994 658.964,427.259 900.935,323.855 1142.9,506.111 1384.88,288.63 1626.85,363.86 1868.82,285.224 2110.79,535.164 2352.76,346.696 \n",
       "  \n",
       "  \"/>\n",
       "<polyline clip-path=\"url(#clip3402)\" style=\"stroke:#ffa500; stroke-width:4; stroke-opacity:1; fill:none\" points=\"\n",
       "  175.024,711.486 416.994,744.292 658.964,541.427 900.935,446.185 1142.9,437.05 1384.88,306.911 1626.85,296.965 1868.82,220.93 2110.79,381.14 2352.76,559.126 \n",
       "  \n",
       "  \"/>\n",
       "<polyline clip-path=\"url(#clip3402)\" style=\"stroke:#ffa500; stroke-width:4; stroke-opacity:1; fill:none\" points=\"\n",
       "  175.024,667.631 416.994,835.814 658.964,545.034 900.935,515.515 1142.9,449.748 1384.88,384.449 1626.85,466.785 1868.82,397.863 2110.79,268.684 2352.76,479.922 \n",
       "  \n",
       "  \"/>\n",
       "<polyline clip-path=\"url(#clip3402)\" style=\"stroke:#ffa500; stroke-width:4; stroke-opacity:1; fill:none\" points=\"\n",
       "  175.024,599.149 416.994,682.225 658.964,416.104 900.935,334.592 1142.9,461.587 1384.88,308.276 1626.85,378.328 1868.82,263.196 2110.79,541.677 2352.76,308.966 \n",
       "  \n",
       "  \"/>\n",
       "<polyline clip-path=\"url(#clip3402)\" style=\"stroke:#ffa500; stroke-width:4; stroke-opacity:1; fill:none\" points=\"\n",
       "  175.024,611.87 416.994,436.247 658.964,229.297 900.935,383.383 1142.9,415.429 1384.88,397.086 1626.85,413.79 1868.82,424.338 2110.79,494.594 2352.76,571.025 \n",
       "  \n",
       "  \"/>\n",
       "<polyline clip-path=\"url(#clip3402)\" style=\"stroke:#ffa500; stroke-width:4; stroke-opacity:1; fill:none\" points=\"\n",
       "  175.024,592.144 416.994,770.141 658.964,409.21 900.935,455.83 1142.9,550.129 1384.88,387.937 1626.85,288.173 1868.82,332.7 2110.79,397.285 2352.76,302.87 \n",
       "  \n",
       "  \"/>\n",
       "<polyline clip-path=\"url(#clip3402)\" style=\"stroke:#ffa500; stroke-width:4; stroke-opacity:1; fill:none\" points=\"\n",
       "  175.024,400.184 416.994,644.285 658.964,418.049 900.935,352.668 1142.9,356.836 1384.88,89.2765 1626.85,301.083 1868.82,347.099 2110.79,492.974 2352.76,472.783 \n",
       "  \n",
       "  \"/>\n",
       "<polyline clip-path=\"url(#clip3402)\" style=\"stroke:#ffa500; stroke-width:4; stroke-opacity:1; fill:none\" points=\"\n",
       "  175.024,693.609 416.994,665.761 658.964,411.144 900.935,380.298 1142.9,244.522 1384.88,327.437 1626.85,417.602 1868.82,192.286 2110.79,498.755 2352.76,449.414 \n",
       "  \n",
       "  \"/>\n",
       "<polyline clip-path=\"url(#clip3402)\" style=\"stroke:#ffa500; stroke-width:4; stroke-opacity:1; fill:none\" points=\"\n",
       "  175.024,553.258 416.994,551.111 658.964,451.01 900.935,403.381 1142.9,534.8 1384.88,314.802 1626.85,456.668 1868.82,58.9906 2110.79,474.536 2352.76,663.099 \n",
       "  \n",
       "  \"/>\n",
       "<polyline clip-path=\"url(#clip3402)\" style=\"stroke:#ffa500; stroke-width:4; stroke-opacity:1; fill:none\" points=\"\n",
       "  175.024,357.219 416.994,775.116 658.964,401.788 900.935,404.131 1142.9,381.068 1384.88,187.238 1626.85,330.908 1868.82,282.142 2110.79,477.998 2352.76,373.621 \n",
       "  \n",
       "  \"/>\n",
       "<polyline clip-path=\"url(#clip3402)\" style=\"stroke:#ffa500; stroke-width:4; stroke-opacity:1; fill:none\" points=\"\n",
       "  175.024,483.527 416.994,738.709 658.964,432.235 900.935,259.493 1142.9,552.827 1384.88,290.591 1626.85,467.957 1868.82,430.036 2110.79,337.837 2352.76,351.974 \n",
       "  \n",
       "  \"/>\n",
       "<polyline clip-path=\"url(#clip3402)\" style=\"stroke:#ffa500; stroke-width:4; stroke-opacity:1; fill:none\" points=\"\n",
       "  175.024,704.254 416.994,588.497 658.964,486.855 900.935,203.961 1142.9,404.601 1384.88,354.731 1626.85,333.345 1868.82,339.395 2110.79,374.835 2352.76,593.795 \n",
       "  \n",
       "  \"/>\n",
       "<polyline clip-path=\"url(#clip3402)\" style=\"stroke:#ffa500; stroke-width:4; stroke-opacity:1; fill:none\" points=\"\n",
       "  175.024,716.86 416.994,696.425 658.964,569.98 900.935,260.005 1142.9,360.08 1384.88,377.269 1626.85,299.251 1868.82,305.481 2110.79,345.615 2352.76,594.553 \n",
       "  \n",
       "  \"/>\n",
       "<polyline clip-path=\"url(#clip3402)\" style=\"stroke:#ffa500; stroke-width:4; stroke-opacity:1; fill:none\" points=\"\n",
       "  175.024,247.007 416.994,647.366 658.964,591.39 900.935,545.494 1142.9,518.923 1384.88,265.449 1626.85,435.91 1868.82,338.609 2110.79,452.518 2352.76,524.125 \n",
       "  \n",
       "  \"/>\n",
       "<polyline clip-path=\"url(#clip3402)\" style=\"stroke:#ffa500; stroke-width:4; stroke-opacity:1; fill:none\" points=\"\n",
       "  175.024,466.372 416.994,713.667 658.964,760.293 900.935,375.643 1142.9,552.81 1384.88,236.79 1626.85,711.607 1868.82,295.822 2110.79,624.633 2352.76,680.217 \n",
       "  \n",
       "  \"/>\n",
       "<polyline clip-path=\"url(#clip3402)\" style=\"stroke:#ffa500; stroke-width:4; stroke-opacity:1; fill:none\" points=\"\n",
       "  175.024,317.433 416.994,787.011 658.964,475.845 900.935,267.528 1142.9,530.863 1384.88,260.423 1626.85,485.981 1868.82,392.424 2110.79,601.212 2352.76,419.461 \n",
       "  \n",
       "  \"/>\n",
       "<polyline clip-path=\"url(#clip3402)\" style=\"stroke:#ffa500; stroke-width:4; stroke-opacity:1; fill:none\" points=\"\n",
       "  175.024,499.189 416.994,563.88 658.964,462.164 900.935,392.644 1142.9,579.324 1384.88,295.157 1626.85,442.2 1868.82,81.0179 2110.79,468.023 2352.76,700.828 \n",
       "  \n",
       "  \"/>\n",
       "<polyline clip-path=\"url(#clip3402)\" style=\"stroke:#ffa500; stroke-width:4; stroke-opacity:1; fill:none\" points=\"\n",
       "  175.024,667.654 416.994,651.889 658.964,538.456 900.935,235.517 1142.9,396.824 1384.88,289.248 1626.85,527.768 1868.82,294.401 2110.79,422.309 2352.76,665.925 \n",
       "  \n",
       "  \"/>\n",
       "<polyline clip-path=\"url(#clip3402)\" style=\"stroke:#ffa500; stroke-width:4; stroke-opacity:1; fill:none\" points=\"\n",
       "  175.024,337.215 416.994,701.769 658.964,376.771 900.935,271.85 1142.9,375.362 1384.88,106.345 1626.85,342.033 1868.82,347.273 2110.79,518.928 2352.76,349.239 \n",
       "  \n",
       "  \"/>\n",
       "<polyline clip-path=\"url(#clip3402)\" style=\"stroke:#ffa500; stroke-width:4; stroke-opacity:1; fill:none\" points=\"\n",
       "  175.024,568.529 416.994,727.543 658.964,633.039 900.935,821.843 1142.9,343.461 1384.88,251.867 1626.85,434.952 1868.82,214.13 2110.79,642.62 2352.76,608.518 \n",
       "  \n",
       "  \"/>\n",
       "<polyline clip-path=\"url(#clip3402)\" style=\"stroke:#ffa500; stroke-width:4; stroke-opacity:1; fill:none\" points=\"\n",
       "  175.024,340.017 416.994,848.361 658.964,564.74 900.935,367.603 1142.9,397.549 1384.88,299.773 1626.85,500.356 1868.82,133.429 2110.79,579.458 2352.76,455.501 \n",
       "  \n",
       "  \"/>\n",
       "<polyline clip-path=\"url(#clip3402)\" style=\"stroke:#ffa500; stroke-width:4; stroke-opacity:1; fill:none\" points=\"\n",
       "  175.024,761.644 416.994,573.161 658.964,577.989 900.935,586.576 1142.9,368.156 1384.88,334.997 1626.85,557.307 1868.82,129.244 2110.79,585.513 2352.76,740.929 \n",
       "  \n",
       "  \"/>\n",
       "<polyline clip-path=\"url(#clip3402)\" style=\"stroke:#ffa500; stroke-width:4; stroke-opacity:1; fill:none\" points=\"\n",
       "  175.024,512.487 416.994,578.015 658.964,622.677 900.935,606.337 1142.9,542.117 1384.88,79.3531 1626.85,669.577 1868.82,306.139 2110.79,634.353 2352.76,718.608 \n",
       "  \n",
       "  \"/>\n",
       "<polyline clip-path=\"url(#clip3402)\" style=\"stroke:#ffa500; stroke-width:4; stroke-opacity:1; fill:none\" points=\"\n",
       "  175.024,842.317 416.994,623.122 658.964,417.628 900.935,485.494 1142.9,668.945 1384.88,512.446 1626.85,422.144 1868.82,373.365 2110.79,574.901 2352.76,581.674 \n",
       "  \n",
       "  \"/>\n",
       "<polyline clip-path=\"url(#clip3402)\" style=\"stroke:#ffa500; stroke-width:4; stroke-opacity:1; fill:none\" points=\"\n",
       "  175.024,661.461 416.994,777.054 658.964,490.173 900.935,274.532 1142.9,443.758 1384.88,478.489 1626.85,337.836 1868.82,306.794 2110.79,390.424 2352.76,396.759 \n",
       "  \n",
       "  \"/>\n",
       "<polyline clip-path=\"url(#clip3402)\" style=\"stroke:#ffa500; stroke-width:4; stroke-opacity:1; fill:none\" points=\"\n",
       "  175.024,517.336 416.994,586.786 658.964,630.368 900.935,527.663 1142.9,506.328 1384.88,96.5781 1626.85,717.208 1868.82,278.224 2110.79,648.53 2352.76,658.562 \n",
       "  \n",
       "  \"/>\n",
       "<polyline clip-path=\"url(#clip3402)\" style=\"stroke:#ffa500; stroke-width:4; stroke-opacity:1; fill:none\" points=\"\n",
       "  175.024,773.021 416.994,574.75 658.964,591.612 900.935,649.419 1142.9,528.369 1384.88,301.117 1626.85,643.719 1868.82,287.531 2110.79,671.175 2352.76,858.082 \n",
       "  \n",
       "  \"/>\n",
       "<polyline clip-path=\"url(#clip3402)\" style=\"stroke:#ffa500; stroke-width:4; stroke-opacity:1; fill:none\" points=\"\n",
       "  175.024,362.813 416.994,588.756 658.964,526.063 900.935,357.29 1142.9,492.057 1384.88,229.869 1626.85,535.991 1868.82,346.233 2110.79,543.514 2352.76,646.663 \n",
       "  \n",
       "  \"/>\n",
       "<polyline clip-path=\"url(#clip3402)\" style=\"stroke:#ffa500; stroke-width:4; stroke-opacity:1; fill:none\" points=\"\n",
       "  175.024,540.689 416.994,774.436 658.964,400.073 900.935,204.755 1142.9,426.3 1384.88,303.014 1626.85,481.418 1868.82,407.147 2110.79,499.254 2352.76,492.275 \n",
       "  \n",
       "  \"/>\n",
       "<polyline clip-path=\"url(#clip3402)\" style=\"stroke:#ffa500; stroke-width:4; stroke-opacity:1; fill:none\" points=\"\n",
       "  175.024,793.143 416.994,568.147 658.964,394.29 900.935,392.438 1142.9,233.217 1384.88,359.527 1626.85,466.396 1868.82,178.204 2110.79,522.603 2352.76,503.242 \n",
       "  \n",
       "  \"/>\n",
       "<polyline clip-path=\"url(#clip3402)\" style=\"stroke:#ffa500; stroke-width:4; stroke-opacity:1; fill:none\" points=\"\n",
       "  175.024,499.189 416.994,563.88 658.964,462.164 900.935,392.644 1142.9,579.324 1384.88,295.157 1626.85,442.2 1868.82,81.0179 2110.79,468.023 2352.76,700.828 \n",
       "  \n",
       "  \"/>\n",
       "<polyline clip-path=\"url(#clip3402)\" style=\"stroke:#ffa500; stroke-width:4; stroke-opacity:1; fill:none\" points=\"\n",
       "  175.024,309.949 416.994,699.717 658.964,532.501 900.935,311.532 1142.9,427.612 1384.88,302.785 1626.85,695.848 1868.82,314.255 2110.79,607.439 2352.76,671.172 \n",
       "  \n",
       "  \"/>\n",
       "<polyline clip-path=\"url(#clip3402)\" style=\"stroke:#ffa500; stroke-width:4; stroke-opacity:1; fill:none\" points=\"\n",
       "  175.024,589.154 416.994,598.963 658.964,559.874 900.935,392.867 1142.9,540.52 1384.88,314.84 1626.85,530.709 1868.82,265.914 2110.79,558.916 2352.76,680.594 \n",
       "  \n",
       "  \"/>\n",
       "<polyline clip-path=\"url(#clip3402)\" style=\"stroke:#ffa500; stroke-width:4; stroke-opacity:1; fill:none\" points=\"\n",
       "  175.024,448.894 416.994,474.101 658.964,523.764 900.935,384.532 1142.9,523.858 1384.88,369.795 1626.85,586.418 1868.82,284.051 2110.79,569.687 2352.76,815.772 \n",
       "  \n",
       "  \"/>\n",
       "<polyline clip-path=\"url(#clip3402)\" style=\"stroke:#ffa500; stroke-width:4; stroke-opacity:1; fill:none\" points=\"\n",
       "  175.024,619.959 416.994,430.236 658.964,537.164 900.935,488.888 1142.9,628.171 1384.88,463.338 1626.85,623.997 1868.82,300.567 2110.79,573.374 2352.76,912.653 \n",
       "  \n",
       "  \"/>\n",
       "<polyline clip-path=\"url(#clip3402)\" style=\"stroke:#ffa500; stroke-width:4; stroke-opacity:1; fill:none\" points=\"\n",
       "  175.024,522.636 416.994,544.868 658.964,438.844 900.935,555.585 1142.9,376.498 1384.88,230.509 1626.85,471.297 1868.82,337.072 2110.79,472.206 2352.76,716.206 \n",
       "  \n",
       "  \"/>\n",
       "<polyline clip-path=\"url(#clip3402)\" style=\"stroke:#ffa500; stroke-width:4; stroke-opacity:1; fill:none\" points=\"\n",
       "  175.024,773.021 416.994,574.75 658.964,591.612 900.935,649.419 1142.9,528.369 1384.88,301.117 1626.85,643.719 1868.82,287.531 2110.79,671.175 2352.76,858.082 \n",
       "  \n",
       "  \"/>\n",
       "<polyline clip-path=\"url(#clip3402)\" style=\"stroke:#ffa500; stroke-width:4; stroke-opacity:1; fill:none\" points=\"\n",
       "  175.024,671.739 416.994,834.322 658.964,522.75 900.935,480.49 1142.9,497.17 1384.88,319.268 1626.85,489.521 1868.82,301.011 2110.79,374.579 2352.76,435.627 \n",
       "  \n",
       "  \"/>\n",
       "<polyline clip-path=\"url(#clip3402)\" style=\"stroke:#ffa500; stroke-width:4; stroke-opacity:1; fill:none\" points=\"\n",
       "  175.024,584.843 416.994,818.985 658.964,747.784 900.935,824.346 1142.9,209.157 1384.88,268.929 1626.85,523.664 1868.82,278.103 2110.79,617.983 2352.76,808.94 \n",
       "  \n",
       "  \"/>\n",
       "<polyline clip-path=\"url(#clip3402)\" style=\"stroke:#ffa500; stroke-width:4; stroke-opacity:1; fill:none\" points=\"\n",
       "  175.024,582.763 416.994,652.443 658.964,659.952 900.935,550.694 1142.9,584.381 1384.88,149.533 1626.85,478.671 1868.82,282.476 2110.79,613.671 2352.76,718.489 \n",
       "  \n",
       "  \"/>\n",
       "<polyline clip-path=\"url(#clip3402)\" style=\"stroke:#ffa500; stroke-width:4; stroke-opacity:1; fill:none\" points=\"\n",
       "  175.024,682.577 416.994,480.31 658.964,531.667 900.935,510.374 1142.9,732.518 1384.88,468.046 1626.85,493.031 1868.82,421.171 2110.79,593.871 2352.76,764.415 \n",
       "  \n",
       "  \"/>\n",
       "<polyline clip-path=\"url(#clip3402)\" style=\"stroke:#ffa500; stroke-width:4; stroke-opacity:1; fill:none\" points=\"\n",
       "  175.024,362.384 416.994,868.345 658.964,501.907 900.935,477.845 1142.9,506.604 1384.88,194.238 1626.85,432.926 1868.82,234.8 2110.79,541.746 2352.76,428.131 \n",
       "  \n",
       "  \"/>\n",
       "<polyline clip-path=\"url(#clip3402)\" style=\"stroke:#ffa500; stroke-width:4; stroke-opacity:1; fill:none\" points=\"\n",
       "  175.024,605.721 416.994,701.424 658.964,431.73 900.935,371.864 1142.9,388.862 1384.88,354.568 1626.85,326.906 1868.82,224.685 2110.79,498.824 2352.76,266.343 \n",
       "  \n",
       "  \"/>\n",
       "<polyline clip-path=\"url(#clip3402)\" style=\"stroke:#ffa500; stroke-width:4; stroke-opacity:1; fill:none\" points=\"\n",
       "  175.024,670.997 416.994,589.501 658.964,448.506 900.935,345.731 1142.9,188.306 1384.88,240.856 1626.85,420.892 1868.82,243.635 2110.79,470.413 2352.76,363.711 \n",
       "  \n",
       "  \"/>\n",
       "<polyline clip-path=\"url(#clip3402)\" style=\"stroke:#ffa500; stroke-width:4; stroke-opacity:1; fill:none\" points=\"\n",
       "  175.024,530.431 416.994,650.387 658.964,408.493 900.935,381.545 1142.9,530.193 1384.88,233.758 1626.85,506.553 1868.82,252.29 2110.79,474.267 2352.76,605.408 \n",
       "  \n",
       "  \"/>\n",
       "<polyline clip-path=\"url(#clip3402)\" style=\"stroke:#ffa500; stroke-width:4; stroke-opacity:1; fill:none\" points=\"\n",
       "  175.024,682.577 416.994,480.31 658.964,531.667 900.935,510.374 1142.9,732.518 1384.88,468.046 1626.85,493.031 1868.82,421.171 2110.79,593.871 2352.76,764.415 \n",
       "  \n",
       "  \"/>\n",
       "<polyline clip-path=\"url(#clip3402)\" style=\"stroke:#ffa500; stroke-width:4; stroke-opacity:1; fill:none\" points=\"\n",
       "  175.024,517.336 416.994,586.786 658.964,630.368 900.935,527.663 1142.9,506.328 1384.88,96.5781 1626.85,717.208 1868.82,278.224 2110.79,648.53 2352.76,658.562 \n",
       "  \n",
       "  \"/>\n",
       "<polyline clip-path=\"url(#clip3402)\" style=\"stroke:#ffa500; stroke-width:4; stroke-opacity:1; fill:none\" points=\"\n",
       "  175.024,793.143 416.994,568.147 658.964,394.29 900.935,392.438 1142.9,233.217 1384.88,359.527 1626.85,466.396 1868.82,178.204 2110.79,522.603 2352.76,503.242 \n",
       "  \n",
       "  \"/>\n",
       "<polyline clip-path=\"url(#clip3402)\" style=\"stroke:#ffa500; stroke-width:4; stroke-opacity:1; fill:none\" points=\"\n",
       "  175.024,490.585 416.994,756.217 658.964,670.326 900.935,445.136 1142.9,647.345 1384.88,216.614 1626.85,803.639 1868.82,275.322 2110.79,662.099 2352.76,706.016 \n",
       "  \n",
       "  \"/>\n",
       "<polyline clip-path=\"url(#clip3402)\" style=\"stroke:#ffa500; stroke-width:4; stroke-opacity:1; fill:none\" points=\"\n",
       "  175.024,619.959 416.994,430.236 658.964,537.164 900.935,488.888 1142.9,628.171 1384.88,463.338 1626.85,623.997 1868.82,300.567 2110.79,573.374 2352.76,912.653 \n",
       "  \n",
       "  \"/>\n",
       "<polyline clip-path=\"url(#clip3402)\" style=\"stroke:#ffa500; stroke-width:4; stroke-opacity:1; fill:none\" points=\"\n",
       "  175.024,619.959 416.994,430.236 658.964,537.164 900.935,488.888 1142.9,628.171 1384.88,463.338 1626.85,623.997 1868.82,300.567 2110.79,573.374 2352.76,912.653 \n",
       "  \n",
       "  \"/>\n",
       "<polyline clip-path=\"url(#clip3402)\" style=\"stroke:#ffa500; stroke-width:4; stroke-opacity:1; fill:none\" points=\"\n",
       "  175.024,682.577 416.994,480.31 658.964,531.667 900.935,510.374 1142.9,732.518 1384.88,468.046 1626.85,493.031 1868.82,421.171 2110.79,593.871 2352.76,764.415 \n",
       "  \n",
       "  \"/>\n",
       "<polyline clip-path=\"url(#clip3402)\" style=\"stroke:#ffa500; stroke-width:4; stroke-opacity:1; fill:none\" points=\"\n",
       "  175.024,512.487 416.994,578.015 658.964,622.677 900.935,606.337 1142.9,542.117 1384.88,79.3531 1626.85,669.577 1868.82,306.139 2110.79,634.353 2352.76,718.608 \n",
       "  \n",
       "  \"/>\n",
       "<polyline clip-path=\"url(#clip3402)\" style=\"stroke:#ffa500; stroke-width:4; stroke-opacity:1; fill:none\" points=\"\n",
       "  175.024,362.384 416.994,868.345 658.964,501.907 900.935,477.845 1142.9,506.604 1384.88,194.238 1626.85,432.926 1868.82,234.8 2110.79,541.746 2352.76,428.131 \n",
       "  \n",
       "  \"/>\n",
       "<polyline clip-path=\"url(#clip3402)\" style=\"stroke:#ffa500; stroke-width:4; stroke-opacity:1; fill:none\" points=\"\n",
       "  175.024,773.021 416.994,574.75 658.964,591.612 900.935,649.419 1142.9,528.369 1384.88,301.117 1626.85,643.719 1868.82,287.531 2110.79,671.175 2352.76,858.082 \n",
       "  \n",
       "  \"/>\n",
       "<polyline clip-path=\"url(#clip3402)\" style=\"stroke:#ffa500; stroke-width:4; stroke-opacity:1; fill:none\" points=\"\n",
       "  175.024,592.339 416.994,455.699 658.964,597.609 900.935,477.697 1142.9,782.47 1384.88,384.087 1626.85,613.337 1868.82,341.652 2110.79,486.711 2352.76,862.103 \n",
       "  \n",
       "  \"/>\n",
       "<polyline clip-path=\"url(#clip3402)\" style=\"stroke:#ffa500; stroke-width:4; stroke-opacity:1; fill:none\" points=\"\n",
       "  175.024,584.843 416.994,818.985 658.964,747.784 900.935,824.346 1142.9,209.157 1384.88,268.929 1626.85,523.664 1868.82,278.103 2110.79,617.983 2352.76,808.94 \n",
       "  \n",
       "  \"/>\n",
       "</svg>\n"
      ]
     },
     "metadata": {},
     "output_type": "display_data"
    }
   ],
   "source": [
    "ymin = Inf\n",
    "ymax = -Inf\n",
    "function plot_pop(P)\n",
    "    global ymin = min(ymin, minimum([minimum(i.y) for i in P]))\n",
    "    global ymax = max(ymax, maximum([maximum(i.y) for i in P]))\n",
    "    plot(xlims=(1, n_objectives), ylims=(ymin, ymax))\n",
    "    ND = filter(indiv -> indiv.rank == 1, P)\n",
    "    dominated = filter(indiv->indiv.rank != 1, P)\n",
    "    for i in dominated\n",
    "        plot!(1:n_objectives, collect(i.y), legend=:none, color=:blue)\n",
    "    end\n",
    "    for i in ND\n",
    "        plot!(1:n_objectives, collect(i.y), legend=:none, color=:orange)\n",
    "    end\n",
    "    sleep(2.0)\n",
    "end\n",
    "\n",
    "non_dominated = nsga_max(popsize, 50, objective, init, fCV=constraint,\n",
    "    fplot=plot_pop, plotevery=10, showprogress=false);"
   ]
  },
  {
   "cell_type": "markdown",
   "metadata": {
    "slideshow": {
     "slide_type": "slide"
    }
   },
   "source": [
    "<div class=\"alert alert-success\">\n",
    "    <b>Exercise 4</b>\n",
    "    <br/>\n",
    "Gradually increase $K$, the number of objectives, and watch the number of non-dominated individuals in the population over evolution. What do you notice as $K$ increases?\n",
    "    <br/>\n",
    "</div>"
   ]
  }
 ],
 "metadata": {
  "celltoolbar": "Slideshow",
  "kernelspec": {
   "display_name": "Julia 1.4.1",
   "language": "julia",
   "name": "julia-1.4"
  },
  "language_info": {
   "file_extension": ".jl",
   "mimetype": "application/julia",
   "name": "julia",
   "version": "1.4.1"
  }
 },
 "nbformat": 4,
 "nbformat_minor": 2
}
